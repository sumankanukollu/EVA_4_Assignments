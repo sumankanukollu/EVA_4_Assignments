{
  "nbformat": 4,
  "nbformat_minor": 0,
  "metadata": {
    "colab": {
      "name": "EVA4_S12_tinyImagenet.ipynb",
      "provenance": [],
      "collapsed_sections": [],
      "include_colab_link": true
    },
    "kernelspec": {
      "name": "python3",
      "display_name": "Python 3"
    },
    "accelerator": "GPU",
    "widgets": {
      "application/vnd.jupyter.widget-state+json": {
        "c11c39c7e69840909b630c533e328fe5": {
          "model_module": "@jupyter-widgets/controls",
          "model_name": "HBoxModel",
          "state": {
            "_view_name": "HBoxView",
            "_dom_classes": [],
            "_model_name": "HBoxModel",
            "_view_module": "@jupyter-widgets/controls",
            "_model_module_version": "1.5.0",
            "_view_count": null,
            "_view_module_version": "1.5.0",
            "box_style": "",
            "layout": "IPY_MODEL_27b807f2716149dc98b061ee05fc12a1",
            "_model_module": "@jupyter-widgets/controls",
            "children": [
              "IPY_MODEL_632e3a700b9b481bb93861e837d6ade4",
              "IPY_MODEL_1dca19413bef4b9da5238c943b6964df"
            ]
          }
        },
        "27b807f2716149dc98b061ee05fc12a1": {
          "model_module": "@jupyter-widgets/base",
          "model_name": "LayoutModel",
          "state": {
            "_view_name": "LayoutView",
            "grid_template_rows": null,
            "right": null,
            "justify_content": null,
            "_view_module": "@jupyter-widgets/base",
            "overflow": null,
            "_model_module_version": "1.2.0",
            "_view_count": null,
            "flex_flow": null,
            "width": null,
            "min_width": null,
            "border": null,
            "align_items": null,
            "bottom": null,
            "_model_module": "@jupyter-widgets/base",
            "top": null,
            "grid_column": null,
            "overflow_y": null,
            "overflow_x": null,
            "grid_auto_flow": null,
            "grid_area": null,
            "grid_template_columns": null,
            "flex": null,
            "_model_name": "LayoutModel",
            "justify_items": null,
            "grid_row": null,
            "max_height": null,
            "align_content": null,
            "visibility": null,
            "align_self": null,
            "height": null,
            "min_height": null,
            "padding": null,
            "grid_auto_rows": null,
            "grid_gap": null,
            "max_width": null,
            "order": null,
            "_view_module_version": "1.2.0",
            "grid_template_areas": null,
            "object_position": null,
            "object_fit": null,
            "grid_auto_columns": null,
            "margin": null,
            "display": null,
            "left": null
          }
        },
        "632e3a700b9b481bb93861e837d6ade4": {
          "model_module": "@jupyter-widgets/controls",
          "model_name": "IntProgressModel",
          "state": {
            "_view_name": "ProgressView",
            "style": "IPY_MODEL_c855611bc1334d5b8550b032b5eb84ce",
            "_dom_classes": [],
            "description": "100%",
            "_model_name": "IntProgressModel",
            "bar_style": "success",
            "max": 100,
            "_view_module": "@jupyter-widgets/controls",
            "_model_module_version": "1.5.0",
            "value": 100,
            "_view_count": null,
            "_view_module_version": "1.5.0",
            "orientation": "horizontal",
            "min": 0,
            "description_tooltip": null,
            "_model_module": "@jupyter-widgets/controls",
            "layout": "IPY_MODEL_72c52e03c6ff44258c672a35d3100cb8"
          }
        },
        "1dca19413bef4b9da5238c943b6964df": {
          "model_module": "@jupyter-widgets/controls",
          "model_name": "HTMLModel",
          "state": {
            "_view_name": "HTMLView",
            "style": "IPY_MODEL_21d8bf7d73ef4ae2be9636fd523ebd85",
            "_dom_classes": [],
            "description": "",
            "_model_name": "HTMLModel",
            "placeholder": "​",
            "_view_module": "@jupyter-widgets/controls",
            "_model_module_version": "1.5.0",
            "value": " 100/100 [02:20&lt;00:00,  1.41s/it]",
            "_view_count": null,
            "_view_module_version": "1.5.0",
            "description_tooltip": null,
            "_model_module": "@jupyter-widgets/controls",
            "layout": "IPY_MODEL_6e16b57cf1f449f7a36ce4cb69850391"
          }
        },
        "c855611bc1334d5b8550b032b5eb84ce": {
          "model_module": "@jupyter-widgets/controls",
          "model_name": "ProgressStyleModel",
          "state": {
            "_view_name": "StyleView",
            "_model_name": "ProgressStyleModel",
            "description_width": "initial",
            "_view_module": "@jupyter-widgets/base",
            "_model_module_version": "1.5.0",
            "_view_count": null,
            "_view_module_version": "1.2.0",
            "bar_color": null,
            "_model_module": "@jupyter-widgets/controls"
          }
        },
        "72c52e03c6ff44258c672a35d3100cb8": {
          "model_module": "@jupyter-widgets/base",
          "model_name": "LayoutModel",
          "state": {
            "_view_name": "LayoutView",
            "grid_template_rows": null,
            "right": null,
            "justify_content": null,
            "_view_module": "@jupyter-widgets/base",
            "overflow": null,
            "_model_module_version": "1.2.0",
            "_view_count": null,
            "flex_flow": null,
            "width": null,
            "min_width": null,
            "border": null,
            "align_items": null,
            "bottom": null,
            "_model_module": "@jupyter-widgets/base",
            "top": null,
            "grid_column": null,
            "overflow_y": null,
            "overflow_x": null,
            "grid_auto_flow": null,
            "grid_area": null,
            "grid_template_columns": null,
            "flex": null,
            "_model_name": "LayoutModel",
            "justify_items": null,
            "grid_row": null,
            "max_height": null,
            "align_content": null,
            "visibility": null,
            "align_self": null,
            "height": null,
            "min_height": null,
            "padding": null,
            "grid_auto_rows": null,
            "grid_gap": null,
            "max_width": null,
            "order": null,
            "_view_module_version": "1.2.0",
            "grid_template_areas": null,
            "object_position": null,
            "object_fit": null,
            "grid_auto_columns": null,
            "margin": null,
            "display": null,
            "left": null
          }
        },
        "21d8bf7d73ef4ae2be9636fd523ebd85": {
          "model_module": "@jupyter-widgets/controls",
          "model_name": "DescriptionStyleModel",
          "state": {
            "_view_name": "StyleView",
            "_model_name": "DescriptionStyleModel",
            "description_width": "",
            "_view_module": "@jupyter-widgets/base",
            "_model_module_version": "1.5.0",
            "_view_count": null,
            "_view_module_version": "1.2.0",
            "_model_module": "@jupyter-widgets/controls"
          }
        },
        "6e16b57cf1f449f7a36ce4cb69850391": {
          "model_module": "@jupyter-widgets/base",
          "model_name": "LayoutModel",
          "state": {
            "_view_name": "LayoutView",
            "grid_template_rows": null,
            "right": null,
            "justify_content": null,
            "_view_module": "@jupyter-widgets/base",
            "overflow": null,
            "_model_module_version": "1.2.0",
            "_view_count": null,
            "flex_flow": null,
            "width": null,
            "min_width": null,
            "border": null,
            "align_items": null,
            "bottom": null,
            "_model_module": "@jupyter-widgets/base",
            "top": null,
            "grid_column": null,
            "overflow_y": null,
            "overflow_x": null,
            "grid_auto_flow": null,
            "grid_area": null,
            "grid_template_columns": null,
            "flex": null,
            "_model_name": "LayoutModel",
            "justify_items": null,
            "grid_row": null,
            "max_height": null,
            "align_content": null,
            "visibility": null,
            "align_self": null,
            "height": null,
            "min_height": null,
            "padding": null,
            "grid_auto_rows": null,
            "grid_gap": null,
            "max_width": null,
            "order": null,
            "_view_module_version": "1.2.0",
            "grid_template_areas": null,
            "object_position": null,
            "object_fit": null,
            "grid_auto_columns": null,
            "margin": null,
            "display": null,
            "left": null
          }
        }
      }
    }
  },
  "cells": [
    {
      "cell_type": "markdown",
      "metadata": {
        "id": "view-in-github",
        "colab_type": "text"
      },
      "source": [
        "<a href=\"https://colab.research.google.com/github/sumankanukollu/EVA_4_Assignments/blob/S_10_LRFinder_Misclassified_Cifar10/EVA4_S12_tinyImagenet.ipynb\" target=\"_parent\"><img src=\"https://colab.research.google.com/assets/colab-badge.svg\" alt=\"Open In Colab\"/></a>"
      ]
    },
    {
      "cell_type": "markdown",
      "metadata": {
        "id": "jeMW48N3OrsO",
        "colab_type": "text"
      },
      "source": [
        "# Sources:\n",
        "## [Paper](http://cs231n.stanford.edu/reports/2017/pdfs/930.pdf)\n",
        "## [Data Augmentation Techniques](https://pytorch.org/docs/stable/torchvision/transforms.html)"
      ]
    },
    {
      "cell_type": "markdown",
      "metadata": {
        "id": "ZE_KmYQnBfva",
        "colab_type": "text"
      },
      "source": [
        "# Mount Google drive"
      ]
    },
    {
      "cell_type": "code",
      "metadata": {
        "id": "s3xyUvBSSuiM",
        "colab_type": "code",
        "outputId": "fc69dcfa-b7bd-43ca-af49-33b9f3c473b8",
        "colab": {
          "base_uri": "https://localhost:8080/",
          "height": 121
        }
      },
      "source": [
        "%load_ext autoreload\n",
        "%autoreload 2\n",
        "  \n",
        "from google.colab import drive\n",
        "drive.mount(\"/content/drive\", force_remount=True)\n",
        "\n",
        "\n",
        "import sys,os\n",
        "from pathlib import Path\n",
        "\n",
        "\n",
        "homepath = Path('/content/drive/My Drive/pytorch_Framework_suman/')\n",
        "sys.path.append(str(homepath))\n",
        "\n",
        "sys.path.append(os.path.join(homepath,'lib'))\n",
        "print(sys.path)\n",
        "\n",
        "!ls\n"
      ],
      "execution_count": 25,
      "outputs": [
        {
          "output_type": "stream",
          "text": [
            "The autoreload extension is already loaded. To reload it, use:\n",
            "  %reload_ext autoreload\n",
            "Mounted at /content/drive\n",
            "['', '/env/python', '/usr/lib/python36.zip', '/usr/lib/python3.6', '/usr/lib/python3.6/lib-dynload', '/usr/local/lib/python3.6/dist-packages', '/usr/lib/python3/dist-packages', '/usr/local/lib/python3.6/dist-packages/IPython/extensions', '/root/.ipython', '/content/drive/My Drive/pytorch_Framework_suman', '/content/drive/My Drive/pytorch_Framework_suman/lib', '/content/drive/My Drive/pytorch_Framework_suman', '/content/drive/My Drive/pytorch_Framework_suman/lib']\n",
            "test  test_set\ttrain  train_set  val  wnids.txt  words.txt\n"
          ],
          "name": "stdout"
        }
      ]
    },
    {
      "cell_type": "markdown",
      "metadata": {
        "id": "Vth04kEXV3GU",
        "colab_type": "text"
      },
      "source": [
        "# Copy the tiny-Imagenet data set to colab \n",
        "[link](https://medium.com/datadriveninvestor/speed-up-your-image-training-on-google-colab-dc95ea1491cf)"
      ]
    },
    {
      "cell_type": "code",
      "metadata": {
        "id": "ZuRn3piPY_H9",
        "colab_type": "code",
        "outputId": "af81e1fa-c611-41de-ef20-266c2c9d5173",
        "colab": {
          "base_uri": "https://localhost:8080/",
          "height": 34
        }
      },
      "source": [
        "zip_path = os.path.join(homepath,'data/tinyImagenet/tiny-imagenet-200.zip')\n",
        "print('tiny-dataset zip file path is at : {}'.format(zip_path))"
      ],
      "execution_count": 26,
      "outputs": [
        {
          "output_type": "stream",
          "text": [
            "tiny-dataset zip file path is at : /content/drive/My Drive/pytorch_Framework_suman/data/tinyImagenet/tiny-imagenet-200.zip\n"
          ],
          "name": "stdout"
        }
      ]
    },
    {
      "cell_type": "code",
      "metadata": {
        "id": "9rCyrNYCaSYF",
        "colab_type": "code",
        "colab": {}
      },
      "source": [
        "if not os.path.exists(os.path.basename(zip_path).split('.zip')[0]):\n",
        "    !cp \"{zip_path}\" .\n",
        "    !unzip -q \"{os.path.basename(zip_path)}\"\n",
        "    !rm \"{os.path.basename(zip_path)}\""
      ],
      "execution_count": 0,
      "outputs": []
    },
    {
      "cell_type": "code",
      "metadata": {
        "id": "HcvbhaIUd5yF",
        "colab_type": "code",
        "colab": {}
      },
      "source": [
        "if os.getcwd() != '/content/tiny-imagenet-200':\n",
        "    os.chdir(os.path.basename(zip_path).split('.zip')[0])\n",
        "    !ls "
      ],
      "execution_count": 0,
      "outputs": []
    },
    {
      "cell_type": "markdown",
      "metadata": {
        "id": "8YGEvXZbH0NB",
        "colab_type": "text"
      },
      "source": [
        "# Initialize device"
      ]
    },
    {
      "cell_type": "code",
      "metadata": {
        "id": "WuFrQuGYHzUx",
        "colab_type": "code",
        "outputId": "f0f6119e-b94a-47e3-eb2b-8f2f1b7fe273",
        "colab": {
          "base_uri": "https://localhost:8080/",
          "height": 50
        }
      },
      "source": [
        "import torch\n",
        "\n",
        "use_cuda = torch.cuda.is_available()\n",
        "device = torch.device(\"cuda\" if use_cuda else \"cpu\")\n",
        "print(device)\n",
        "print(torch.cuda.is_available())"
      ],
      "execution_count": 29,
      "outputs": [
        {
          "output_type": "stream",
          "text": [
            "cuda\n",
            "True\n"
          ],
          "name": "stdout"
        }
      ]
    },
    {
      "cell_type": "markdown",
      "metadata": {
        "id": "rXlRnga6l4Sd",
        "colab_type": "text"
      },
      "source": [
        "# Split the dataset (train and validation) into 70+30"
      ]
    },
    {
      "cell_type": "code",
      "metadata": {
        "id": "Ra0e0HcSpVQ2",
        "colab_type": "code",
        "outputId": "eb457f31-fb3e-4ca4-8f9b-a5ea0bea3bdf",
        "colab": {
          "base_uri": "https://localhost:8080/",
          "height": 34
        }
      },
      "source": [
        "os.chdir('/content/')\n",
        "!ls\n"
      ],
      "execution_count": 30,
      "outputs": [
        {
          "output_type": "stream",
          "text": [
            "drive  sample_data  tiny-imagenet-200\n"
          ],
          "name": "stdout"
        }
      ]
    },
    {
      "cell_type": "code",
      "metadata": {
        "id": "Ko_Lx9ryl5Ds",
        "colab_type": "code",
        "colab": {}
      },
      "source": [
        "import io,glob,os,time,random\n",
        "from shutil import move\n",
        "from os.path import join\n",
        "from os import listdir,rmdir\n",
        "\n",
        "import scipy.ndimage as nd\n",
        "import numpy as np\n",
        "\n",
        "\n",
        "target_folder = './tiny-imagenet-200/val/'\n",
        "dest_folder = './tiny-imagenet-200/train/'\n",
        "\n",
        "val_dict={}\n",
        "\n",
        "with open('./tiny-imagenet-200/val/val_annotations.txt','r') as f:\n",
        "    for line in f.readlines():\n",
        "        splitline = line.split('\\t')\n",
        "        val_dict[splitline[0]] = splitline[1]\n",
        "    paths = glob.glob('./tiny-imagenet-200/val/images/*')\n",
        "  \n",
        "    for path in paths:\n",
        "        file = path.split('/')[-1].split('\\\\')[-1]\n",
        "        folder = val_dict[file]\n",
        "        dest = dest_folder + str(folder) + '/images/' + str(file)\n",
        "        move(path,dest)\n",
        "\t\t"
      ],
      "execution_count": 0,
      "outputs": []
    },
    {
      "cell_type": "code",
      "metadata": {
        "id": "yp4PlDittErh",
        "colab_type": "code",
        "colab": {}
      },
      "source": [
        "target_folder = './tiny-imagenet-200/train/'\n",
        "train_folder = './tiny-imagenet-200/train_set/'\n",
        "test_folder = './tiny-imagenet-200/test_set/'\n",
        " \n",
        "if not os.path.exists(train_folder) and not os.path.exists(test_folder):\n",
        "    os.mkdir(train_folder)\n",
        "    os.mkdir(test_folder)\n",
        " \n",
        "    paths = glob.glob('./tiny-imagenet-200/train/*')\n",
        "    \n",
        "    for path in paths:\n",
        "        folder = path.split('/')[-1].split('\\\\')[-1]\n",
        "        source = target_folder + str(folder + '/images/')\n",
        "        train_dest = train_folder + str(folder + '/')\n",
        "        test_dest = test_folder + str(folder + '/')\n",
        "\n",
        "        os.mkdir(train_dest)\n",
        "        os.mkdir(test_dest)\n",
        "        images = glob.glob(source + str('*'))\n",
        "        #print(len(images))\n",
        "        # making random\n",
        "        random.shuffle(images)\n",
        "      \n",
        "        test_imgs = images[:165].copy()\n",
        "        train_imgs = images[165:].copy()\n",
        "      \n",
        "        # moving 30% for validation\n",
        "        for image in test_imgs:\n",
        "          file = image.split('/')[-1].split('\\\\')[-1]\n",
        "          dest = test_dest + str(file)\n",
        "          move(image, dest)\n",
        "      \n",
        "        # moving 70% for training\n",
        "        for image in train_imgs:\n",
        "          file = image.split('/')[-1].split('\\\\')[-1]\n",
        "          dest = train_dest + str(file)\n",
        "          move(image, dest)"
      ],
      "execution_count": 0,
      "outputs": []
    },
    {
      "cell_type": "code",
      "metadata": {
        "id": "CQkVra8vukcU",
        "colab_type": "code",
        "outputId": "fad11b5e-0e0d-4b85-b704-70a89a7c5b8e",
        "colab": {
          "base_uri": "https://localhost:8080/",
          "height": 50
        }
      },
      "source": [
        "print('test_set dir len is : {}'.format(len(os.listdir('./tiny-imagenet-200/test_set/n01629819/'))))\n",
        "print('train_set dir len is : {}'.format(len(os.listdir('./tiny-imagenet-200/train_set/n01629819/'))))"
      ],
      "execution_count": 33,
      "outputs": [
        {
          "output_type": "stream",
          "text": [
            "test_set dir len is : 165\n",
            "train_set dir len is : 385\n"
          ],
          "name": "stdout"
        }
      ]
    },
    {
      "cell_type": "markdown",
      "metadata": {
        "id": "8L7oSo5ffAzn",
        "colab_type": "text"
      },
      "source": [
        "# Load train and validation dataset"
      ]
    },
    {
      "cell_type": "code",
      "metadata": {
        "id": "3mpuYSxhrxPc",
        "colab_type": "code",
        "colab": {}
      },
      "source": [
        "os.chdir('/content/tiny-imagenet-200')"
      ],
      "execution_count": 0,
      "outputs": []
    },
    {
      "cell_type": "markdown",
      "metadata": {
        "id": "W-s05j-7PyFG",
        "colab_type": "text"
      },
      "source": [
        "- **torchvision.transforms.RandomApply(transforms, p=0.5)** : \n",
        "      transforms (list or tuple) – list of transformations\n",
        "      p (python:float) – probability\n",
        "- **RandomCrop(size, padding=None, pad_if_needed=False, fill=0, padding_mode='constant')** : \n",
        "      Crop the given PIL Image at a random location.\n",
        "      padding_mode –\n",
        "\n",
        "      **Type of padding**. Should be: constant, edge, reflect or symmetric. Default is constant.\n",
        "\n",
        "         1. constant: pads with a constant value, this value is specified with fill\n",
        "\n",
        "         2. edge: pads with the last value on the edge of the image\n",
        "\n",
        "         3. reflect: pads with reflection of image (without repeating the last value on the edge)\n",
        "\n",
        "         4. padding [1, 2, 3, 4] with 2 elements on both sides in reflect mode will result in [3, 2, 1, 2, 3, 4, 3, 2]\n",
        "\n",
        "         5. symmetric: pads with reflection of image (repeating the last value on the edge)\n",
        "\n",
        "         6. padding [1, 2, 3, 4] with 2 elements on both sides in symmetric mode will result in [2, 1, 1, 2, 3, 4, 4, 3]\n",
        "\n",
        "\n",
        "- **CenterCrop(size)** : Crops the given PIL Image at the center.\n",
        "    size (sequence or python:int) – Desired output size of the crop. \n",
        "\n",
        "- **RandomHorizontalFlip(p=0.5)** : Horizontally flip the given PIL Image randomly with a given probability. \n",
        "    - p (python:float) – probability of the image being flipped. Default value is 0.5\n",
        "- "
      ]
    },
    {
      "cell_type": "code",
      "metadata": {
        "id": "qJEYcqINbEXu",
        "colab_type": "code",
        "colab": {}
      },
      "source": [
        "import torchvision\n",
        "import torch.utils.data as data\n",
        "from torchvision.datasets import ImageFolder\n",
        "import albumentations\n",
        "import torchvision.transforms as tt\n",
        "#from albumentations import (VerticalFlip, HorizontalFlip, Flip, RandomRotate90, Rotate, ShiftScaleRotate, CenterCrop, OpticalDistortion, GridDistortion, ElasticTransform, JpegCompression, HueSaturationValue,\n",
        "#                            RGBShift, RandomBrightness, RandomContrast, Blur, MotionBlur, MedianBlur, GaussNoise, CLAHE, ChannelShuffle, InvertImg, RandomGamma, ToGray, PadIfNeeded \n",
        "#                           )"
      ],
      "execution_count": 0,
      "outputs": []
    },
    {
      "cell_type": "markdown",
      "metadata": {
        "id": "nT_NOVXRdc1O",
        "colab_type": "text"
      },
      "source": [
        "# Add albumentation transformations"
      ]
    },
    {
      "cell_type": "code",
      "metadata": {
        "id": "S1QjGMpodcT6",
        "colab_type": "code",
        "colab": {}
      },
      "source": [
        "# tt.RandomApply(transforms, p=0.5)\n",
        "from lib.cutout import Cutout\n",
        "stats = ((0.4914, 0.4822, 0.4465), (0.2023, 0.1994, 0.2010))\n",
        "\n",
        "train_tfms = tt.Compose([tt.RandomCrop(56, padding=4, padding_mode='reflect'),\n",
        "                  tt.RandomHorizontalFlip(p=0.5),\n",
        "                  tt.RandomRotation(degrees=([-90,90]), resample=False, expand=False, center=None, fill=0),\n",
        "                  tt.ColorJitter(brightness=([0.7,1.3]), contrast=([0.7,1.3]), saturation=([0.7,1.3]), hue=0),\n",
        "                  #tt.RandomAffine(degrees=([-90,90]), translate=([0,1]), scale=([56,56]), shear=None, resample=False, fillcolor=0),\n",
        "                  #tt.functional.adjust_gamma(img, gamma, gain=1),\n",
        "                  tt.ToTensor(), \n",
        "                  Cutout(n_holes=2, length=16),\n",
        "                  tt.Normalize(*stats)\n",
        "                  \n",
        "                  \n",
        "])\n",
        "\n",
        "valid_tfms = tt.Compose([tt.CenterCrop(56),\n",
        "                            tt.ToTensor(),\n",
        "                            tt.Normalize(*stats)\n",
        "])\n"
      ],
      "execution_count": 0,
      "outputs": []
    },
    {
      "cell_type": "code",
      "metadata": {
        "id": "O1hFEolReDdh",
        "colab_type": "code",
        "colab": {}
      },
      "source": [
        "train_ds = ImageFolder('train_set', transform=train_tfms)\n",
        "\n",
        "test_ds = ImageFolder('test_set', transform=valid_tfms)"
      ],
      "execution_count": 0,
      "outputs": []
    },
    {
      "cell_type": "code",
      "metadata": {
        "id": "R5qsrcCLgUwM",
        "colab_type": "code",
        "outputId": "1c52af20-e9d4-4d58-e569-9f7f6796bc20",
        "colab": {
          "base_uri": "https://localhost:8080/",
          "height": 454
        }
      },
      "source": [
        "print('####Validation Dataset is : \\n\\t\\n{}'.format(train_ds))\n",
        "print('####Validation Dataset is : \\n\\t\\n{}'.format(test_ds))"
      ],
      "execution_count": 38,
      "outputs": [
        {
          "output_type": "stream",
          "text": [
            "####Validation Dataset is : \n",
            "\t\n",
            "Dataset ImageFolder\n",
            "    Number of datapoints: 77000\n",
            "    Root location: train_set\n",
            "    StandardTransform\n",
            "Transform: Compose(\n",
            "               RandomCrop(size=(56, 56), padding=4)\n",
            "               RandomHorizontalFlip(p=0.5)\n",
            "               RandomRotation(degrees=[-90, 90], resample=False, expand=False)\n",
            "               ColorJitter(brightness=[0.7, 1.3], contrast=[0.7, 1.3], saturation=[0.7, 1.3], hue=None)\n",
            "               ToTensor()\n",
            "               <lib.cutout.Cutout object at 0x7fb5ed981860>\n",
            "               Normalize(mean=(0.4914, 0.4822, 0.4465), std=(0.2023, 0.1994, 0.201))\n",
            "           )\n",
            "####Validation Dataset is : \n",
            "\t\n",
            "Dataset ImageFolder\n",
            "    Number of datapoints: 33000\n",
            "    Root location: test_set\n",
            "    StandardTransform\n",
            "Transform: Compose(\n",
            "               CenterCrop(size=(56, 56))\n",
            "               ToTensor()\n",
            "               Normalize(mean=(0.4914, 0.4822, 0.4465), std=(0.2023, 0.1994, 0.201))\n",
            "           )\n"
          ],
          "name": "stdout"
        }
      ]
    },
    {
      "cell_type": "markdown",
      "metadata": {
        "id": "0ApN7fPnghsN",
        "colab_type": "text"
      },
      "source": [
        "# Print few images from the train dataset"
      ]
    },
    {
      "cell_type": "code",
      "metadata": {
        "id": "FCHIzza5py1f",
        "colab_type": "code",
        "colab": {}
      },
      "source": [
        "from matplotlib import pyplot as plt\n",
        "def show_imgs(img,label):\n",
        "    print('Image label is : {}'.format(train_ds.classes[label]))\n",
        "    plt.imshow(img.permute(1, 2, 0))\n",
        "\n"
      ],
      "execution_count": 0,
      "outputs": []
    },
    {
      "cell_type": "code",
      "metadata": {
        "id": "sbHzBG_Ofr5F",
        "colab_type": "code",
        "outputId": "82f7d6f3-a6c4-4b15-f0be-faf546d8dd9f",
        "colab": {
          "base_uri": "https://localhost:8080/",
          "height": 301
        }
      },
      "source": [
        "show_imgs(*test_ds[0])"
      ],
      "execution_count": 40,
      "outputs": [
        {
          "output_type": "stream",
          "text": [
            "Clipping input data to the valid range for imshow with RGB data ([0..1] for floats or [0..255] for integers).\n"
          ],
          "name": "stderr"
        },
        {
          "output_type": "stream",
          "text": [
            "Image label is : n01443537\n"
          ],
          "name": "stdout"
        },
        {
          "output_type": "display_data",
          "data": {
            "image/png": "[encoded data removed]",
            "text/plain": [
              "<Figure size 432x288 with 1 Axes>"
            ]
          },
          "metadata": {
            "tags": [],
            "needs_background": "light"
          }
        }
      ]
    },
    {
      "cell_type": "markdown",
      "metadata": {
        "id": "qA5Zu0wCi-Hz",
        "colab_type": "text"
      },
      "source": [
        "# Print few images from the train dataloader and test data loader"
      ]
    },
    {
      "cell_type": "code",
      "metadata": {
        "id": "HrCjzDblwltR",
        "colab_type": "code",
        "colab": {}
      },
      "source": [
        "from torch.utils.data import DataLoader\n",
        "batch_size = 512\n",
        "\n",
        "# PyTorch data loaders\n",
        "train_dl = DataLoader(train_ds, batch_size, shuffle=True, \n",
        "                      num_workers=8, pin_memory=True)\n",
        "test_dl = DataLoader(test_ds, batch_size, shuffle=False, \n",
        "                      num_workers=8, pin_memory=True)"
      ],
      "execution_count": 0,
      "outputs": []
    },
    {
      "cell_type": "code",
      "metadata": {
        "id": "Q45Tr82wh2LY",
        "colab_type": "code",
        "colab": {}
      },
      "source": [
        "from torchvision.utils import make_grid\n",
        "import matplotlib.pyplot as plt"
      ],
      "execution_count": 0,
      "outputs": []
    },
    {
      "cell_type": "code",
      "metadata": {
        "id": "cDLl48xeh5CP",
        "colab_type": "code",
        "colab": {}
      },
      "source": [
        "def show_batch(dl,numOfImagesToDisplay=10,imgsPerRow=5):\n",
        "    for images, labels in dl:\n",
        "        fig, ax = plt.subplots(figsize=(26, 26))\n",
        "        ax.set_xticks([]); ax.set_yticks([])\n",
        "        ax.imshow(make_grid(images[:numOfImagesToDisplay], imgsPerRow).permute(1, 2, 0))\n",
        "        break\n"
      ],
      "execution_count": 0,
      "outputs": []
    },
    {
      "cell_type": "markdown",
      "metadata": {
        "id": "dOhhHvWAPXym",
        "colab_type": "text"
      },
      "source": [
        "## Print few images from Train DataLoader"
      ]
    },
    {
      "cell_type": "code",
      "metadata": {
        "id": "Nz-MWwZLh6Gy",
        "colab_type": "code",
        "outputId": "1490afca-df87-46b6-cb8e-66ae3b3624c8",
        "colab": {
          "base_uri": "https://localhost:8080/",
          "height": 492
        }
      },
      "source": [
        "show_batch(train_dl)"
      ],
      "execution_count": 44,
      "outputs": [
        {
          "output_type": "stream",
          "text": [
            "Clipping input data to the valid range for imshow with RGB data ([0..1] for floats or [0..255] for integers).\n"
          ],
          "name": "stderr"
        },
        {
          "output_type": "display_data",
          "data": {
            "image/png": "[encoded data removed]",
            "text/plain": [
              "<Figure size 1872x1872 with 1 Axes>"
            ]
          },
          "metadata": {
            "tags": []
          }
        }
      ]
    },
    {
      "cell_type": "markdown",
      "metadata": {
        "id": "jM5C7Y65PjN3",
        "colab_type": "text"
      },
      "source": [
        "## print few Images from Test Data Loader"
      ]
    },
    {
      "cell_type": "code",
      "metadata": {
        "id": "DZMc3bJBHTjc",
        "colab_type": "code",
        "colab": {
          "base_uri": "https://localhost:8080/",
          "height": 492
        },
        "outputId": "5b68fe1f-6785-40c7-a4f2-ccff9168301a"
      },
      "source": [
        "show_batch(test_dl)"
      ],
      "execution_count": 45,
      "outputs": [
        {
          "output_type": "stream",
          "text": [
            "Clipping input data to the valid range for imshow with RGB data ([0..1] for floats or [0..255] for integers).\n"
          ],
          "name": "stderr"
        },
        {
          "output_type": "display_data",
          "data": {
            "image/png": "[encoded data removed]",
            "text/plain": [
              "<Figure size 1872x1872 with 1 Axes>"
            ]
          },
          "metadata": {
            "tags": []
          }
        }
      ]
    },
    {
      "cell_type": "markdown",
      "metadata": {
        "id": "PygnleO6IZZ7",
        "colab_type": "text"
      },
      "source": [
        "# Test the model what we have written"
      ]
    },
    {
      "cell_type": "code",
      "metadata": {
        "id": "XXBuoOTRkrwv",
        "colab_type": "code",
        "colab": {}
      },
      "source": [
        "import torch.nn as nn\n",
        "import torch.nn.functional as F\n",
        "from torchsummary import summary"
      ],
      "execution_count": 0,
      "outputs": []
    },
    {
      "cell_type": "code",
      "metadata": {
        "id": "0uuxVXZgFqnS",
        "colab_type": "code",
        "outputId": "dfaf276c-b04c-41ca-9447-3ff079cb3fdf",
        "colab": {
          "base_uri": "https://localhost:8080/",
          "height": 1000
        }
      },
      "source": [
        "import torchvision.models as models\n",
        "\n",
        "model = models.resnet18()\n",
        "\n",
        "#Finetune Final few layers to adjust for tiny imagenet input\n",
        "model.avgpool = nn.AdaptiveAvgPool2d(1)\n",
        "num_ftrs = model.fc.in_features\n",
        "model.fc = nn.Linear(num_ftrs, 200)\n",
        "model = model.to(device)\n",
        "\n",
        "summary(model,(3,64,64))"
      ],
      "execution_count": 46,
      "outputs": [
        {
          "output_type": "stream",
          "text": [
            "----------------------------------------------------------------\n",
            "        Layer (type)               Output Shape         Param #\n",
            "================================================================\n",
            "            Conv2d-1           [-1, 64, 32, 32]           9,408\n",
            "       BatchNorm2d-2           [-1, 64, 32, 32]             128\n",
            "              ReLU-3           [-1, 64, 32, 32]               0\n",
            "         MaxPool2d-4           [-1, 64, 16, 16]               0\n",
            "            Conv2d-5           [-1, 64, 16, 16]          36,864\n",
            "       BatchNorm2d-6           [-1, 64, 16, 16]             128\n",
            "              ReLU-7           [-1, 64, 16, 16]               0\n",
            "            Conv2d-8           [-1, 64, 16, 16]          36,864\n",
            "       BatchNorm2d-9           [-1, 64, 16, 16]             128\n",
            "             ReLU-10           [-1, 64, 16, 16]               0\n",
            "       BasicBlock-11           [-1, 64, 16, 16]               0\n",
            "           Conv2d-12           [-1, 64, 16, 16]          36,864\n",
            "      BatchNorm2d-13           [-1, 64, 16, 16]             128\n",
            "             ReLU-14           [-1, 64, 16, 16]               0\n",
            "           Conv2d-15           [-1, 64, 16, 16]          36,864\n",
            "      BatchNorm2d-16           [-1, 64, 16, 16]             128\n",
            "             ReLU-17           [-1, 64, 16, 16]               0\n",
            "       BasicBlock-18           [-1, 64, 16, 16]               0\n",
            "           Conv2d-19            [-1, 128, 8, 8]          73,728\n",
            "      BatchNorm2d-20            [-1, 128, 8, 8]             256\n",
            "             ReLU-21            [-1, 128, 8, 8]               0\n",
            "           Conv2d-22            [-1, 128, 8, 8]         147,456\n",
            "      BatchNorm2d-23            [-1, 128, 8, 8]             256\n",
            "           Conv2d-24            [-1, 128, 8, 8]           8,192\n",
            "      BatchNorm2d-25            [-1, 128, 8, 8]             256\n",
            "             ReLU-26            [-1, 128, 8, 8]               0\n",
            "       BasicBlock-27            [-1, 128, 8, 8]               0\n",
            "           Conv2d-28            [-1, 128, 8, 8]         147,456\n",
            "      BatchNorm2d-29            [-1, 128, 8, 8]             256\n",
            "             ReLU-30            [-1, 128, 8, 8]               0\n",
            "           Conv2d-31            [-1, 128, 8, 8]         147,456\n",
            "      BatchNorm2d-32            [-1, 128, 8, 8]             256\n",
            "             ReLU-33            [-1, 128, 8, 8]               0\n",
            "       BasicBlock-34            [-1, 128, 8, 8]               0\n",
            "           Conv2d-35            [-1, 256, 4, 4]         294,912\n",
            "      BatchNorm2d-36            [-1, 256, 4, 4]             512\n",
            "             ReLU-37            [-1, 256, 4, 4]               0\n",
            "           Conv2d-38            [-1, 256, 4, 4]         589,824\n",
            "      BatchNorm2d-39            [-1, 256, 4, 4]             512\n",
            "           Conv2d-40            [-1, 256, 4, 4]          32,768\n",
            "      BatchNorm2d-41            [-1, 256, 4, 4]             512\n",
            "             ReLU-42            [-1, 256, 4, 4]               0\n",
            "       BasicBlock-43            [-1, 256, 4, 4]               0\n",
            "           Conv2d-44            [-1, 256, 4, 4]         589,824\n",
            "      BatchNorm2d-45            [-1, 256, 4, 4]             512\n",
            "             ReLU-46            [-1, 256, 4, 4]               0\n",
            "           Conv2d-47            [-1, 256, 4, 4]         589,824\n",
            "      BatchNorm2d-48            [-1, 256, 4, 4]             512\n",
            "             ReLU-49            [-1, 256, 4, 4]               0\n",
            "       BasicBlock-50            [-1, 256, 4, 4]               0\n",
            "           Conv2d-51            [-1, 512, 2, 2]       1,179,648\n",
            "      BatchNorm2d-52            [-1, 512, 2, 2]           1,024\n",
            "             ReLU-53            [-1, 512, 2, 2]               0\n",
            "           Conv2d-54            [-1, 512, 2, 2]       2,359,296\n",
            "      BatchNorm2d-55            [-1, 512, 2, 2]           1,024\n",
            "           Conv2d-56            [-1, 512, 2, 2]         131,072\n",
            "      BatchNorm2d-57            [-1, 512, 2, 2]           1,024\n",
            "             ReLU-58            [-1, 512, 2, 2]               0\n",
            "       BasicBlock-59            [-1, 512, 2, 2]               0\n",
            "           Conv2d-60            [-1, 512, 2, 2]       2,359,296\n",
            "      BatchNorm2d-61            [-1, 512, 2, 2]           1,024\n",
            "             ReLU-62            [-1, 512, 2, 2]               0\n",
            "           Conv2d-63            [-1, 512, 2, 2]       2,359,296\n",
            "      BatchNorm2d-64            [-1, 512, 2, 2]           1,024\n",
            "             ReLU-65            [-1, 512, 2, 2]               0\n",
            "       BasicBlock-66            [-1, 512, 2, 2]               0\n",
            "AdaptiveAvgPool2d-67            [-1, 512, 1, 1]               0\n",
            "           Linear-68                  [-1, 200]         102,600\n",
            "================================================================\n",
            "Total params: 11,279,112\n",
            "Trainable params: 11,279,112\n",
            "Non-trainable params: 0\n",
            "----------------------------------------------------------------\n",
            "Input size (MB): 0.05\n",
            "Forward/backward pass size (MB): 5.13\n",
            "Params size (MB): 43.03\n",
            "Estimated Total Size (MB): 48.20\n",
            "----------------------------------------------------------------\n"
          ],
          "name": "stdout"
        }
      ]
    },
    {
      "cell_type": "code",
      "metadata": {
        "id": "3tOJWjvWKMii",
        "colab_type": "code",
        "outputId": "ee5a1f6c-2bc4-4167-abb0-e7b0c8ca4156",
        "colab": {
          "base_uri": "https://localhost:8080/",
          "height": 50
        }
      },
      "source": [
        "for images, labels in train_dl:\n",
        "    images, labels = images.cuda(), labels.cuda()\n",
        "    print('images.shape:', images.shape)\n",
        "    out = model(images)\n",
        "    print('out.shape:', out.shape)\n",
        "    break"
      ],
      "execution_count": 47,
      "outputs": [
        {
          "output_type": "stream",
          "text": [
            "images.shape: torch.Size([512, 3, 56, 56])\n",
            "out.shape: torch.Size([512, 200])\n"
          ],
          "name": "stdout"
        }
      ]
    },
    {
      "cell_type": "markdown",
      "metadata": {
        "id": "oKYHzUv_Hzk8",
        "colab_type": "text"
      },
      "source": [
        "# Implementation of One cycle policy"
      ]
    },
    {
      "cell_type": "code",
      "metadata": {
        "id": "OGGo6AViH8J4",
        "colab_type": "code",
        "colab": {}
      },
      "source": [
        "!pip install torch-lr-finder -v --global-option=\"amp\""
      ],
      "execution_count": 0,
      "outputs": []
    },
    {
      "cell_type": "code",
      "metadata": {
        "id": "9abuhRsyH0zY",
        "colab_type": "code",
        "colab": {
          "base_uri": "https://localhost:8080/",
          "height": 349,
          "referenced_widgets": [
            "c11c39c7e69840909b630c533e328fe5",
            "27b807f2716149dc98b061ee05fc12a1",
            "632e3a700b9b481bb93861e837d6ade4",
            "1dca19413bef4b9da5238c943b6964df",
            "c855611bc1334d5b8550b032b5eb84ce",
            "72c52e03c6ff44258c672a35d3100cb8",
            "21d8bf7d73ef4ae2be9636fd523ebd85",
            "6e16b57cf1f449f7a36ce4cb69850391"
          ]
        },
        "outputId": "295b0e97-e391-41f7-dab9-618cbd260774"
      },
      "source": [
        "# LR range test\n",
        "from torch_lr_finder import LRFinder\n",
        "import torch.optim as optim\n",
        "\n",
        "criterion = nn.CrossEntropyLoss()\n",
        "optimizer = optim.SGD(model.parameters(), lr=1e-7, momentum=0.9)\n",
        "\n",
        "lr_finder = LRFinder(model, optimizer, criterion, device=\"cuda\")\n",
        "lr_finder.range_test(train_dl, start_lr=1e-7,end_lr=10, num_iter=100, step_mode=\"exp\")\n",
        "lr_finder.plot(log_lr=True)\n",
        "lr_finder.reset()"
      ],
      "execution_count": 49,
      "outputs": [
        {
          "output_type": "display_data",
          "data": {
            "application/vnd.jupyter.widget-view+json": {
              "model_id": "c11c39c7e69840909b630c533e328fe5",
              "version_minor": 0,
              "version_major": 2
            },
            "text/plain": [
              "HBox(children=(IntProgress(value=0), HTML(value='')))"
            ]
          },
          "metadata": {
            "tags": []
          }
        },
        {
          "output_type": "stream",
          "text": [
            "\n",
            "Learning rate search finished. See the graph with {finder_name}.plot()\n"
          ],
          "name": "stdout"
        },
        {
          "output_type": "display_data",
          "data": {
            "image/png": "[encoded data removed]",
            "text/plain": [
              "<Figure size 432x288 with 1 Axes>"
            ]
          },
          "metadata": {
            "tags": [],
            "needs_background": "light"
          }
        }
      ]
    },
    {
      "cell_type": "code",
      "metadata": {
        "id": "gxACLIacJ-eO",
        "colab_type": "code",
        "colab": {
          "base_uri": "https://localhost:8080/",
          "height": 101
        },
        "outputId": "d247182a-ea73-406f-9ba9-d499857f8944"
      },
      "source": [
        "print('Min loss value is : {} \\nMin LR value is   : {}'.format(min(lr_finder.history['loss']),format(min(lr_finder.history['lr']),'.10f')))\n",
        "\n",
        "print('Min loss observed at index : {}'.format(lr_finder.history['loss'].index(min(lr_finder.history['loss']))))\n",
        "print('so corresponding LR value at that index is--> LRmax : {}'.format(lr_finder.history['lr'][lr_finder.history['loss'].index(min(lr_finder.history['loss']))]))\n",
        "lrmax = lr_finder.history['lr'][lr_finder.history['loss'].index(min(lr_finder.history['loss']))]\n",
        "lrmax = float('{:4f}'.format(lrmax))\n",
        "print(lrmax)"
      ],
      "execution_count": 50,
      "outputs": [
        {
          "output_type": "stream",
          "text": [
            "Min loss value is : 5.387284434885325 \n",
            "Min LR value is   : 0.0000001445\n",
            "Min loss observed at index : 67\n",
            "so corresponding LR value at that index is--> LRmax : 0.03311311214825908\n",
            "0.033113\n"
          ],
          "name": "stdout"
        }
      ]
    },
    {
      "cell_type": "markdown",
      "metadata": {
        "id": "K46ZWOv1WFQ7",
        "colab_type": "text"
      },
      "source": [
        "[Description for OCP](https://pytorch.org/docs/stable/_modules/torch/optim/lr_scheduler.html#OneCycleLR)"
      ]
    },
    {
      "cell_type": "code",
      "metadata": {
        "id": "v5MIEUThKXkN",
        "colab_type": "code",
        "colab": {}
      },
      "source": [
        "from torch.optim.lr_scheduler import OneCycleLR\n",
        "\n",
        "scheduler = OneCycleLR(optimizer, max_lr = lrmax, total_steps=50, epochs=\n",
        "                       None, steps_per_epoch=None, pct_start=0.5, anneal_strategy='linear', \n",
        "                       cycle_momentum=True, base_momentum=0.85, max_momentum=0.95, div_factor=10,final_div_factor=10)"
      ],
      "execution_count": 0,
      "outputs": []
    },
    {
      "cell_type": "code",
      "metadata": {
        "id": "NyE2SDTiLOGI",
        "colab_type": "code",
        "outputId": "c6caa36c-5245-44a0-ce83-61a50f153406",
        "colab": {
          "base_uri": "https://localhost:8080/",
          "height": 1000
        }
      },
      "source": [
        "trainaccuracies = []\n",
        "trainlosses = []\n",
        "vallosses = []\n",
        "valaccuracies = []\n",
        "misclassifieditems = []\n",
        "lr_values = []\n",
        "\n",
        "from lib import trainTestMethods\n",
        "for epoch in range(1,20):\n",
        "    print(\"\\nEPOCH:\", epoch,'LR:',optimizer.param_groups[0]['lr'])\n",
        "    lr_values.append(optimizer.param_groups[0]['lr'])\n",
        "    trainTestMethods.trainWithAccPlt(network=model, trainloader=train_dl, device='cuda', optimizer=optimizer, criterion=criterion, trainaccuracies=trainaccuracies, trainlosses=trainlosses, epoch=epoch)\n",
        "    scheduler.step()\n",
        "    testloss = trainTestMethods.testWithAccPlt(network=model, testloader=test_dl, device='cuda', criterion=criterion, valaccuracies=valaccuracies, vallosses=vallosses, epoch=epoch)"
      ],
      "execution_count": 52,
      "outputs": [
        {
          "output_type": "stream",
          "text": [
            "\n",
            "EPOCH: 1 LR: 0.0033112999999999997\n",
            "\n",
            "Epoch: 1\n",
            " [================================================================>]  Step: 541ms | Tot: 3m21s | Train >> Loss: 5.282 | Acc: 0.932% (718/77000) 151/151 \n",
            " [================================================================>]  Step: 54ms | Tot: 15s598ms | Test >> Loss: 5.144 | Acc: 1.718% (567/33000) 65/65 \n",
            "0.010132931463646166\n",
            "\n",
            "EPOCH: 2 LR: 0.004553037499999999\n",
            "\n",
            "Epoch: 2\n",
            " [================================================================>]  Step: 525ms | Tot: 3m20s | Train >> Loss: 5.043 | Acc: 2.405% (1852/77000) 151/151 \n",
            " [================================================================>]  Step: 57ms | Tot: 15s575ms | Test >> Loss: 4.874 | Acc: 3.867% (1276/33000) 65/65 \n",
            "0.00959969027114637\n",
            "\n",
            "EPOCH: 3 LR: 0.005794774999999999\n",
            "\n",
            "Epoch: 3\n",
            " [================================================================>]  Step: 543ms | Tot: 3m20s | Train >> Loss: 4.798 | Acc: 4.555% (3507/77000) 151/151 \n",
            " [================================================================>]  Step: 58ms | Tot: 15s467ms | Test >> Loss: 4.646 | Acc: 6.236% (2058/33000) 65/65 \n",
            "0.00915101764418862\n",
            "\n",
            "EPOCH: 4 LR: 0.0070365125\n",
            "\n",
            "Epoch: 4\n",
            " [================================================================>]  Step: 523ms | Tot: 3m20s | Train >> Loss: 4.642 | Acc: 6.199% (4773/77000) 151/151 \n",
            " [================================================================>]  Step: 55ms | Tot: 15s442ms | Test >> Loss: 4.518 | Acc: 7.503% (2476/33000) 65/65 \n",
            "0.008899893124898275\n",
            "\n",
            "EPOCH: 5 LR: 0.00827825\n",
            "\n",
            "Epoch: 5\n",
            " [================================================================>]  Step: 539ms | Tot: 3m21s | Train >> Loss: 4.511 | Acc: 7.808% (6012/77000) 151/151 \n",
            " [================================================================>]  Step: 54ms | Tot: 15s310ms | Test >> Loss: 4.397 | Acc: 9.339% (3082/33000) 65/65 \n",
            "0.008661636200818149\n",
            "\n",
            "EPOCH: 6 LR: 0.0095199875\n",
            "\n",
            "Epoch: 6\n",
            " [================================================================>]  Step: 523ms | Tot: 3m20s | Train >> Loss: 4.392 | Acc: 9.152% (7047/77000) 151/151 \n",
            " [================================================================>]  Step: 60ms | Tot: 15s42ms | Test >> Loss: 4.219 | Acc: 11.748% (3877/33000) 65/65 \n",
            "0.008309881347598452\n",
            "\n",
            "EPOCH: 7 LR: 0.010761725\n",
            "\n",
            "Epoch: 7\n",
            " [================================================================>]  Step: 536ms | Tot: 3m20s | Train >> Loss: 4.298 | Acc: 10.483% (8072/77000) 151/151 \n",
            " [================================================================>]  Step: 55ms | Tot: 15s258ms | Test >> Loss: 4.190 | Acc: 12.173% (4017/33000) 65/65 \n",
            "0.008253035306930542\n",
            "\n",
            "EPOCH: 8 LR: 0.0120034625\n",
            "\n",
            "Epoch: 8\n",
            " [================================================================>]  Step: 521ms | Tot: 3m20s | Train >> Loss: 4.228 | Acc: 11.149% (8585/77000) 151/151 \n",
            " [================================================================>]  Step: 55ms | Tot: 15s204ms | Test >> Loss: 4.105 | Acc: 13.552% (4472/33000) 65/65 \n",
            "0.008084785577022668\n",
            "\n",
            "EPOCH: 9 LR: 0.013245199999999999\n",
            "\n",
            "Epoch: 9\n",
            " [================================================================>]  Step: 540ms | Tot: 3m21s | Train >> Loss: 4.146 | Acc: 12.396% (9545/77000) 151/151 \n",
            " [================================================================>]  Step: 60ms | Tot: 15s259ms | Test >> Loss: 4.037 | Acc: 14.467% (4774/33000) 65/65 \n",
            "0.007952129551858613\n",
            "\n",
            "EPOCH: 10 LR: 0.014486937499999998\n",
            "\n",
            "Epoch: 10\n",
            " [================================================================>]  Step: 528ms | Tot: 3m20s | Train >> Loss: 4.085 | Acc: 13.257% (10208/77000) 151/151 \n",
            " [================================================================>]  Step: 56ms | Tot: 15s29ms | Test >> Loss: 3.965 | Acc: 15.015% (4955/33000) 65/65 \n",
            "0.007810770966789939\n",
            "\n",
            "EPOCH: 11 LR: 0.015728674999999998\n",
            "\n",
            "Epoch: 11\n",
            " [================================================================>]  Step: 539ms | Tot: 3m21s | Train >> Loss: 4.020 | Acc: 14.060% (10826/77000) 151/151 \n",
            " [================================================================>]  Step: 53ms | Tot: 15s644ms | Test >> Loss: 4.016 | Acc: 14.794% (4882/33000) 65/65 \n",
            "0.007909882588820024\n",
            "\n",
            "EPOCH: 12 LR: 0.016970412499999997\n",
            "\n",
            "Epoch: 12\n",
            " [================================================================>]  Step: 523ms | Tot: 3m21s | Train >> Loss: 3.966 | Acc: 15.039% (11580/77000) 151/151 \n",
            " [================================================================>]  Step: 55ms | Tot: 14s997ms | Test >> Loss: 3.938 | Acc: 15.727% (5190/33000) 65/65 \n",
            "0.007755768674792665\n",
            "\n",
            "EPOCH: 13 LR: 0.018212149999999996\n",
            "\n",
            "Epoch: 13\n",
            " [================================================================>]  Step: 535ms | Tot: 3m20s | Train >> Loss: 3.907 | Acc: 15.852% (12206/77000) 151/151 \n",
            " [================================================================>]  Step: 54ms | Tot: 15s288ms | Test >> Loss: 3.846 | Acc: 17.236% (5688/33000) 65/65 \n",
            "0.007575042002128832\n",
            "\n",
            "EPOCH: 14 LR: 0.019453887499999996\n",
            "\n",
            "Epoch: 14\n",
            " [================================================================>]  Step: 523ms | Tot: 3m20s | Train >> Loss: 3.864 | Acc: 16.334% (12577/77000) 151/151 \n",
            " [================================================================>]  Step: 56ms | Tot: 15s208ms | Test >> Loss: 3.874 | Acc: 17.236% (5688/33000) 65/65 \n",
            "0.007629843654054584\n",
            "\n",
            "EPOCH: 15 LR: 0.020695625\n",
            "\n",
            "Epoch: 15\n",
            " [================================================================>]  Step: 544ms | Tot: 3m20s | Train >> Loss: 3.811 | Acc: 17.353% (13362/77000) 151/151 \n",
            " [================================================================>]  Step: 57ms | Tot: 15s246ms | Test >> Loss: 3.771 | Acc: 18.215% (6011/33000) 65/65 \n",
            "0.007428009430567424\n",
            "\n",
            "EPOCH: 16 LR: 0.021937362499999998\n",
            "\n",
            "Epoch: 16\n",
            " [================================================================>]  Step: 526ms | Tot: 3m21s | Train >> Loss: 3.765 | Acc: 17.630% (13575/77000) 151/151 \n",
            " [================================================================>]  Step: 53ms | Tot: 15s381ms | Test >> Loss: 3.727 | Acc: 19.082% (6297/33000) 65/65 \n",
            "0.007341709505427968\n",
            "\n",
            "EPOCH: 17 LR: 0.023179099999999998\n",
            "\n",
            "Epoch: 17\n",
            " [================================================================>]  Step: 538ms | Tot: 3m20s | Train >> Loss: 3.726 | Acc: 18.414% (14179/77000) 151/151 \n",
            " [================================================================>]  Step: 52ms | Tot: 14s887ms | Test >> Loss: 3.780 | Acc: 18.515% (6110/33000) 65/65 \n",
            "0.0074448032162406225\n",
            "\n",
            "EPOCH: 18 LR: 0.024420837499999997\n",
            "\n",
            "Epoch: 18\n",
            " [================================================================>]  Step: 523ms | Tot: 3m20s | Train >> Loss: 3.676 | Acc: 19.036% (14658/77000) 151/151 \n",
            " [================================================================>]  Step: 55ms | Tot: 15s85ms | Test >> Loss: 3.821 | Acc: 18.239% (6019/33000) 65/65 \n",
            "0.007525638349128492\n",
            "\n",
            "EPOCH: 19 LR: 0.025662574999999997\n",
            "\n",
            "Epoch: 19\n",
            " [================================================================>]  Step: 548ms | Tot: 3m21s | Train >> Loss: 3.639 | Acc: 19.599% (15091/77000) 151/151 \n",
            " [================================================================>]  Step: 59ms | Tot: 15s329ms | Test >> Loss: 3.628 | Acc: 20.852% (6881/33000) 65/65 \n",
            "0.00714539850841869\n"
          ],
          "name": "stdout"
        }
      ]
    },
    {
      "cell_type": "code",
      "metadata": {
        "id": "TeYD12i8eNQy",
        "colab_type": "code",
        "outputId": "eead3d66-9e4e-440c-ca36-ad483c185fa4",
        "colab": {
          "base_uri": "https://localhost:8080/",
          "height": 1000
        }
      },
      "source": [
        "for epoch in range(20,30):\n",
        "    print(\"\\nEPOCH:\", epoch,'LR:',optimizer.param_groups[0]['lr'])\n",
        "    lr_values.append(optimizer.param_groups[0]['lr'])\n",
        "    trainTestMethods.trainWithAccPlt(network=model, trainloader=train_dl, device='cuda', optimizer=optimizer, criterion=criterion, trainaccuracies=trainaccuracies, trainlosses=trainlosses, epoch=epoch)\n",
        "    scheduler.step()\n",
        "    testloss = trainTestMethods.testWithAccPlt(network=model, testloader=test_dl, device='cuda', criterion=criterion, valaccuracies=valaccuracies, vallosses=vallosses, epoch=epoch)"
      ],
      "execution_count": 53,
      "outputs": [
        {
          "output_type": "stream",
          "text": [
            "\n",
            "EPOCH: 20 LR: 0.026904312499999996\n",
            "\n",
            "Epoch: 20\n",
            " [================================================================>]  Step: 525ms | Tot: 3m20s | Train >> Loss: 3.596 | Acc: 20.406% (15713/77000) 151/151 \n",
            " [================================================================>]  Step: 54ms | Tot: 15s91ms | Test >> Loss: 3.627 | Acc: 20.912% (6901/33000) 65/65 \n",
            "0.007143525159720218\n",
            "\n",
            "EPOCH: 21 LR: 0.02814605\n",
            "\n",
            "Epoch: 21\n",
            " [================================================================>]  Step: 540ms | Tot: 3m21s | Train >> Loss: 3.563 | Acc: 20.806% (16021/77000) 151/151 \n",
            " [================================================================>]  Step: 55ms | Tot: 15s88ms | Test >> Loss: 3.685 | Acc: 20.139% (6646/33000) 65/65 \n",
            "0.007258072564096162\n",
            "\n",
            "EPOCH: 22 LR: 0.0293877875\n",
            "\n",
            "Epoch: 22\n",
            " [================================================================>]  Step: 526ms | Tot: 3m20s | Train >> Loss: 3.525 | Acc: 21.435% (16505/77000) 151/151 \n",
            " [================================================================>]  Step: 54ms | Tot: 15s120ms | Test >> Loss: 3.529 | Acc: 22.273% (7350/33000) 65/65 \n",
            "0.006950138713374282\n",
            "\n",
            "EPOCH: 23 LR: 0.030629524999999994\n",
            "\n",
            "Epoch: 23\n",
            " [================================================================>]  Step: 539ms | Tot: 3m20s | Train >> Loss: 3.475 | Acc: 22.173% (17073/77000) 151/151 \n",
            " [================================================================>]  Step: 55ms | Tot: 14s943ms | Test >> Loss: 3.652 | Acc: 20.597% (6797/33000) 65/65 \n",
            "0.007193679683136217\n",
            "\n",
            "EPOCH: 24 LR: 0.0318712625\n",
            "\n",
            "Epoch: 24\n",
            " [================================================================>]  Step: 526ms | Tot: 3m20s | Train >> Loss: 3.446 | Acc: 22.560% (17371/77000) 151/151 \n",
            " [================================================================>]  Step: 56ms | Tot: 15s422ms | Test >> Loss: 3.554 | Acc: 22.733% (7502/33000) 65/65 \n",
            "0.007000477487390692\n",
            "\n",
            "EPOCH: 25 LR: 0.033113\n",
            "\n",
            "Epoch: 25\n",
            " [================================================================>]  Step: 544ms | Tot: 3m21s | Train >> Loss: 3.410 | Acc: 23.204% (17867/77000) 151/151 \n",
            " [================================================================>]  Step: 59ms | Tot: 14s976ms | Test >> Loss: 3.502 | Acc: 23.042% (7604/33000) 65/65 \n",
            "0.006897382035399928\n",
            "\n",
            "EPOCH: 26 LR: 0.0318017252\n",
            "\n",
            "Epoch: 26\n",
            " [================================================================>]  Step: 523ms | Tot: 3m21s | Train >> Loss: 3.380 | Acc: 23.627% (18193/77000) 151/151 \n",
            " [================================================================>]  Step: 55ms | Tot: 15s67ms | Test >> Loss: 3.404 | Acc: 24.445% (8067/33000) 65/65 \n",
            "0.006705032135501053\n",
            "\n",
            "EPOCH: 27 LR: 0.030490450399999997\n",
            "\n",
            "Epoch: 27\n",
            " [================================================================>]  Step: 544ms | Tot: 3m21s | Train >> Loss: 3.334 | Acc: 24.156% (18600/77000) 151/151 \n",
            " [================================================================>]  Step: 56ms | Tot: 15s119ms | Test >> Loss: 3.545 | Acc: 22.345% (7374/33000) 65/65 \n",
            "0.006982564239790945\n",
            "\n",
            "EPOCH: 28 LR: 0.029179175599999996\n",
            "\n",
            "Epoch: 28\n",
            " [================================================================>]  Step: 523ms | Tot: 3m21s | Train >> Loss: 3.292 | Acc: 25.126% (19347/77000) 151/151 \n",
            " [================================================================>]  Step: 54ms | Tot: 15s10ms | Test >> Loss: 3.389 | Acc: 24.991% (8247/33000) 65/65 \n",
            "0.006675808798183094\n",
            "\n",
            "EPOCH: 29 LR: 0.027867900799999998\n",
            "\n",
            "Epoch: 29\n",
            " [================================================================>]  Step: 543ms | Tot: 3m21s | Train >> Loss: 3.253 | Acc: 25.664% (19761/77000) 151/151 \n",
            " [================================================================>]  Step: 61ms | Tot: 14s899ms | Test >> Loss: 3.476 | Acc: 24.288% (8015/33000) 65/65 \n",
            "0.006847244161548037\n"
          ],
          "name": "stdout"
        }
      ]
    },
    {
      "cell_type": "code",
      "metadata": {
        "id": "_F_I3HhAwtTQ",
        "colab_type": "code",
        "colab": {
          "base_uri": "https://localhost:8080/",
          "height": 1000
        },
        "outputId": "e0d5680a-65c6-42ab-bc83-6f221edcd607"
      },
      "source": [
        "for epoch in range(30,50):\n",
        "    print(\"\\nEPOCH:\", epoch,'LR:',optimizer.param_groups[0]['lr'])\n",
        "    lr_values.append(optimizer.param_groups[0]['lr'])\n",
        "    trainTestMethods.trainWithAccPlt(network=model, trainloader=train_dl, device='cuda', optimizer=optimizer, criterion=criterion, trainaccuracies=trainaccuracies, trainlosses=trainlosses, epoch=epoch)\n",
        "    scheduler.step()\n",
        "    testloss = trainTestMethods.testWithAccPlt(network=model, testloader=test_dl, device='cuda', criterion=criterion, valaccuracies=valaccuracies, vallosses=vallosses, epoch=epoch)"
      ],
      "execution_count": 54,
      "outputs": [
        {
          "output_type": "stream",
          "text": [
            "\n",
            "EPOCH: 30 LR: 0.026556625999999996\n",
            "\n",
            "Epoch: 30\n",
            " [================================================================>]  Step: 527ms | Tot: 3m21s | Train >> Loss: 3.221 | Acc: 26.170% (20151/77000) 151/151 \n",
            " [================================================================>]  Step: 56ms | Tot: 14s769ms | Test >> Loss: 3.447 | Acc: 24.345% (8034/33000) 65/65 \n",
            "0.00678934426018686\n",
            "\n",
            "EPOCH: 31 LR: 0.025245351199999995\n",
            "\n",
            "Epoch: 31\n",
            " [================================================================>]  Step: 546ms | Tot: 3m20s | Train >> Loss: 3.190 | Acc: 26.799% (20635/77000) 151/151 \n",
            " [================================================================>]  Step: 56ms | Tot: 15s179ms | Test >> Loss: 3.430 | Acc: 24.867% (8206/33000) 65/65 \n",
            "0.006756331371538567\n",
            "\n",
            "EPOCH: 32 LR: 0.023934076399999997\n",
            "\n",
            "Epoch: 32\n",
            " [================================================================>]  Step: 528ms | Tot: 3m21s | Train >> Loss: 3.150 | Acc: 27.292% (21015/77000) 151/151 \n",
            " [================================================================>]  Step: 56ms | Tot: 15s179ms | Test >> Loss: 3.355 | Acc: 26.000% (8580/33000) 65/65 \n",
            "0.006607491052511966\n",
            "\n",
            "EPOCH: 33 LR: 0.0226228016\n",
            "\n",
            "Epoch: 33\n",
            " [================================================================>]  Step: 540ms | Tot: 3m21s | Train >> Loss: 3.108 | Acc: 28.258% (21759/77000) 151/151 \n",
            " [================================================================>]  Step: 58ms | Tot: 15s197ms | Test >> Loss: 3.407 | Acc: 24.958% (8236/33000) 65/65 \n",
            "0.006710833538662303\n",
            "\n",
            "EPOCH: 34 LR: 0.021311526799999998\n",
            "\n",
            "Epoch: 34\n",
            " [================================================================>]  Step: 523ms | Tot: 3m21s | Train >> Loss: 3.069 | Acc: 28.647% (22058/77000) 151/151 \n",
            " [================================================================>]  Step: 59ms | Tot: 14s926ms | Test >> Loss: 3.431 | Acc: 25.561% (8435/33000) 65/65 \n",
            "0.006757920467492306\n",
            "\n",
            "EPOCH: 35 LR: 0.020000251999999996\n",
            "\n",
            "Epoch: 35\n",
            " [================================================================>]  Step: 542ms | Tot: 3m22s | Train >> Loss: 3.038 | Acc: 29.369% (22614/77000) 151/151 \n",
            " [================================================================>]  Step: 53ms | Tot: 15s298ms | Test >> Loss: 3.234 | Acc: 28.027% (9249/33000) 65/65 \n",
            "0.0063693567189303316\n",
            "\n",
            "EPOCH: 36 LR: 0.018688977199999998\n",
            "\n",
            "Epoch: 36\n",
            " [================================================================>]  Step: 528ms | Tot: 3m21s | Train >> Loss: 2.998 | Acc: 29.927% (23044/77000) 151/151 \n",
            " [================================================================>]  Step: 54ms | Tot: 15s318ms | Test >> Loss: 3.296 | Acc: 26.830% (8854/33000) 65/65 \n",
            "0.0064924737359538225\n",
            "\n",
            "EPOCH: 37 LR: 0.017377702399999997\n",
            "\n",
            "Epoch: 37\n",
            " [================================================================>]  Step: 549ms | Tot: 3m21s | Train >> Loss: 2.969 | Acc: 30.436% (23436/77000) 151/151 \n",
            " [================================================================>]  Step: 57ms | Tot: 15s7ms | Test >> Loss: 3.270 | Acc: 27.415% (9047/33000) 65/65 \n",
            "0.006440803231615009\n",
            "\n",
            "EPOCH: 38 LR: 0.0160664276\n",
            "\n",
            "Epoch: 38\n",
            " [================================================================>]  Step: 521ms | Tot: 3m21s | Train >> Loss: 2.933 | Acc: 31.317% (24114/77000) 151/151 \n",
            " [================================================================>]  Step: 57ms | Tot: 14s903ms | Test >> Loss: 3.262 | Acc: 27.936% (9219/33000) 65/65 \n",
            "0.006425496870821172\n",
            "\n",
            "EPOCH: 39 LR: 0.014755152799999997\n",
            "\n",
            "Epoch: 39\n",
            " [================================================================>]  Step: 545ms | Tot: 3m21s | Train >> Loss: 2.893 | Acc: 31.773% (24465/77000) 151/151 \n",
            " [================================================================>]  Step: 61ms | Tot: 15s294ms | Test >> Loss: 3.240 | Acc: 28.036% (9252/33000) 65/65 \n",
            "0.00638120800076109\n",
            "\n",
            "EPOCH: 40 LR: 0.013443878\n",
            "\n",
            "Epoch: 40\n",
            " [================================================================>]  Step: 528ms | Tot: 3m21s | Train >> Loss: 2.852 | Acc: 32.570% (25079/77000) 151/151 \n",
            " [================================================================>]  Step: 56ms | Tot: 15s387ms | Test >> Loss: 3.199 | Acc: 28.952% (9554/33000) 65/65 \n",
            "0.006300216111269864\n",
            "\n",
            "EPOCH: 41 LR: 0.012132603199999998\n",
            "\n",
            "Epoch: 41\n",
            " [================================================================>]  Step: 540ms | Tot: 3m22s | Train >> Loss: 2.821 | Acc: 33.199% (25563/77000) 151/151 \n",
            " [================================================================>]  Step: 56ms | Tot: 15s113ms | Test >> Loss: 3.246 | Acc: 28.318% (9345/33000) 65/65 \n",
            "0.006392778913180033\n",
            "\n",
            "EPOCH: 42 LR: 0.010821328399999997\n",
            "\n",
            "Epoch: 42\n",
            " [================================================================>]  Step: 523ms | Tot: 3m21s | Train >> Loss: 2.776 | Acc: 33.857% (26070/77000) 151/151 \n",
            " [================================================================>]  Step: 61ms | Tot: 15s229ms | Test >> Loss: 3.178 | Acc: 29.664% (9789/33000) 65/65 \n",
            "0.006260584455547911\n",
            "\n",
            "EPOCH: 43 LR: 0.009510053599999999\n",
            "\n",
            "Epoch: 43\n",
            " [================================================================>]  Step: 535ms | Tot: 3m21s | Train >> Loss: 2.732 | Acc: 34.735% (26746/77000) 151/151 \n",
            " [================================================================>]  Step: 59ms | Tot: 15s297ms | Test >> Loss: 3.151 | Acc: 30.012% (9904/33000) 65/65 \n",
            "0.006205895550323255\n",
            "\n",
            "EPOCH: 44 LR: 0.008198778799999997\n",
            "\n",
            "Epoch: 44\n",
            " [================================================================>]  Step: 519ms | Tot: 3m18s | Train >> Loss: 2.701 | Acc: 35.521% (27351/77000) 151/151 \n",
            " [================================================================>]  Step: 55ms | Tot: 15s540ms | Test >> Loss: 3.118 | Acc: 30.503% (10066/33000) 65/65 \n",
            "0.00614109054478732\n",
            "\n",
            "EPOCH: 45 LR: 0.006887503999999996\n",
            "\n",
            "Epoch: 45\n",
            " [================================================================>]  Step: 544ms | Tot: 3m21s | Train >> Loss: 2.661 | Acc: 36.017% (27733/77000) 151/151 \n",
            " [================================================================>]  Step: 59ms | Tot: 15s163ms | Test >> Loss: 3.111 | Acc: 30.715% (10136/33000) 65/65 \n",
            "0.006128598993474787\n",
            "\n",
            "EPOCH: 46 LR: 0.005576229200000001\n",
            "\n",
            "Epoch: 46\n",
            " [================================================================>]  Step: 525ms | Tot: 3m21s | Train >> Loss: 2.612 | Acc: 37.205% (28648/77000) 151/151 \n",
            " [================================================================>]  Step: 55ms | Tot: 15s219ms | Test >> Loss: 3.113 | Acc: 31.033% (10241/33000) 65/65 \n",
            "0.006131489349134041\n",
            "\n",
            "EPOCH: 47 LR: 0.0042649544\n",
            "\n",
            "Epoch: 47\n",
            " [================================================================>]  Step: 537ms | Tot: 3m21s | Train >> Loss: 2.570 | Acc: 38.056% (29303/77000) 151/151 \n",
            " [================================================================>]  Step: 57ms | Tot: 15s364ms | Test >> Loss: 3.084 | Acc: 31.479% (10388/33000) 65/65 \n",
            "0.00607538138736378\n",
            "\n",
            "EPOCH: 48 LR: 0.0029536795999999983\n",
            "\n",
            "Epoch: 48\n",
            " [================================================================>]  Step: 521ms | Tot: 3m21s | Train >> Loss: 2.520 | Acc: 39.077% (30089/77000) 151/151 \n",
            " [================================================================>]  Step: 57ms | Tot: 15s269ms | Test >> Loss: 3.088 | Acc: 31.415% (10367/33000) 65/65 \n",
            "0.006083089225219958\n",
            "\n",
            "EPOCH: 49 LR: 0.0016424047999999969\n",
            "\n",
            "Epoch: 49\n",
            " [================================================================>]  Step: 550ms | Tot: 3m21s | Train >> Loss: 2.461 | Acc: 40.209% (30961/77000) 151/151 \n",
            " [================================================================>]  Step: 56ms | Tot: 15s43ms | Test >> Loss: 3.037 | Acc: 32.406% (10694/33000) 65/65 \n",
            "0.005981026551940224\n"
          ],
          "name": "stdout"
        }
      ]
    },
    {
      "cell_type": "markdown",
      "metadata": {
        "id": "mFwvrnzIhS-D",
        "colab_type": "text"
      },
      "source": [
        "# Plot Metrics - Accuracy and Loss"
      ]
    },
    {
      "cell_type": "code",
      "metadata": {
        "id": "fYBIPFrdL6nm",
        "colab_type": "code",
        "colab": {
          "base_uri": "https://localhost:8080/",
          "height": 708
        },
        "outputId": "cdee1e8d-6d25-423c-9c83-05f98ff190c5"
      },
      "source": [
        "trainTestMethods.plotmetrics(90,trainaccuracies=trainaccuracies, testaccuracies=valaccuracies, trainlosses=trainlosses, testlosses=vallosses\n",
        ", savefilename=\"metrics\")"
      ],
      "execution_count": 55,
      "outputs": [
        {
          "output_type": "display_data",
          "data": {
            "image/png": "[encoded data removed]",
            "text/plain": [
              "<Figure size 1080x720 with 2 Axes>"
            ]
          },
          "metadata": {
            "tags": [],
            "needs_background": "light"
          }
        },
        {
          "output_type": "stream",
          "text": [
            "Max. Train Accuracy outoff 49-epochs is : 40.20909090909091 at 49-Epoach\n",
            "Max. Test Accuracy  outoff 49-epochs is : 32.406060606060606 at 49-Epoach\n",
            "\n",
            "\n",
            "Min. Train Loss outoff 49-epochs is : 0.004827 at 49-Epoach\n",
            "Min. Test Loss  outoff 49-epochs is : 0.005981 at 49-Epoach\n"
          ],
          "name": "stdout"
        }
      ]
    },
    {
      "cell_type": "code",
      "metadata": {
        "id": "t8Lnd1-JhV2N",
        "colab_type": "code",
        "colab": {
          "base_uri": "https://localhost:8080/",
          "height": 282
        },
        "outputId": "a9c669a3-e59f-4912-df46-8eb2af2295c5"
      },
      "source": [
        "plt.plot(lr_values)"
      ],
      "execution_count": 56,
      "outputs": [
        {
          "output_type": "execute_result",
          "data": {
            "text/plain": [
              "[<matplotlib.lines.Line2D at 0x7fb668ff2f28>]"
            ]
          },
          "metadata": {
            "tags": []
          },
          "execution_count": 56
        },
        {
          "output_type": "display_data",
          "data": {
            "image/png": "[encoded data removed]",
            "text/plain": [
              "<Figure size 432x288 with 1 Axes>"
            ]
          },
          "metadata": {
            "tags": [],
            "needs_background": "light"
          }
        }
      ]
    },
    {
      "cell_type": "code",
      "metadata": {
        "id": "kgelx8ivh35u",
        "colab_type": "code",
        "colab": {}
      },
      "source": [
        ""
      ],
      "execution_count": 0,
      "outputs": []
    }
  ]
}