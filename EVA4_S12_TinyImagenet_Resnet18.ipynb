{
  "nbformat": 4,
  "nbformat_minor": 0,
  "metadata": {
    "colab": {
      "name": "EVA4_S12_TinyImagenet_Resnet18.ipynb",
      "provenance": [],
      "collapsed_sections": [],
      "authorship_tag": "ABX9TyNFaSI5OGevKZIsLYYRM5M6",
      "include_colab_link": true
    },
    "kernelspec": {
      "name": "python3",
      "display_name": "Python 3"
    },
    "accelerator": "GPU",
    "widgets": {
      "application/vnd.jupyter.widget-state+json": {
        "28f94a29701448a2a501e650e1298458": {
          "model_module": "@jupyter-widgets/controls",
          "model_name": "HBoxModel",
          "state": {
            "_view_name": "HBoxView",
            "_dom_classes": [],
            "_model_name": "HBoxModel",
            "_view_module": "@jupyter-widgets/controls",
            "_model_module_version": "1.5.0",
            "_view_count": null,
            "_view_module_version": "1.5.0",
            "box_style": "",
            "layout": "IPY_MODEL_cd08cd3ef708481a9f304d199ebab9d5",
            "_model_module": "@jupyter-widgets/controls",
            "children": [
              "IPY_MODEL_bf36d3cde3fa4b55a8c73646a1cc59d6",
              "IPY_MODEL_a8068c29cc6d469e9d8fabc5357737b1"
            ]
          }
        },
        "cd08cd3ef708481a9f304d199ebab9d5": {
          "model_module": "@jupyter-widgets/base",
          "model_name": "LayoutModel",
          "state": {
            "_view_name": "LayoutView",
            "grid_template_rows": null,
            "right": null,
            "justify_content": null,
            "_view_module": "@jupyter-widgets/base",
            "overflow": null,
            "_model_module_version": "1.2.0",
            "_view_count": null,
            "flex_flow": null,
            "width": null,
            "min_width": null,
            "border": null,
            "align_items": null,
            "bottom": null,
            "_model_module": "@jupyter-widgets/base",
            "top": null,
            "grid_column": null,
            "overflow_y": null,
            "overflow_x": null,
            "grid_auto_flow": null,
            "grid_area": null,
            "grid_template_columns": null,
            "flex": null,
            "_model_name": "LayoutModel",
            "justify_items": null,
            "grid_row": null,
            "max_height": null,
            "align_content": null,
            "visibility": null,
            "align_self": null,
            "height": null,
            "min_height": null,
            "padding": null,
            "grid_auto_rows": null,
            "grid_gap": null,
            "max_width": null,
            "order": null,
            "_view_module_version": "1.2.0",
            "grid_template_areas": null,
            "object_position": null,
            "object_fit": null,
            "grid_auto_columns": null,
            "margin": null,
            "display": null,
            "left": null
          }
        },
        "bf36d3cde3fa4b55a8c73646a1cc59d6": {
          "model_module": "@jupyter-widgets/controls",
          "model_name": "IntProgressModel",
          "state": {
            "_view_name": "ProgressView",
            "style": "IPY_MODEL_a868bbce4148427b9fe82b520c6feaf5",
            "_dom_classes": [],
            "description": "100%",
            "_model_name": "IntProgressModel",
            "bar_style": "success",
            "max": 100,
            "_view_module": "@jupyter-widgets/controls",
            "_model_module_version": "1.5.0",
            "value": 100,
            "_view_count": null,
            "_view_module_version": "1.5.0",
            "orientation": "horizontal",
            "min": 0,
            "description_tooltip": null,
            "_model_module": "@jupyter-widgets/controls",
            "layout": "IPY_MODEL_69e2123d9dcb4bed9be3cfcde9013482"
          }
        },
        "a8068c29cc6d469e9d8fabc5357737b1": {
          "model_module": "@jupyter-widgets/controls",
          "model_name": "HTMLModel",
          "state": {
            "_view_name": "HTMLView",
            "style": "IPY_MODEL_76db39aefab747f9a0718a87aca60156",
            "_dom_classes": [],
            "description": "",
            "_model_name": "HTMLModel",
            "placeholder": "​",
            "_view_module": "@jupyter-widgets/controls",
            "_model_module_version": "1.5.0",
            "value": " 100/100 [57:15&lt;00:00, 34.36s/it]",
            "_view_count": null,
            "_view_module_version": "1.5.0",
            "description_tooltip": null,
            "_model_module": "@jupyter-widgets/controls",
            "layout": "IPY_MODEL_c020968411e14187ac12fecacbd0013d"
          }
        },
        "a868bbce4148427b9fe82b520c6feaf5": {
          "model_module": "@jupyter-widgets/controls",
          "model_name": "ProgressStyleModel",
          "state": {
            "_view_name": "StyleView",
            "_model_name": "ProgressStyleModel",
            "description_width": "initial",
            "_view_module": "@jupyter-widgets/base",
            "_model_module_version": "1.5.0",
            "_view_count": null,
            "_view_module_version": "1.2.0",
            "bar_color": null,
            "_model_module": "@jupyter-widgets/controls"
          }
        },
        "69e2123d9dcb4bed9be3cfcde9013482": {
          "model_module": "@jupyter-widgets/base",
          "model_name": "LayoutModel",
          "state": {
            "_view_name": "LayoutView",
            "grid_template_rows": null,
            "right": null,
            "justify_content": null,
            "_view_module": "@jupyter-widgets/base",
            "overflow": null,
            "_model_module_version": "1.2.0",
            "_view_count": null,
            "flex_flow": null,
            "width": null,
            "min_width": null,
            "border": null,
            "align_items": null,
            "bottom": null,
            "_model_module": "@jupyter-widgets/base",
            "top": null,
            "grid_column": null,
            "overflow_y": null,
            "overflow_x": null,
            "grid_auto_flow": null,
            "grid_area": null,
            "grid_template_columns": null,
            "flex": null,
            "_model_name": "LayoutModel",
            "justify_items": null,
            "grid_row": null,
            "max_height": null,
            "align_content": null,
            "visibility": null,
            "align_self": null,
            "height": null,
            "min_height": null,
            "padding": null,
            "grid_auto_rows": null,
            "grid_gap": null,
            "max_width": null,
            "order": null,
            "_view_module_version": "1.2.0",
            "grid_template_areas": null,
            "object_position": null,
            "object_fit": null,
            "grid_auto_columns": null,
            "margin": null,
            "display": null,
            "left": null
          }
        },
        "76db39aefab747f9a0718a87aca60156": {
          "model_module": "@jupyter-widgets/controls",
          "model_name": "DescriptionStyleModel",
          "state": {
            "_view_name": "StyleView",
            "_model_name": "DescriptionStyleModel",
            "description_width": "",
            "_view_module": "@jupyter-widgets/base",
            "_model_module_version": "1.5.0",
            "_view_count": null,
            "_view_module_version": "1.2.0",
            "_model_module": "@jupyter-widgets/controls"
          }
        },
        "c020968411e14187ac12fecacbd0013d": {
          "model_module": "@jupyter-widgets/base",
          "model_name": "LayoutModel",
          "state": {
            "_view_name": "LayoutView",
            "grid_template_rows": null,
            "right": null,
            "justify_content": null,
            "_view_module": "@jupyter-widgets/base",
            "overflow": null,
            "_model_module_version": "1.2.0",
            "_view_count": null,
            "flex_flow": null,
            "width": null,
            "min_width": null,
            "border": null,
            "align_items": null,
            "bottom": null,
            "_model_module": "@jupyter-widgets/base",
            "top": null,
            "grid_column": null,
            "overflow_y": null,
            "overflow_x": null,
            "grid_auto_flow": null,
            "grid_area": null,
            "grid_template_columns": null,
            "flex": null,
            "_model_name": "LayoutModel",
            "justify_items": null,
            "grid_row": null,
            "max_height": null,
            "align_content": null,
            "visibility": null,
            "align_self": null,
            "height": null,
            "min_height": null,
            "padding": null,
            "grid_auto_rows": null,
            "grid_gap": null,
            "max_width": null,
            "order": null,
            "_view_module_version": "1.2.0",
            "grid_template_areas": null,
            "object_position": null,
            "object_fit": null,
            "grid_auto_columns": null,
            "margin": null,
            "display": null,
            "left": null
          }
        }
      }
    }
  },
  "cells": [
    {
      "cell_type": "markdown",
      "metadata": {
        "id": "view-in-github",
        "colab_type": "text"
      },
      "source": [
        "<a href=\"https://colab.research.google.com/github/sumankanukollu/EVA_4_Assignments/blob/S_10_LRFinder_Misclassified_Cifar10/EVA4_S12_TinyImagenet_Resnet18.ipynb\" target=\"_parent\"><img src=\"https://colab.research.google.com/assets/colab-badge.svg\" alt=\"Open In Colab\"/></a>"
      ]
    },
    {
      "cell_type": "markdown",
      "metadata": {
        "id": "5gcFEOAxxcUf",
        "colab_type": "text"
      },
      "source": [
        "# Mount Google drive"
      ]
    },
    {
      "cell_type": "code",
      "metadata": {
        "id": "zGjuL4PVxLOy",
        "colab_type": "code",
        "colab": {
          "base_uri": "https://localhost:8080/",
          "height": 87
        },
        "outputId": "30eebca7-c3b6-4f18-a5c2-0e52ff0e382c"
      },
      "source": [
        "%load_ext autoreload\n",
        "%autoreload 2\n",
        "  \n",
        "from google.colab import drive\n",
        "drive.mount(\"/content/drive\", force_remount=True)\n",
        "\n",
        "\n",
        "import sys,os\n",
        "from pathlib import Path\n",
        "\n",
        "\n",
        "homepath = Path('/content/drive/My Drive/pytorch_Framework_suman/')\n",
        "sys.path.append(str(homepath))\n",
        "\n",
        "sys.path.append(os.path.join(homepath,'lib'))\n",
        "print(sys.path)\n",
        "\n",
        "!ls"
      ],
      "execution_count": 1,
      "outputs": [
        {
          "output_type": "stream",
          "text": [
            "Mounted at /content/drive\n",
            "['', '/env/python', '/usr/lib/python36.zip', '/usr/lib/python3.6', '/usr/lib/python3.6/lib-dynload', '/usr/local/lib/python3.6/dist-packages', '/usr/lib/python3/dist-packages', '/usr/local/lib/python3.6/dist-packages/IPython/extensions', '/root/.ipython', '/content/drive/My Drive/pytorch_Framework_suman', '/content/drive/My Drive/pytorch_Framework_suman/lib']\n",
            "drive  sample_data  tiny-imagenet-200\n"
          ],
          "name": "stdout"
        }
      ]
    },
    {
      "cell_type": "markdown",
      "metadata": {
        "id": "z9a_rdygxoeX",
        "colab_type": "text"
      },
      "source": [
        "# Download and Copy the tiny-Imagenet data set to colab"
      ]
    },
    {
      "cell_type": "code",
      "metadata": {
        "id": "KANkD0q7ydMh",
        "colab_type": "code",
        "colab": {}
      },
      "source": [
        "from zipfile import ZipFile \n",
        "from torchvision.datasets.utils import download_url\n",
        "\n",
        "if not os.path.exists(os.path.join(homepath,'data/tinyImagenet/tiny-imagenet-200.zip')):\n",
        "    # Dowload the dataset\n",
        "    dataset_url = \"http://cs231n.stanford.edu/tiny-imagenet-200.zip\"\n",
        "    download_url(dataset_url, os.path.join(homepath,'data','tinyImagenet'))"
      ],
      "execution_count": 0,
      "outputs": []
    },
    {
      "cell_type": "code",
      "metadata": {
        "id": "gYcZ3MYcxiNs",
        "colab_type": "code",
        "colab": {
          "base_uri": "https://localhost:8080/",
          "height": 67
        },
        "outputId": "bd843161-4f41-40dd-84d0-4eec961f8850"
      },
      "source": [
        "zip_path = os.path.join(homepath,'data/tinyImagenet/tiny-imagenet-200.zip')\n",
        "print('tiny-dataset zip file path is at : {}'.format(zip_path))\n",
        "\n",
        "if not os.path.exists(os.path.basename(zip_path).split('.zip')[0]):\n",
        "    !cp \"{zip_path}\" .\n",
        "    !unzip -q \"{os.path.basename(zip_path)}\"\n",
        "    !rm \"{os.path.basename(zip_path)}\"\n",
        "\n",
        "if os.getcwd() != '/content/tiny-imagenet-200':\n",
        "    os.chdir(os.path.basename(zip_path).split('.zip')[0])\n",
        "    !ls "
      ],
      "execution_count": 3,
      "outputs": [
        {
          "output_type": "stream",
          "text": [
            "tiny-dataset zip file path is at : /content/drive/My Drive/pytorch_Framework_suman/data/tinyImagenet/tiny-imagenet-200.zip\n",
            "metrics.png  test_set\t\ttrain\t   val\t      words.txt\n",
            "test\t     tiny-imagenet-200\ttrain_set  wnids.txt\n"
          ],
          "name": "stdout"
        }
      ]
    },
    {
      "cell_type": "markdown",
      "metadata": {
        "id": "Gc7cmfqKx6oR",
        "colab_type": "text"
      },
      "source": [
        "# Split the dataset (train and validation) into 70% + 30%"
      ]
    },
    {
      "cell_type": "code",
      "metadata": {
        "id": "H-PBQGnTx27B",
        "colab_type": "code",
        "colab": {}
      },
      "source": [
        "from utils.splitDs import *\n",
        "\n",
        "copyValDsIntoTrain()\n",
        "splitDs()"
      ],
      "execution_count": 0,
      "outputs": []
    },
    {
      "cell_type": "code",
      "metadata": {
        "id": "NHLMJkHhcpcP",
        "colab_type": "code",
        "colab": {}
      },
      "source": [
        ""
      ],
      "execution_count": 0,
      "outputs": []
    },
    {
      "cell_type": "markdown",
      "metadata": {
        "id": "APC0yHesx0bZ",
        "colab_type": "text"
      },
      "source": [
        "# Initialize device"
      ]
    },
    {
      "cell_type": "code",
      "metadata": {
        "id": "TB8sDPiRxu6B",
        "colab_type": "code",
        "colab": {
          "base_uri": "https://localhost:8080/",
          "height": 50
        },
        "outputId": "7fc13d5b-7243-4597-e986-3b4031cd06e8"
      },
      "source": [
        "import torch\n",
        "\n",
        "use_cuda = torch.cuda.is_available()\n",
        "device = torch.device(\"cuda\" if use_cuda else \"cpu\")\n",
        "print(device)\n",
        "print(torch.cuda.is_available())"
      ],
      "execution_count": 5,
      "outputs": [
        {
          "output_type": "stream",
          "text": [
            "cuda\n",
            "True\n"
          ],
          "name": "stdout"
        }
      ]
    },
    {
      "cell_type": "markdown",
      "metadata": {
        "id": "pSqvCUmT4vBW",
        "colab_type": "text"
      },
      "source": [
        "# Load train and validation dataset"
      ]
    },
    {
      "cell_type": "code",
      "metadata": {
        "id": "w59ud4nmyAbR",
        "colab_type": "code",
        "colab": {}
      },
      "source": [
        "os.chdir('/content/tiny-imagenet-200')"
      ],
      "execution_count": 0,
      "outputs": []
    },
    {
      "cell_type": "code",
      "metadata": {
        "id": "ig24I_LP41PJ",
        "colab_type": "code",
        "colab": {}
      },
      "source": [
        "import torchvision\n",
        "import torch.utils.data as data\n",
        "from torchvision.datasets import ImageFolder\n",
        "import torchvision.transforms as tt"
      ],
      "execution_count": 0,
      "outputs": []
    },
    {
      "cell_type": "markdown",
      "metadata": {
        "id": "DAV8JHPm_0VQ",
        "colab_type": "text"
      },
      "source": [
        "## Prepeare transformations"
      ]
    },
    {
      "cell_type": "code",
      "metadata": {
        "id": "CeifC5Bj8wK8",
        "colab_type": "code",
        "colab": {
          "base_uri": "https://localhost:8080/",
          "height": 54
        },
        "outputId": "bb294aa4-a103-4244-9ef2-ed6b0dffc572"
      },
      "source": [
        "# Data transforms (normalization & data augmentation)\n",
        "from lib.cutout import Cutout\n",
        "\n",
        "stats = ((0.4914, 0.4822, 0.4465), (0.2023, 0.1994, 0.2010))\n",
        "\n",
        "tfmsList = []\n",
        "\n",
        "tfmsList.append(\n",
        "    tt.Compose([  tt.RandomCrop(56, padding=4, padding_mode='reflect'),\n",
        "                  tt.RandomRotation(degrees=([-90,90]), resample=False, expand=False, center=None, fill=0),\n",
        "                  tt.ToTensor(),\n",
        "                  Cutout(n_holes=1, length=16),\n",
        "                  tt.Normalize(*stats)\n",
        "    ])\n",
        ")\n",
        "\n",
        "tfmsList.append(\n",
        "    tt.Compose([  tt.ColorJitter(brightness=([0.7,1.3]), contrast=([0.7,1.3]), saturation=([0.7,1.3]), hue=0),\n",
        "                  tt.RandomHorizontalFlip(p=0.5),\n",
        "                  tt.ToTensor(), \n",
        "                  Cutout(n_holes=2, length=16),\n",
        "                  tt.Normalize(*stats)\n",
        "    ])\n",
        ")\n",
        "'''\n",
        "tfmsList.append(\n",
        "    tt.Compose([  tt.RandomRotation(degrees=([-90,90]), resample=False, expand=False, center=None, fill=0),\n",
        "                  tt.ToTensor(), \n",
        "                  Cutout(n_holes=2, length=16),\n",
        "                  tt.Normalize(*stats)\n",
        "    ])\n",
        ")\n",
        "\n",
        "\n",
        "tfmsList.append(\n",
        "    tt.Compose([  tt.ColorJitter(brightness=([0.7,1.3]), contrast=([0.7,1.3]), saturation=([0.7,1.3]), hue=0),\n",
        "                  tt.ToTensor(), \n",
        "                  Cutout(n_holes=2, length=16),\n",
        "                  tt.Normalize(*stats)\n",
        "    ])\n",
        ")\n",
        "'''\n",
        "\n",
        "#print(tfmsList)\t\t\t\t\t\t "
      ],
      "execution_count": 8,
      "outputs": [
        {
          "output_type": "execute_result",
          "data": {
            "text/plain": [
              "'\\ntfmsList.append(\\n    tt.Compose([  tt.RandomRotation(degrees=([-90,90]), resample=False, expand=False, center=None, fill=0),\\n                  tt.ToTensor(), \\n                  Cutout(n_holes=2, length=16),\\n                  tt.Normalize(*stats)\\n    ])\\n)\\n\\n\\ntfmsList.append(\\n    tt.Compose([  tt.ColorJitter(brightness=([0.7,1.3]), contrast=([0.7,1.3]), saturation=([0.7,1.3]), hue=0),\\n                  tt.ToTensor(), \\n                  Cutout(n_holes=2, length=16),\\n                  tt.Normalize(*stats)\\n    ])\\n)\\n'"
            ]
          },
          "metadata": {
            "tags": []
          },
          "execution_count": 8
        }
      ]
    },
    {
      "cell_type": "code",
      "metadata": {
        "id": "GwI-CuAt7227",
        "colab_type": "code",
        "colab": {}
      },
      "source": [
        "import random\n",
        "\n",
        "train_tfms = random.choice(tfmsList)\n",
        "valid_tfms = tt.Compose([\t#tt.CenterCrop(56),\n",
        "\t\t\t\t\t\t\ttt.ToTensor(),\n",
        "\t\t\t\t\t\t\ttt.Normalize(*stats)\n",
        "\t\t\t\t\t\t])"
      ],
      "execution_count": 0,
      "outputs": []
    },
    {
      "cell_type": "code",
      "metadata": {
        "id": "RLFPibq5AFjg",
        "colab_type": "code",
        "colab": {
          "base_uri": "https://localhost:8080/",
          "height": 538
        },
        "outputId": "71abe180-2862-4337-d1d8-87e3d1e81e4e"
      },
      "source": [
        "train_ds = ImageFolder('train_set', transform=train_tfms)\n",
        "test_ds = ImageFolder('test_set', transform=train_tfms)\n",
        "\n",
        "print(\"random item from list is: \",train_tfms)\n",
        "print('####Validation Dataset is : \\n\\t\\n{}'.format(train_ds))\n",
        "print('####Validation Dataset is : \\n\\t\\n{}'.format(test_ds))"
      ],
      "execution_count": 10,
      "outputs": [
        {
          "output_type": "stream",
          "text": [
            "random item from list is:  Compose(\n",
            "    RandomCrop(size=(56, 56), padding=4)\n",
            "    RandomRotation(degrees=[-90, 90], resample=False, expand=False)\n",
            "    ToTensor()\n",
            "    <lib.cutout.Cutout object at 0x7f57f2978400>\n",
            "    Normalize(mean=(0.4914, 0.4822, 0.4465), std=(0.2023, 0.1994, 0.201))\n",
            ")\n",
            "####Validation Dataset is : \n",
            "\t\n",
            "Dataset ImageFolder\n",
            "    Number of datapoints: 77000\n",
            "    Root location: train_set\n",
            "    StandardTransform\n",
            "Transform: Compose(\n",
            "               RandomCrop(size=(56, 56), padding=4)\n",
            "               RandomRotation(degrees=[-90, 90], resample=False, expand=False)\n",
            "               ToTensor()\n",
            "               <lib.cutout.Cutout object at 0x7f57f2978400>\n",
            "               Normalize(mean=(0.4914, 0.4822, 0.4465), std=(0.2023, 0.1994, 0.201))\n",
            "           )\n",
            "####Validation Dataset is : \n",
            "\t\n",
            "Dataset ImageFolder\n",
            "    Number of datapoints: 33000\n",
            "    Root location: test_set\n",
            "    StandardTransform\n",
            "Transform: Compose(\n",
            "               CenterCrop(size=(56, 56))\n",
            "               ToTensor()\n",
            "               Normalize(mean=(0.4914, 0.4822, 0.4465), std=(0.2023, 0.1994, 0.201))\n",
            "           )\n"
          ],
          "name": "stdout"
        }
      ]
    },
    {
      "cell_type": "markdown",
      "metadata": {
        "id": "As-yga4sAQyj",
        "colab_type": "text"
      },
      "source": [
        "# Print few images from the train dataset"
      ]
    },
    {
      "cell_type": "code",
      "metadata": {
        "id": "nUN2g_m7ANRp",
        "colab_type": "code",
        "colab": {}
      },
      "source": [
        "from matplotlib import pyplot as plt\n",
        "def show_imgs(img,label):\n",
        "    print('Image label is : {}'.format(train_ds.classes[label]))\n",
        "    plt.imshow(img.permute(1, 2, 0))"
      ],
      "execution_count": 0,
      "outputs": []
    },
    {
      "cell_type": "code",
      "metadata": {
        "id": "LrUHuo6CAUr6",
        "colab_type": "code",
        "colab": {
          "base_uri": "https://localhost:8080/",
          "height": 301
        },
        "outputId": "47d9a688-a6ae-4d49-da94-8433c54131d2"
      },
      "source": [
        "show_imgs(*test_ds[8])"
      ],
      "execution_count": 12,
      "outputs": [
        {
          "output_type": "stream",
          "text": [
            "Clipping input data to the valid range for imshow with RGB data ([0..1] for floats or [0..255] for integers).\n"
          ],
          "name": "stderr"
        },
        {
          "output_type": "stream",
          "text": [
            "Image label is : n01443537\n"
          ],
          "name": "stdout"
        },
        {
          "output_type": "display_data",
          "data": {
            "image/png": "[encoded data removed]",
            "text/plain": [
              "<Figure size 432x288 with 1 Axes>"
            ]
          },
          "metadata": {
            "tags": [],
            "needs_background": "light"
          }
        }
      ]
    },
    {
      "cell_type": "markdown",
      "metadata": {
        "id": "U9Tb2FMPAZGm",
        "colab_type": "text"
      },
      "source": [
        "# Print few images from the train dataloader and test data loader"
      ]
    },
    {
      "cell_type": "code",
      "metadata": {
        "id": "85mxCbrLAVVx",
        "colab_type": "code",
        "colab": {}
      },
      "source": [
        "from torch.utils.data import DataLoader\n",
        "batch_size = 512\n",
        "\n",
        "# PyTorch data loaders\n",
        "train_dl = DataLoader(train_ds, batch_size, shuffle=True, \n",
        "                      num_workers=8, pin_memory=True)\n",
        "test_dl = DataLoader(test_ds, batch_size, shuffle=False, \n",
        "                      num_workers=8, pin_memory=True)"
      ],
      "execution_count": 0,
      "outputs": []
    },
    {
      "cell_type": "code",
      "metadata": {
        "id": "aKhR9oCDAbxC",
        "colab_type": "code",
        "colab": {}
      },
      "source": [
        "from torchvision.utils import make_grid\n",
        "import matplotlib.pyplot as plt"
      ],
      "execution_count": 0,
      "outputs": []
    },
    {
      "cell_type": "code",
      "metadata": {
        "id": "yVzLYzW0Aeck",
        "colab_type": "code",
        "colab": {}
      },
      "source": [
        "def show_batch(dl,numOfImagesToDisplay=10,imgsPerRow=5):\n",
        "    for images, labels in dl:\n",
        "        fig, ax = plt.subplots(figsize=(26, 26))\n",
        "        ax.set_xticks([]); ax.set_yticks([])\n",
        "        ax.imshow(make_grid(images[:numOfImagesToDisplay], imgsPerRow).permute(1, 2, 0))\n",
        "        break"
      ],
      "execution_count": 0,
      "outputs": []
    },
    {
      "cell_type": "markdown",
      "metadata": {
        "id": "I4pSMAe7AmzQ",
        "colab_type": "text"
      },
      "source": [
        "Print few images from Train DataLoader"
      ]
    },
    {
      "cell_type": "code",
      "metadata": {
        "id": "mJe7pDQUAgee",
        "colab_type": "code",
        "colab": {
          "base_uri": "https://localhost:8080/",
          "height": 492
        },
        "outputId": "656cae71-6738-4ab6-c1dc-570173d99bfc"
      },
      "source": [
        "show_batch(train_dl)"
      ],
      "execution_count": 16,
      "outputs": [
        {
          "output_type": "stream",
          "text": [
            "Clipping input data to the valid range for imshow with RGB data ([0..1] for floats or [0..255] for integers).\n"
          ],
          "name": "stderr"
        },
        {
          "output_type": "display_data",
          "data": {
            "image/png": "[encoded data removed]",
            "text/plain": [
              "<Figure size 1872x1872 with 1 Axes>"
            ]
          },
          "metadata": {
            "tags": []
          }
        }
      ]
    },
    {
      "cell_type": "markdown",
      "metadata": {
        "id": "ulbPJXYnGLgk",
        "colab_type": "text"
      },
      "source": [
        "print few Images from Test Data Loader"
      ]
    },
    {
      "cell_type": "code",
      "metadata": {
        "id": "MXrZVEt1Apr7",
        "colab_type": "code",
        "colab": {
          "base_uri": "https://localhost:8080/",
          "height": 492
        },
        "outputId": "c671a0ec-0d84-4553-b10d-67edf46a8412"
      },
      "source": [
        "show_batch(test_dl)"
      ],
      "execution_count": 17,
      "outputs": [
        {
          "output_type": "stream",
          "text": [
            "Clipping input data to the valid range for imshow with RGB data ([0..1] for floats or [0..255] for integers).\n"
          ],
          "name": "stderr"
        },
        {
          "output_type": "display_data",
          "data": {
            "image/png": "[encoded data removed]",
            "text/plain": [
              "<Figure size 1872x1872 with 1 Axes>"
            ]
          },
          "metadata": {
            "tags": []
          }
        }
      ]
    },
    {
      "cell_type": "markdown",
      "metadata": {
        "id": "XIXHNKXQGSEY",
        "colab_type": "text"
      },
      "source": [
        "# Test the model what we have written"
      ]
    },
    {
      "cell_type": "code",
      "metadata": {
        "id": "DWsANpiaGNMy",
        "colab_type": "code",
        "colab": {}
      },
      "source": [
        "import torch.nn as nn\n",
        "import torch.nn.functional as F\n",
        "from torchsummary import summary"
      ],
      "execution_count": 0,
      "outputs": []
    },
    {
      "cell_type": "code",
      "metadata": {
        "id": "5icN8QygGUCh",
        "colab_type": "code",
        "colab": {
          "base_uri": "https://localhost:8080/",
          "height": 1000
        },
        "outputId": "7184d3d8-aae5-48bb-82f1-f4d8eebca88c"
      },
      "source": [
        "import torchvision.models as models\n",
        "\n",
        "model = models.resnet18()\n",
        "\n",
        "#Finetune Final few layers to adjust for tiny imagenet input\n",
        "model.avgpool = nn.AdaptiveAvgPool2d(1)\n",
        "num_ftrs = model.fc.in_features\n",
        "model.fc = nn.Linear(num_ftrs, 200)\n",
        "model = model.to(device)\n",
        "\n",
        "summary(model,(3,64,64))"
      ],
      "execution_count": 19,
      "outputs": [
        {
          "output_type": "stream",
          "text": [
            "----------------------------------------------------------------\n",
            "        Layer (type)               Output Shape         Param #\n",
            "================================================================\n",
            "            Conv2d-1           [-1, 64, 32, 32]           9,408\n",
            "       BatchNorm2d-2           [-1, 64, 32, 32]             128\n",
            "              ReLU-3           [-1, 64, 32, 32]               0\n",
            "         MaxPool2d-4           [-1, 64, 16, 16]               0\n",
            "            Conv2d-5           [-1, 64, 16, 16]          36,864\n",
            "       BatchNorm2d-6           [-1, 64, 16, 16]             128\n",
            "              ReLU-7           [-1, 64, 16, 16]               0\n",
            "            Conv2d-8           [-1, 64, 16, 16]          36,864\n",
            "       BatchNorm2d-9           [-1, 64, 16, 16]             128\n",
            "             ReLU-10           [-1, 64, 16, 16]               0\n",
            "       BasicBlock-11           [-1, 64, 16, 16]               0\n",
            "           Conv2d-12           [-1, 64, 16, 16]          36,864\n",
            "      BatchNorm2d-13           [-1, 64, 16, 16]             128\n",
            "             ReLU-14           [-1, 64, 16, 16]               0\n",
            "           Conv2d-15           [-1, 64, 16, 16]          36,864\n",
            "      BatchNorm2d-16           [-1, 64, 16, 16]             128\n",
            "             ReLU-17           [-1, 64, 16, 16]               0\n",
            "       BasicBlock-18           [-1, 64, 16, 16]               0\n",
            "           Conv2d-19            [-1, 128, 8, 8]          73,728\n",
            "      BatchNorm2d-20            [-1, 128, 8, 8]             256\n",
            "             ReLU-21            [-1, 128, 8, 8]               0\n",
            "           Conv2d-22            [-1, 128, 8, 8]         147,456\n",
            "      BatchNorm2d-23            [-1, 128, 8, 8]             256\n",
            "           Conv2d-24            [-1, 128, 8, 8]           8,192\n",
            "      BatchNorm2d-25            [-1, 128, 8, 8]             256\n",
            "             ReLU-26            [-1, 128, 8, 8]               0\n",
            "       BasicBlock-27            [-1, 128, 8, 8]               0\n",
            "           Conv2d-28            [-1, 128, 8, 8]         147,456\n",
            "      BatchNorm2d-29            [-1, 128, 8, 8]             256\n",
            "             ReLU-30            [-1, 128, 8, 8]               0\n",
            "           Conv2d-31            [-1, 128, 8, 8]         147,456\n",
            "      BatchNorm2d-32            [-1, 128, 8, 8]             256\n",
            "             ReLU-33            [-1, 128, 8, 8]               0\n",
            "       BasicBlock-34            [-1, 128, 8, 8]               0\n",
            "           Conv2d-35            [-1, 256, 4, 4]         294,912\n",
            "      BatchNorm2d-36            [-1, 256, 4, 4]             512\n",
            "             ReLU-37            [-1, 256, 4, 4]               0\n",
            "           Conv2d-38            [-1, 256, 4, 4]         589,824\n",
            "      BatchNorm2d-39            [-1, 256, 4, 4]             512\n",
            "           Conv2d-40            [-1, 256, 4, 4]          32,768\n",
            "      BatchNorm2d-41            [-1, 256, 4, 4]             512\n",
            "             ReLU-42            [-1, 256, 4, 4]               0\n",
            "       BasicBlock-43            [-1, 256, 4, 4]               0\n",
            "           Conv2d-44            [-1, 256, 4, 4]         589,824\n",
            "      BatchNorm2d-45            [-1, 256, 4, 4]             512\n",
            "             ReLU-46            [-1, 256, 4, 4]               0\n",
            "           Conv2d-47            [-1, 256, 4, 4]         589,824\n",
            "      BatchNorm2d-48            [-1, 256, 4, 4]             512\n",
            "             ReLU-49            [-1, 256, 4, 4]               0\n",
            "       BasicBlock-50            [-1, 256, 4, 4]               0\n",
            "           Conv2d-51            [-1, 512, 2, 2]       1,179,648\n",
            "      BatchNorm2d-52            [-1, 512, 2, 2]           1,024\n",
            "             ReLU-53            [-1, 512, 2, 2]               0\n",
            "           Conv2d-54            [-1, 512, 2, 2]       2,359,296\n",
            "      BatchNorm2d-55            [-1, 512, 2, 2]           1,024\n",
            "           Conv2d-56            [-1, 512, 2, 2]         131,072\n",
            "      BatchNorm2d-57            [-1, 512, 2, 2]           1,024\n",
            "             ReLU-58            [-1, 512, 2, 2]               0\n",
            "       BasicBlock-59            [-1, 512, 2, 2]               0\n",
            "           Conv2d-60            [-1, 512, 2, 2]       2,359,296\n",
            "      BatchNorm2d-61            [-1, 512, 2, 2]           1,024\n",
            "             ReLU-62            [-1, 512, 2, 2]               0\n",
            "           Conv2d-63            [-1, 512, 2, 2]       2,359,296\n",
            "      BatchNorm2d-64            [-1, 512, 2, 2]           1,024\n",
            "             ReLU-65            [-1, 512, 2, 2]               0\n",
            "       BasicBlock-66            [-1, 512, 2, 2]               0\n",
            "AdaptiveAvgPool2d-67            [-1, 512, 1, 1]               0\n",
            "           Linear-68                  [-1, 200]         102,600\n",
            "================================================================\n",
            "Total params: 11,279,112\n",
            "Trainable params: 11,279,112\n",
            "Non-trainable params: 0\n",
            "----------------------------------------------------------------\n",
            "Input size (MB): 0.05\n",
            "Forward/backward pass size (MB): 5.13\n",
            "Params size (MB): 43.03\n",
            "Estimated Total Size (MB): 48.20\n",
            "----------------------------------------------------------------\n"
          ],
          "name": "stdout"
        }
      ]
    },
    {
      "cell_type": "code",
      "metadata": {
        "id": "U-dspyZRGVD7",
        "colab_type": "code",
        "colab": {
          "base_uri": "https://localhost:8080/",
          "height": 50
        },
        "outputId": "a3bc74d4-3a92-43ba-e5d7-610c99b487cd"
      },
      "source": [
        "for images, labels in train_dl:\n",
        "    images, labels = images.cuda(), labels.cuda()\n",
        "    print('images.shape:', images.shape)\n",
        "    out = model(images)\n",
        "    print('out.shape:', out.shape)\n",
        "    break"
      ],
      "execution_count": 20,
      "outputs": [
        {
          "output_type": "stream",
          "text": [
            "images.shape: torch.Size([512, 3, 56, 56])\n",
            "out.shape: torch.Size([512, 200])\n"
          ],
          "name": "stdout"
        }
      ]
    },
    {
      "cell_type": "markdown",
      "metadata": {
        "id": "hwQLfiFJGcFj",
        "colab_type": "text"
      },
      "source": [
        "# Implementation of One cycle policy"
      ]
    },
    {
      "cell_type": "code",
      "metadata": {
        "id": "iQSD_zCeGYuM",
        "colab_type": "code",
        "colab": {
          "base_uri": "https://localhost:8080/",
          "height": 339
        },
        "outputId": "a07f6538-709f-4800-fb32-bf404a92ecfd"
      },
      "source": [
        "!pip install torch-lr-finder -v --global-option=\"amp\""
      ],
      "execution_count": 21,
      "outputs": [
        {
          "output_type": "stream",
          "text": [
            "/usr/local/lib/python3.6/dist-packages/pip/_internal/commands/install.py:283: UserWarning: Disabling all use of wheels due to the use of --build-options / --global-options / --install-options.\n",
            "  cmdoptions.check_install_build_global(options)\n",
            "Created temporary directory: /tmp/pip-ephem-wheel-cache-bhnyeqjc\n",
            "Created temporary directory: /tmp/pip-req-tracker-648e_l3j\n",
            "Created requirements tracker '/tmp/pip-req-tracker-648e_l3j'\n",
            "Created temporary directory: /tmp/pip-install-u3zq1lam\n",
            "Requirement already satisfied: torch-lr-finder in /usr/local/lib/python3.6/dist-packages (0.1.4)\n",
            "Requirement already satisfied: matplotlib in /usr/local/lib/python3.6/dist-packages (from torch-lr-finder) (3.2.1)\n",
            "Requirement already satisfied: numpy in /usr/local/lib/python3.6/dist-packages (from torch-lr-finder) (1.18.2)\n",
            "Requirement already satisfied: torch>=0.4.1 in /usr/local/lib/python3.6/dist-packages (from torch-lr-finder) (1.4.0)\n",
            "Requirement already satisfied: tqdm in /usr/local/lib/python3.6/dist-packages (from torch-lr-finder) (4.38.0)\n",
            "Requirement already satisfied: kiwisolver>=1.0.1 in /usr/local/lib/python3.6/dist-packages (from matplotlib->torch-lr-finder) (1.2.0)\n",
            "Requirement already satisfied: python-dateutil>=2.1 in /usr/local/lib/python3.6/dist-packages (from matplotlib->torch-lr-finder) (2.8.1)\n",
            "Requirement already satisfied: cycler>=0.10 in /usr/local/lib/python3.6/dist-packages (from matplotlib->torch-lr-finder) (0.10.0)\n",
            "Requirement already satisfied: pyparsing!=2.0.4,!=2.1.2,!=2.1.6,>=2.0.1 in /usr/local/lib/python3.6/dist-packages (from matplotlib->torch-lr-finder) (2.4.7)\n",
            "Requirement already satisfied: six>=1.5 in /usr/local/lib/python3.6/dist-packages (from python-dateutil>=2.1->matplotlib->torch-lr-finder) (1.12.0)\n",
            "Cleaning up...\n",
            "Removed build tracker '/tmp/pip-req-tracker-648e_l3j'\n"
          ],
          "name": "stdout"
        }
      ]
    },
    {
      "cell_type": "code",
      "metadata": {
        "id": "8_3KAwVPGeBm",
        "colab_type": "code",
        "colab": {
          "base_uri": "https://localhost:8080/",
          "height": 349,
          "referenced_widgets": [
            "28f94a29701448a2a501e650e1298458",
            "cd08cd3ef708481a9f304d199ebab9d5",
            "bf36d3cde3fa4b55a8c73646a1cc59d6",
            "a8068c29cc6d469e9d8fabc5357737b1",
            "a868bbce4148427b9fe82b520c6feaf5",
            "69e2123d9dcb4bed9be3cfcde9013482",
            "76db39aefab747f9a0718a87aca60156",
            "c020968411e14187ac12fecacbd0013d"
          ]
        },
        "outputId": "6565a62f-16f8-4944-bcbb-3a89b88afed9"
      },
      "source": [
        "# LR range test\n",
        "from torch_lr_finder import LRFinder\n",
        "import torch.optim as optim\n",
        "\n",
        "criterion = nn.CrossEntropyLoss()\n",
        "optimizer = optim.SGD(model.parameters(), lr=1e-7, momentum=0.9)\n",
        "\n",
        "lr_finder = LRFinder(model, optimizer, criterion, device=\"cuda\")\n",
        "lr_finder.range_test(train_dl, start_lr=1e-7,end_lr=10, num_iter=100, step_mode=\"exp\")\n",
        "lr_finder.plot(log_lr=True)\n",
        "lr_finder.reset()"
      ],
      "execution_count": 22,
      "outputs": [
        {
          "output_type": "display_data",
          "data": {
            "application/vnd.jupyter.widget-view+json": {
              "model_id": "28f94a29701448a2a501e650e1298458",
              "version_minor": 0,
              "version_major": 2
            },
            "text/plain": [
              "HBox(children=(IntProgress(value=0), HTML(value='')))"
            ]
          },
          "metadata": {
            "tags": []
          }
        },
        {
          "output_type": "stream",
          "text": [
            "\n",
            "Learning rate search finished. See the graph with {finder_name}.plot()\n"
          ],
          "name": "stdout"
        },
        {
          "output_type": "display_data",
          "data": {
            "image/png": "[encoded data removed]",
            "text/plain": [
              "<Figure size 432x288 with 1 Axes>"
            ]
          },
          "metadata": {
            "tags": [],
            "needs_background": "light"
          }
        }
      ]
    },
    {
      "cell_type": "code",
      "metadata": {
        "id": "T4fFPuEyGh_R",
        "colab_type": "code",
        "colab": {
          "base_uri": "https://localhost:8080/",
          "height": 101
        },
        "outputId": "86b77f8e-b814-4d72-8c19-410818967b83"
      },
      "source": [
        "print('Min loss value is : {} \\nMin LR value is   : {}'.format(min(lr_finder.history['loss']),format(min(lr_finder.history['lr']),'.10f')))\n",
        "\n",
        "print('Min loss observed at index : {}'.format(lr_finder.history['loss'].index(min(lr_finder.history['loss']))))\n",
        "print('so corresponding LR value at that index is--> LRmax : {}'.format(lr_finder.history['lr'][lr_finder.history['loss'].index(min(lr_finder.history['loss']))]))\n",
        "lrmax = lr_finder.history['lr'][lr_finder.history['loss'].index(min(lr_finder.history['loss']))]\n",
        "lrmax = float('{:4f}'.format(lrmax))\n",
        "print(lrmax)"
      ],
      "execution_count": 23,
      "outputs": [
        {
          "output_type": "stream",
          "text": [
            "Min loss value is : 5.3793914809001535 \n",
            "Min LR value is   : 0.0000001445\n",
            "Min loss observed at index : 75\n",
            "so corresponding LR value at that index is--> LRmax : 0.1445439770745928\n",
            "0.144544\n"
          ],
          "name": "stdout"
        }
      ]
    },
    {
      "cell_type": "code",
      "metadata": {
        "id": "EAgse6m4GkZv",
        "colab_type": "code",
        "colab": {}
      },
      "source": [
        "from torch.optim.lr_scheduler import OneCycleLR\n",
        "\n",
        "scheduler = OneCycleLR(optimizer, max_lr = lrmax, total_steps=50, epochs=\n",
        "                       None, steps_per_epoch=None, pct_start=0.8, anneal_strategy='linear', \n",
        "                       cycle_momentum=True, base_momentum=0.85, max_momentum=0.95, div_factor=10,final_div_factor=10)"
      ],
      "execution_count": 0,
      "outputs": []
    },
    {
      "cell_type": "code",
      "metadata": {
        "id": "Om1NYX42NNYP",
        "colab_type": "code",
        "colab": {}
      },
      "source": [
        "trainaccuracies = []\n",
        "trainlosses = []\n",
        "vallosses = []\n",
        "valaccuracies = []\n",
        "misclassifieditems = []\n",
        "lr_values = []"
      ],
      "execution_count": 0,
      "outputs": []
    },
    {
      "cell_type": "code",
      "metadata": {
        "id": "o2kH3Z1iGm3T",
        "colab_type": "code",
        "colab": {
          "base_uri": "https://localhost:8080/",
          "height": 1000
        },
        "outputId": "ed4afc9a-7793-431c-fa4a-5c4a61dc43b4"
      },
      "source": [
        "from lib import trainTestMethods\n",
        "for epoch in range(1,26):\n",
        "    print(\"\\nEPOCH:\", epoch,'LR:',optimizer.param_groups[0]['lr'])\n",
        "    lr_values.append(optimizer.param_groups[0]['lr'])\n",
        "    trainTestMethods.trainWithAccPlt(network=model, \n",
        "                                     trainloader=train_dl, \n",
        "                                     device='cuda', \n",
        "                                     optimizer=optimizer, \n",
        "                                     criterion=criterion, \n",
        "                                     trainaccuracies=trainaccuracies, \n",
        "                                     trainlosses=trainlosses, \n",
        "                                     epoch=epoch)\n",
        "    scheduler.step()\n",
        "    testloss = trainTestMethods.testWithAccPlt(network=model, \n",
        "                                               testloader=test_dl, \n",
        "                                               device='cuda', \n",
        "                                               criterion=criterion, \n",
        "                                               valaccuracies=valaccuracies, \n",
        "                                               vallosses=vallosses, \n",
        "                                               epoch=epoch)"
      ],
      "execution_count": 26,
      "outputs": [
        {
          "output_type": "stream",
          "text": [
            "\n",
            "EPOCH: 1 LR: 0.014454400000000001\n",
            "\n",
            "Epoch: 1\n",
            " [================================================================>]  Step: 56ms | Tot: 1m3s | Train >> Loss: 5.094 | Acc: 2.301% (1772/77000) 151/151 \n",
            " [================================================================>]  Step: 19ms | Tot: 12s995ms | Test >> Loss: 4.842 | Acc: 4.694% (1549/33000) 65/65 \n",
            "0.009537222775545987\n",
            "\n",
            "EPOCH: 2 LR: 0.01779003076923077\n",
            "\n",
            "Epoch: 2\n",
            " [================================================================>]  Step: 56ms | Tot: 1m3s | Train >> Loss: 4.623 | Acc: 6.553% (5046/77000) 151/151 \n",
            " [================================================================>]  Step: 19ms | Tot: 12s919ms | Test >> Loss: 4.475 | Acc: 8.445% (2787/33000) 65/65 \n",
            "0.008814892450968425\n",
            "\n",
            "EPOCH: 3 LR: 0.02112566153846154\n",
            "\n",
            "Epoch: 3\n",
            " [================================================================>]  Step: 55ms | Tot: 1m4s | Train >> Loss: 4.375 | Acc: 9.494% (7310/77000) 151/151 \n",
            " [================================================================>]  Step: 18ms | Tot: 12s838ms | Test >> Loss: 4.270 | Acc: 11.267% (3718/33000) 65/65 \n",
            "0.008411542639587865\n",
            "\n",
            "EPOCH: 4 LR: 0.02446129230769231\n",
            "\n",
            "Epoch: 4\n",
            " [================================================================>]  Step: 54ms | Tot: 1m3s | Train >> Loss: 4.208 | Acc: 11.591% (8925/77000) 151/151 \n",
            " [================================================================>]  Step: 21ms | Tot: 12s973ms | Test >> Loss: 4.185 | Acc: 12.321% (4066/33000) 65/65 \n",
            "0.008242248210040005\n",
            "\n",
            "EPOCH: 5 LR: 0.027796923076923077\n",
            "\n",
            "Epoch: 5\n",
            " [================================================================>]  Step: 55ms | Tot: 1m3s | Train >> Loss: 4.089 | Acc: 13.197% (10162/77000) 151/151 \n",
            " [================================================================>]  Step: 22ms | Tot: 12s766ms | Test >> Loss: 4.036 | Acc: 14.748% (4867/33000) 65/65 \n",
            "0.007949226718960386\n",
            "\n",
            "EPOCH: 6 LR: 0.03113255384615385\n",
            "\n",
            "Epoch: 6\n",
            " [================================================================>]  Step: 52ms | Tot: 1m3s | Train >> Loss: 3.965 | Acc: 14.983% (11537/77000) 151/151 \n",
            " [================================================================>]  Step: 19ms | Tot: 12s828ms | Test >> Loss: 4.004 | Acc: 14.697% (4850/33000) 65/65 \n",
            "0.007886929136334044\n",
            "\n",
            "EPOCH: 7 LR: 0.03446818461538462\n",
            "\n",
            "Epoch: 7\n",
            " [================================================================>]  Step: 54ms | Tot: 1m4s | Train >> Loss: 3.870 | Acc: 16.395% (12624/77000) 151/151 \n",
            " [================================================================>]  Step: 21ms | Tot: 13s152ms | Test >> Loss: 3.898 | Acc: 16.227% (5355/33000) 65/65 \n",
            "0.007677148768396089\n",
            "\n",
            "EPOCH: 8 LR: 0.037803815384615386\n",
            "\n",
            "Epoch: 8\n",
            " [================================================================>]  Step: 56ms | Tot: 1m4s | Train >> Loss: 3.767 | Acc: 17.714% (13640/77000) 151/151 \n",
            " [================================================================>]  Step: 20ms | Tot: 13s160ms | Test >> Loss: 3.841 | Acc: 17.327% (5718/33000) 65/65 \n",
            "0.007564731121063232\n",
            "\n",
            "EPOCH: 9 LR: 0.041139446153846154\n",
            "\n",
            "Epoch: 9\n",
            " [================================================================>]  Step: 58ms | Tot: 1m4s | Train >> Loss: 3.686 | Acc: 18.861% (14523/77000) 151/151 \n",
            " [================================================================>]  Step: 19ms | Tot: 12s886ms | Test >> Loss: 3.724 | Acc: 18.897% (6236/33000) 65/65 \n",
            "0.0073360921903090045\n",
            "\n",
            "EPOCH: 10 LR: 0.04447507692307692\n",
            "\n",
            "Epoch: 10\n",
            " [================================================================>]  Step: 54ms | Tot: 1m4s | Train >> Loss: 3.604 | Acc: 20.023% (15418/77000) 151/151 \n",
            " [================================================================>]  Step: 15ms | Tot: 12s951ms | Test >> Loss: 3.780 | Acc: 18.882% (6231/33000) 65/65 \n",
            "0.0074446807305018105\n",
            "\n",
            "EPOCH: 11 LR: 0.04781070769230769\n",
            "\n",
            "Epoch: 11\n",
            " [================================================================>]  Step: 53ms | Tot: 1m5s | Train >> Loss: 3.531 | Acc: 21.212% (16333/77000) 151/151 \n",
            " [================================================================>]  Step: 18ms | Tot: 13s379ms | Test >> Loss: 3.645 | Acc: 20.624% (6806/33000) 65/65 \n",
            "0.007179168477202907\n",
            "\n",
            "EPOCH: 12 LR: 0.05114633846153846\n",
            "\n",
            "Epoch: 12\n",
            " [================================================================>]  Step: 53ms | Tot: 1m6s | Train >> Loss: 3.458 | Acc: 22.264% (17143/77000) 151/151 \n",
            " [================================================================>]  Step: 19ms | Tot: 13s416ms | Test >> Loss: 3.639 | Acc: 20.912% (6901/33000) 65/65 \n",
            "0.0071675986485047775\n",
            "\n",
            "EPOCH: 13 LR: 0.054481969230769235\n",
            "\n",
            "Epoch: 13\n",
            " [================================================================>]  Step: 53ms | Tot: 1m6s | Train >> Loss: 3.388 | Acc: 23.452% (18058/77000) 151/151 \n",
            " [================================================================>]  Step: 16ms | Tot: 13s487ms | Test >> Loss: 3.501 | Acc: 22.691% (7488/33000) 65/65 \n",
            "0.006896531477118983\n",
            "\n",
            "EPOCH: 14 LR: 0.0578176\n",
            "\n",
            "Epoch: 14\n",
            " [================================================================>]  Step: 57ms | Tot: 1m8s | Train >> Loss: 3.339 | Acc: 24.281% (18696/77000) 151/151 \n",
            " [================================================================>]  Step: 21ms | Tot: 13s430ms | Test >> Loss: 3.466 | Acc: 23.130% (7633/33000) 65/65 \n",
            "0.00682706965822162\n",
            "\n",
            "EPOCH: 15 LR: 0.061153230769230765\n",
            "\n",
            "Epoch: 15\n",
            " [================================================================>]  Step: 52ms | Tot: 1m6s | Train >> Loss: 3.266 | Acc: 25.451% (19597/77000) 151/151 \n",
            " [================================================================>]  Step: 25ms | Tot: 13s276ms | Test >> Loss: 3.475 | Acc: 23.088% (7619/33000) 65/65 \n",
            "0.006844394691062696\n",
            "\n",
            "EPOCH: 16 LR: 0.06448886153846155\n",
            "\n",
            "Epoch: 16\n",
            " [================================================================>]  Step: 51ms | Tot: 1m5s | Train >> Loss: 3.203 | Acc: 26.483% (20392/77000) 151/151 \n",
            " [================================================================>]  Step: 20ms | Tot: 12s958ms | Test >> Loss: 3.405 | Acc: 25.115% (8288/33000) 65/65 \n",
            "0.006705896442586725\n",
            "\n",
            "EPOCH: 17 LR: 0.0678244923076923\n",
            "\n",
            "Epoch: 17\n",
            " [================================================================>]  Step: 55ms | Tot: 1m7s | Train >> Loss: 3.148 | Acc: 27.287% (21011/77000) 151/151 \n",
            " [================================================================>]  Step: 24ms | Tot: 14s101ms | Test >> Loss: 3.520 | Acc: 23.033% (7601/33000) 65/65 \n",
            "0.006932744535532865\n",
            "\n",
            "EPOCH: 18 LR: 0.07116012307692308\n",
            "\n",
            "Epoch: 18\n",
            " [================================================================>]  Step: 54ms | Tot: 1m9s | Train >> Loss: 3.089 | Acc: 28.574% (22002/77000) 151/151 \n",
            " [================================================================>]  Step: 20ms | Tot: 14s10ms | Test >> Loss: 3.443 | Acc: 24.467% (8074/33000) 65/65 \n",
            "0.006780915039958376\n",
            "\n",
            "EPOCH: 19 LR: 0.07449575384615385\n",
            "\n",
            "Epoch: 19\n",
            " [================================================================>]  Step: 58ms | Tot: 1m9s | Train >> Loss: 3.042 | Acc: 29.291% (22554/77000) 151/151 \n",
            " [================================================================>]  Step: 20ms | Tot: 13s854ms | Test >> Loss: 3.300 | Acc: 26.791% (8841/33000) 65/65 \n",
            "0.006500301552541328\n",
            "\n",
            "EPOCH: 20 LR: 0.07783138461538462\n",
            "\n",
            "Epoch: 20\n",
            " [================================================================>]  Step: 54ms | Tot: 1m9s | Train >> Loss: 2.981 | Acc: 30.451% (23447/77000) 151/151 \n",
            " [================================================================>]  Step: 20ms | Tot: 13s951ms | Test >> Loss: 3.365 | Acc: 26.176% (8638/33000) 65/65 \n",
            "0.0066282466541637075\n",
            "\n",
            "EPOCH: 21 LR: 0.08116701538461539\n",
            "\n",
            "Epoch: 21\n",
            " [================================================================>]  Step: 58ms | Tot: 1m9s | Train >> Loss: 2.931 | Acc: 31.108% (23953/77000) 151/151 \n",
            " [================================================================>]  Step: 17ms | Tot: 14s167ms | Test >> Loss: 3.390 | Acc: 26.094% (8611/33000) 65/65 \n",
            "0.006676708951140895\n",
            "\n",
            "EPOCH: 22 LR: 0.08450264615384616\n",
            "\n",
            "Epoch: 22\n",
            " [================================================================>]  Step: 52ms | Tot: 1m9s | Train >> Loss: 2.880 | Acc: 32.258% (24839/77000) 151/151 \n",
            " [================================================================>]  Step: 20ms | Tot: 13s549ms | Test >> Loss: 3.374 | Acc: 26.215% (8651/33000) 65/65 \n",
            "0.00664542969790372\n",
            "\n",
            "EPOCH: 23 LR: 0.08783827692307693\n",
            "\n",
            "Epoch: 23\n",
            " [================================================================>]  Step: 55ms | Tot: 1m7s | Train >> Loss: 2.824 | Acc: 33.023% (25428/77000) 151/151 \n",
            " [================================================================>]  Step: 22ms | Tot: 13s737ms | Test >> Loss: 3.200 | Acc: 28.576% (9430/33000) 65/65 \n",
            "0.006303768334966717\n",
            "\n",
            "EPOCH: 24 LR: 0.0911739076923077\n",
            "\n",
            "Epoch: 24\n",
            " [================================================================>]  Step: 59ms | Tot: 1m7s | Train >> Loss: 2.782 | Acc: 33.632% (25897/77000) 151/151 \n",
            " [================================================================>]  Step: 21ms | Tot: 13s672ms | Test >> Loss: 3.234 | Acc: 28.464% (9393/33000) 65/65 \n",
            "0.006369159423943722\n",
            "\n",
            "EPOCH: 25 LR: 0.09450953846153848\n",
            "\n",
            "Epoch: 25\n",
            " [================================================================>]  Step: 54ms | Tot: 1m7s | Train >> Loss: 2.715 | Acc: 34.877% (26855/77000) 151/151 \n",
            " [================================================================>]  Step: 23ms | Tot: 13s103ms | Test >> Loss: 3.260 | Acc: 28.633% (9449/33000) 65/65 \n",
            "0.006420703721768928\n"
          ],
          "name": "stdout"
        }
      ]
    },
    {
      "cell_type": "code",
      "metadata": {
        "id": "O6R2qfxHKcqG",
        "colab_type": "code",
        "colab": {
          "base_uri": "https://localhost:8080/",
          "height": 1000
        },
        "outputId": "0e74f22f-858a-4c3f-9c93-60acf61364fd"
      },
      "source": [
        "from lib import trainTestMethods\n",
        "for epoch in range(26,51):\n",
        "    print(\"\\nEPOCH:\", epoch,'LR:',optimizer.param_groups[0]['lr'])\n",
        "    lr_values.append(optimizer.param_groups[0]['lr'])\n",
        "    trainTestMethods.trainWithAccPlt(network=model, \n",
        "                                     trainloader=train_dl, \n",
        "                                     device='cuda', \n",
        "                                     optimizer=optimizer, \n",
        "                                     criterion=criterion, \n",
        "                                     trainaccuracies=trainaccuracies, \n",
        "                                     trainlosses=trainlosses, \n",
        "                                     epoch=epoch)\n",
        "    scheduler.step()\n",
        "    testloss = trainTestMethods.testWithAccPlt(network=model, \n",
        "                                               testloader=test_dl, \n",
        "                                               device='cuda', \n",
        "                                               criterion=criterion, \n",
        "                                               valaccuracies=valaccuracies, \n",
        "                                               vallosses=vallosses, \n",
        "                                               epoch=epoch)"
      ],
      "execution_count": 27,
      "outputs": [
        {
          "output_type": "stream",
          "text": [
            "\n",
            "EPOCH: 26 LR: 0.09784516923076925\n",
            "\n",
            "Epoch: 26\n",
            " [================================================================>]  Step: 52ms | Tot: 1m5s | Train >> Loss: 2.679 | Acc: 35.701% (27490/77000) 151/151 \n",
            " [================================================================>]  Step: 19ms | Tot: 13s67ms | Test >> Loss: 3.231 | Acc: 28.636% (9450/33000) 65/65 \n",
            "0.006363562558636521\n",
            "\n",
            "EPOCH: 27 LR: 0.1011808\n",
            "\n",
            "Epoch: 27\n",
            " [================================================================>]  Step: 54ms | Tot: 1m4s | Train >> Loss: 2.619 | Acc: 36.649% (28220/77000) 151/151 \n",
            " [================================================================>]  Step: 24ms | Tot: 12s938ms | Test >> Loss: 3.194 | Acc: 29.527% (9744/33000) 65/65 \n",
            "0.006292102651162581\n",
            "\n",
            "EPOCH: 28 LR: 0.10451643076923077\n",
            "\n",
            "Epoch: 28\n",
            " [================================================================>]  Step: 57ms | Tot: 1m8s | Train >> Loss: 2.578 | Acc: 37.313% (28731/77000) 151/151 \n",
            " [================================================================>]  Step: 18ms | Tot: 13s932ms | Test >> Loss: 3.228 | Acc: 29.612% (9772/33000) 65/65 \n",
            "0.006358665997331793\n",
            "\n",
            "EPOCH: 29 LR: 0.10785206153846154\n",
            "\n",
            "Epoch: 29\n",
            " [================================================================>]  Step: 57ms | Tot: 1m9s | Train >> Loss: 2.514 | Acc: 38.506% (29650/77000) 151/151 \n",
            " [================================================================>]  Step: 27ms | Tot: 14s21ms | Test >> Loss: 3.283 | Acc: 28.848% (9520/33000) 65/65 \n",
            "0.006467412070794539\n",
            "\n",
            "EPOCH: 30 LR: 0.11118769230769232\n",
            "\n",
            "Epoch: 30\n",
            " [================================================================>]  Step: 52ms | Tot: 1m9s | Train >> Loss: 2.470 | Acc: 39.535% (30442/77000) 151/151 \n",
            " [================================================================>]  Step: 20ms | Tot: 13s493ms | Test >> Loss: 3.288 | Acc: 29.506% (9737/33000) 65/65 \n",
            "0.006476269505240701\n",
            "\n",
            "EPOCH: 31 LR: 0.11452332307692309\n",
            "\n",
            "Epoch: 31\n",
            " [================================================================>]  Step: 54ms | Tot: 1m9s | Train >> Loss: 2.417 | Acc: 40.395% (31104/77000) 151/151 \n",
            " [================================================================>]  Step: 19ms | Tot: 13s823ms | Test >> Loss: 3.329 | Acc: 28.436% (9384/33000) 65/65 \n",
            "0.006557586142511079\n",
            "\n",
            "EPOCH: 32 LR: 0.11785895384615384\n",
            "\n",
            "Epoch: 32\n",
            " [================================================================>]  Step: 56ms | Tot: 1m9s | Train >> Loss: 2.362 | Acc: 41.373% (31857/77000) 151/151 \n",
            " [================================================================>]  Step: 25ms | Tot: 13s897ms | Test >> Loss: 3.268 | Acc: 29.412% (9706/33000) 65/65 \n",
            "0.00643718806180087\n",
            "\n",
            "EPOCH: 33 LR: 0.12119458461538461\n",
            "\n",
            "Epoch: 33\n",
            " [================================================================>]  Step: 56ms | Tot: 1m9s | Train >> Loss: 2.309 | Acc: 42.265% (32544/77000) 151/151 \n",
            " [================================================================>]  Step: 27ms | Tot: 13s908ms | Test >> Loss: 3.359 | Acc: 28.691% (9468/33000) 65/65 \n",
            "0.006615664633837613\n",
            "\n",
            "EPOCH: 34 LR: 0.1245302153846154\n",
            "\n",
            "Epoch: 34\n",
            " [================================================================>]  Step: 57ms | Tot: 1m9s | Train >> Loss: 2.255 | Acc: 43.410% (33426/77000) 151/151 \n",
            " [================================================================>]  Step: 18ms | Tot: 13s433ms | Test >> Loss: 3.323 | Acc: 29.703% (9802/33000) 65/65 \n",
            "0.006546091679370765\n",
            "\n",
            "EPOCH: 35 LR: 0.12786584615384616\n",
            "\n",
            "Epoch: 35\n",
            " [================================================================>]  Step: 57ms | Tot: 1m9s | Train >> Loss: 2.208 | Acc: 44.442% (34220/77000) 151/151 \n",
            " [================================================================>]  Step: 18ms | Tot: 14s661ms | Test >> Loss: 3.350 | Acc: 28.967% (9559/33000) 65/65 \n",
            "0.006599402691378738\n",
            "\n",
            "EPOCH: 36 LR: 0.13120147692307693\n",
            "\n",
            "Epoch: 36\n",
            " [================================================================>]  Step: 54ms | Tot: 1m9s | Train >> Loss: 2.147 | Acc: 45.613% (35122/77000) 151/151 \n",
            " [================================================================>]  Step: 21ms | Tot: 14s499ms | Test >> Loss: 3.409 | Acc: 29.427% (9711/33000) 65/65 \n",
            "0.006715538772669705\n",
            "\n",
            "EPOCH: 37 LR: 0.1345371076923077\n",
            "\n",
            "Epoch: 37\n",
            " [================================================================>]  Step: 58ms | Tot: 1m9s | Train >> Loss: 2.109 | Acc: 46.056% (35463/77000) 151/151 \n",
            " [================================================================>]  Step: 21ms | Tot: 14s454ms | Test >> Loss: 3.403 | Acc: 29.839% (9847/33000) 65/65 \n",
            "0.006703218554005478\n",
            "\n",
            "EPOCH: 38 LR: 0.13787273846153847\n",
            "\n",
            "Epoch: 38\n",
            " [================================================================>]  Step: 54ms | Tot: 1m9s | Train >> Loss: 2.044 | Acc: 47.435% (36525/77000) 151/151 \n",
            " [================================================================>]  Step: 21ms | Tot: 14s548ms | Test >> Loss: 3.527 | Acc: 28.627% (9447/33000) 65/65 \n",
            "0.0069479510386784874\n",
            "\n",
            "EPOCH: 39 LR: 0.14120836923076924\n",
            "\n",
            "Epoch: 39\n",
            " [================================================================>]  Step: 55ms | Tot: 1m9s | Train >> Loss: 1.986 | Acc: 48.875% (37634/77000) 151/151 \n",
            " [================================================================>]  Step: 23ms | Tot: 14s103ms | Test >> Loss: 3.536 | Acc: 29.306% (9671/33000) 65/65 \n",
            "0.006964332129016067\n",
            "\n",
            "EPOCH: 40 LR: 0.144544\n",
            "\n",
            "Epoch: 40\n",
            " [================================================================>]  Step: 54ms | Tot: 1m8s | Train >> Loss: 1.938 | Acc: 49.451% (38077/77000) 151/151 \n",
            " [================================================================>]  Step: 24ms | Tot: 13s845ms | Test >> Loss: 3.455 | Acc: 30.064% (9921/33000) 65/65 \n",
            "0.006805400147582546\n",
            "\n",
            "EPOCH: 41 LR: 0.130234144\n",
            "\n",
            "Epoch: 41\n",
            " [================================================================>]  Step: 51ms | Tot: 1m8s | Train >> Loss: 1.855 | Acc: 51.701% (39810/77000) 151/151 \n",
            " [================================================================>]  Step: 20ms | Tot: 13s576ms | Test >> Loss: 3.500 | Acc: 29.694% (9799/33000) 65/65 \n",
            "0.006893533717502247\n",
            "\n",
            "EPOCH: 42 LR: 0.115924288\n",
            "\n",
            "Epoch: 42\n",
            " [================================================================>]  Step: 57ms | Tot: 1m8s | Train >> Loss: 1.771 | Acc: 53.429% (41140/77000) 151/151 \n",
            " [================================================================>]  Step: 22ms | Tot: 13s887ms | Test >> Loss: 3.510 | Acc: 29.864% (9855/33000) 65/65 \n",
            "0.006912693384921912\n",
            "\n",
            "EPOCH: 43 LR: 0.101614432\n",
            "\n",
            "Epoch: 43\n",
            " [================================================================>]  Step: 55ms | Tot: 1m8s | Train >> Loss: 1.672 | Acc: 55.912% (43052/77000) 151/151 \n",
            " [================================================================>]  Step: 16ms | Tot: 13s425ms | Test >> Loss: 3.582 | Acc: 30.079% (9926/33000) 65/65 \n",
            "0.0070559225804878\n",
            "\n",
            "EPOCH: 44 LR: 0.087304576\n",
            "\n",
            "Epoch: 44\n",
            " [================================================================>]  Step: 51ms | Tot: 1m8s | Train >> Loss: 1.572 | Acc: 58.088% (44728/77000) 151/151 \n",
            " [================================================================>]  Step: 19ms | Tot: 13s964ms | Test >> Loss: 3.564 | Acc: 30.152% (9950/33000) 65/65 \n",
            "0.0070208719499183425\n",
            "\n",
            "EPOCH: 45 LR: 0.07299472\n",
            "\n",
            "Epoch: 45\n",
            " [================================================================>]  Step: 56ms | Tot: 1m8s | Train >> Loss: 1.456 | Acc: 60.913% (46903/77000) 151/151 \n",
            " [================================================================>]  Step: 21ms | Tot: 14s8ms | Test >> Loss: 3.666 | Acc: 30.367% (10021/33000) 65/65 \n",
            "0.007221748016097329\n",
            "\n",
            "EPOCH: 46 LR: 0.058684864\n",
            "\n",
            "Epoch: 46\n",
            " [================================================================>]  Step: 54ms | Tot: 1m8s | Train >> Loss: 1.329 | Acc: 64.121% (49373/77000) 151/151 \n",
            " [================================================================>]  Step: 17ms | Tot: 13s844ms | Test >> Loss: 3.626 | Acc: 30.973% (10221/33000) 65/65 \n",
            "0.007141763437878002\n",
            "\n",
            "EPOCH: 47 LR: 0.04437500800000001\n",
            "\n",
            "Epoch: 47\n",
            " [================================================================>]  Step: 55ms | Tot: 1m8s | Train >> Loss: 1.199 | Acc: 67.230% (51767/77000) 151/151 \n",
            " [================================================================>]  Step: 19ms | Tot: 13s812ms | Test >> Loss: 3.672 | Acc: 30.830% (10174/33000) 65/65 \n",
            "0.007233084635301069\n",
            "\n",
            "EPOCH: 48 LR: 0.030065151999999984\n",
            "\n",
            "Epoch: 48\n",
            " [================================================================>]  Step: 59ms | Tot: 1m8s | Train >> Loss: 1.046 | Acc: 71.670% (55186/77000) 151/151 \n",
            " [================================================================>]  Step: 17ms | Tot: 13s829ms | Test >> Loss: 3.680 | Acc: 31.700% (10461/33000) 65/65 \n",
            "0.007248610753001589\n",
            "\n",
            "EPOCH: 49 LR: 0.015755296000000002\n",
            "\n",
            "Epoch: 49\n",
            " [================================================================>]  Step: 59ms | Tot: 1m8s | Train >> Loss: 0.889 | Acc: 76.052% (58560/77000) 151/151 \n",
            " [================================================================>]  Step: 20ms | Tot: 13s825ms | Test >> Loss: 3.631 | Acc: 32.636% (10770/33000) 65/65 \n",
            "0.007152298428795554\n",
            "\n",
            "EPOCH: 50 LR: 0.0014454399999999923\n",
            "\n",
            "Epoch: 50\n",
            " [================================================================>]  Step: 55ms | Tot: 1m8s | Train >> Loss: 0.747 | Acc: 80.384% (61896/77000) 151/151 \n",
            " [================================================================>]  Step: 20ms | Tot: 13s981ms | Test >> Loss: 3.595 | Acc: 33.236% (10968/33000) 65/65 \n",
            "0.007080384575959408\n"
          ],
          "name": "stdout"
        }
      ]
    },
    {
      "cell_type": "markdown",
      "metadata": {
        "id": "4dvxZc0PIRSa",
        "colab_type": "text"
      },
      "source": [
        "# Plot Metrics - Accuracy and Loss"
      ]
    },
    {
      "cell_type": "code",
      "metadata": {
        "id": "IUIBoB40IR6h",
        "colab_type": "code",
        "colab": {
          "base_uri": "https://localhost:8080/",
          "height": 758
        },
        "outputId": "304ae3ef-ad02-4079-df62-ab6bc74faaf2"
      },
      "source": [
        "trainTestMethods.plotmetrics(50,\n",
        "                             trainaccuracies=trainaccuracies, \n",
        "                             testaccuracies=valaccuracies, \n",
        "                             trainlosses=trainlosses, \n",
        "                             testlosses=vallosses, \n",
        "                             savefilename=\"metrics\")"
      ],
      "execution_count": 28,
      "outputs": [
        {
          "output_type": "display_data",
          "data": {
            "image/png": "[encoded data removed]",
            "text/plain": [
              "<Figure size 1080x720 with 2 Axes>"
            ]
          },
          "metadata": {
            "tags": [],
            "needs_background": "light"
          }
        },
        {
          "output_type": "stream",
          "text": [
            "Max. Train Accuracy outoff 50-epochs is : 80.38441558441558 at 50-Epoach\n",
            "Max. Test Accuracy  outoff 50-epochs is : 33.236363636363635 at 50-Epoach\n",
            "\n",
            "\n",
            "Min. Train Loss outoff 50-epochs is : 0.001465 at 50-Epoach\n",
            "Min. Test Loss  outoff 50-epochs is : 0.006292 at 27-Epoach\n",
            "\n",
            "\n",
            "Target-50.0% achieved at 41th epoach,Train accuracy is : 51.701298701298704\n"
          ],
          "name": "stdout"
        }
      ]
    },
    {
      "cell_type": "code",
      "metadata": {
        "id": "EmKAdb0petFQ",
        "colab_type": "code",
        "colab": {
          "base_uri": "https://localhost:8080/",
          "height": 282
        },
        "outputId": "2b0e1fb2-4be7-4ea8-9efa-ea12a7f29137"
      },
      "source": [
        "plt.plot(lr_values)"
      ],
      "execution_count": 29,
      "outputs": [
        {
          "output_type": "execute_result",
          "data": {
            "text/plain": [
              "[<matplotlib.lines.Line2D at 0x7f57e97cd4a8>]"
            ]
          },
          "metadata": {
            "tags": []
          },
          "execution_count": 29
        },
        {
          "output_type": "display_data",
          "data": {
            "image/png": "[encoded data removed]",
            "text/plain": [
              "<Figure size 432x288 with 1 Axes>"
            ]
          },
          "metadata": {
            "tags": [],
            "needs_background": "light"
          }
        }
      ]
    },
    {
      "cell_type": "code",
      "metadata": {
        "id": "BkrHelrLfkr4",
        "colab_type": "code",
        "colab": {}
      },
      "source": [
        ""
      ],
      "execution_count": 0,
      "outputs": []
    }
  ]
}