{
  "nbformat": 4,
  "nbformat_minor": 0,
  "metadata": {
    "colab": {
      "name": "EVA-4-S9-Suman-Kanukollu-LRFinder_CIFAR_10.ipynb",
      "provenance": [],
      "collapsed_sections": [],
      "authorship_tag": "ABX9TyNt9UcrAXvpxlefFs8M8Llv",
      "include_colab_link": true
    },
    "kernelspec": {
      "name": "python3",
      "display_name": "Python 3"
    },
    "accelerator": "GPU",
    "widgets": {
      "application/vnd.jupyter.widget-state+json": {
        "7781c6e6cff149ddb9a0da8e87de7d69": {
          "model_module": "@jupyter-widgets/controls",
          "model_name": "HBoxModel",
          "state": {
            "_view_name": "HBoxView",
            "_dom_classes": [],
            "_model_name": "HBoxModel",
            "_view_module": "@jupyter-widgets/controls",
            "_model_module_version": "1.5.0",
            "_view_count": null,
            "_view_module_version": "1.5.0",
            "box_style": "",
            "layout": "IPY_MODEL_00b8d5ef7e7c4722ab3e7bc3d092c3d0",
            "_model_module": "@jupyter-widgets/controls",
            "children": [
              "IPY_MODEL_94e596bf656642a9af386c5799efb61c",
              "IPY_MODEL_4d26d13a851543f990eea22e83766c87"
            ]
          }
        },
        "00b8d5ef7e7c4722ab3e7bc3d092c3d0": {
          "model_module": "@jupyter-widgets/base",
          "model_name": "LayoutModel",
          "state": {
            "_view_name": "LayoutView",
            "grid_template_rows": null,
            "right": null,
            "justify_content": null,
            "_view_module": "@jupyter-widgets/base",
            "overflow": null,
            "_model_module_version": "1.2.0",
            "_view_count": null,
            "flex_flow": null,
            "width": null,
            "min_width": null,
            "border": null,
            "align_items": null,
            "bottom": null,
            "_model_module": "@jupyter-widgets/base",
            "top": null,
            "grid_column": null,
            "overflow_y": null,
            "overflow_x": null,
            "grid_auto_flow": null,
            "grid_area": null,
            "grid_template_columns": null,
            "flex": null,
            "_model_name": "LayoutModel",
            "justify_items": null,
            "grid_row": null,
            "max_height": null,
            "align_content": null,
            "visibility": null,
            "align_self": null,
            "height": null,
            "min_height": null,
            "padding": null,
            "grid_auto_rows": null,
            "grid_gap": null,
            "max_width": null,
            "order": null,
            "_view_module_version": "1.2.0",
            "grid_template_areas": null,
            "object_position": null,
            "object_fit": null,
            "grid_auto_columns": null,
            "margin": null,
            "display": null,
            "left": null
          }
        },
        "94e596bf656642a9af386c5799efb61c": {
          "model_module": "@jupyter-widgets/controls",
          "model_name": "IntProgressModel",
          "state": {
            "_view_name": "ProgressView",
            "style": "IPY_MODEL_80c4b836d06b422aa0dacc0ced46609f",
            "_dom_classes": [],
            "description": " 99%",
            "_model_name": "IntProgressModel",
            "bar_style": "danger",
            "max": 100,
            "_view_module": "@jupyter-widgets/controls",
            "_model_module_version": "1.5.0",
            "value": 99,
            "_view_count": null,
            "_view_module_version": "1.5.0",
            "orientation": "horizontal",
            "min": 0,
            "description_tooltip": null,
            "_model_module": "@jupyter-widgets/controls",
            "layout": "IPY_MODEL_9e6197ce584a4c279331d61570f09714"
          }
        },
        "4d26d13a851543f990eea22e83766c87": {
          "model_module": "@jupyter-widgets/controls",
          "model_name": "HTMLModel",
          "state": {
            "_view_name": "HTMLView",
            "style": "IPY_MODEL_a09be4bb7b86476b935ebe90d190b90a",
            "_dom_classes": [],
            "description": "",
            "_model_name": "HTMLModel",
            "placeholder": "​",
            "_view_module": "@jupyter-widgets/controls",
            "_model_module_version": "1.5.0",
            "value": " 99/100 [00:07&lt;00:00, 13.09it/s]",
            "_view_count": null,
            "_view_module_version": "1.5.0",
            "description_tooltip": null,
            "_model_module": "@jupyter-widgets/controls",
            "layout": "IPY_MODEL_8b24e68568b04964b8ef0b5151562135"
          }
        },
        "80c4b836d06b422aa0dacc0ced46609f": {
          "model_module": "@jupyter-widgets/controls",
          "model_name": "ProgressStyleModel",
          "state": {
            "_view_name": "StyleView",
            "_model_name": "ProgressStyleModel",
            "description_width": "initial",
            "_view_module": "@jupyter-widgets/base",
            "_model_module_version": "1.5.0",
            "_view_count": null,
            "_view_module_version": "1.2.0",
            "bar_color": null,
            "_model_module": "@jupyter-widgets/controls"
          }
        },
        "9e6197ce584a4c279331d61570f09714": {
          "model_module": "@jupyter-widgets/base",
          "model_name": "LayoutModel",
          "state": {
            "_view_name": "LayoutView",
            "grid_template_rows": null,
            "right": null,
            "justify_content": null,
            "_view_module": "@jupyter-widgets/base",
            "overflow": null,
            "_model_module_version": "1.2.0",
            "_view_count": null,
            "flex_flow": null,
            "width": null,
            "min_width": null,
            "border": null,
            "align_items": null,
            "bottom": null,
            "_model_module": "@jupyter-widgets/base",
            "top": null,
            "grid_column": null,
            "overflow_y": null,
            "overflow_x": null,
            "grid_auto_flow": null,
            "grid_area": null,
            "grid_template_columns": null,
            "flex": null,
            "_model_name": "LayoutModel",
            "justify_items": null,
            "grid_row": null,
            "max_height": null,
            "align_content": null,
            "visibility": null,
            "align_self": null,
            "height": null,
            "min_height": null,
            "padding": null,
            "grid_auto_rows": null,
            "grid_gap": null,
            "max_width": null,
            "order": null,
            "_view_module_version": "1.2.0",
            "grid_template_areas": null,
            "object_position": null,
            "object_fit": null,
            "grid_auto_columns": null,
            "margin": null,
            "display": null,
            "left": null
          }
        },
        "a09be4bb7b86476b935ebe90d190b90a": {
          "model_module": "@jupyter-widgets/controls",
          "model_name": "DescriptionStyleModel",
          "state": {
            "_view_name": "StyleView",
            "_model_name": "DescriptionStyleModel",
            "description_width": "",
            "_view_module": "@jupyter-widgets/base",
            "_model_module_version": "1.5.0",
            "_view_count": null,
            "_view_module_version": "1.2.0",
            "_model_module": "@jupyter-widgets/controls"
          }
        },
        "8b24e68568b04964b8ef0b5151562135": {
          "model_module": "@jupyter-widgets/base",
          "model_name": "LayoutModel",
          "state": {
            "_view_name": "LayoutView",
            "grid_template_rows": null,
            "right": null,
            "justify_content": null,
            "_view_module": "@jupyter-widgets/base",
            "overflow": null,
            "_model_module_version": "1.2.0",
            "_view_count": null,
            "flex_flow": null,
            "width": null,
            "min_width": null,
            "border": null,
            "align_items": null,
            "bottom": null,
            "_model_module": "@jupyter-widgets/base",
            "top": null,
            "grid_column": null,
            "overflow_y": null,
            "overflow_x": null,
            "grid_auto_flow": null,
            "grid_area": null,
            "grid_template_columns": null,
            "flex": null,
            "_model_name": "LayoutModel",
            "justify_items": null,
            "grid_row": null,
            "max_height": null,
            "align_content": null,
            "visibility": null,
            "align_self": null,
            "height": null,
            "min_height": null,
            "padding": null,
            "grid_auto_rows": null,
            "grid_gap": null,
            "max_width": null,
            "order": null,
            "_view_module_version": "1.2.0",
            "grid_template_areas": null,
            "object_position": null,
            "object_fit": null,
            "grid_auto_columns": null,
            "margin": null,
            "display": null,
            "left": null
          }
        }
      }
    }
  },
  "cells": [
    {
      "cell_type": "markdown",
      "metadata": {
        "id": "view-in-github",
        "colab_type": "text"
      },
      "source": [
        "<a href=\"https://colab.research.google.com/github/sumankanukollu/EVA_4_Assignments/blob/master/EVA_4_S9_Suman_Kanukollu_LRFinder_CIFAR_10.ipynb\" target=\"_parent\"><img src=\"https://colab.research.google.com/assets/colab-badge.svg\" alt=\"Open In Colab\"/></a>"
      ]
    },
    {
      "cell_type": "markdown",
      "metadata": {
        "id": "Cn10YruO4nj6",
        "colab_type": "text"
      },
      "source": [
        "#Steps Summary"
      ]
    },
    {
      "cell_type": "code",
      "metadata": {
        "id": "xI4lUFnk4lnt",
        "colab_type": "code",
        "colab": {}
      },
      "source": [
        "# 1. Mount google drive\n",
        "# 2. Import all modules and libraries\n",
        "# 3. Set the directory path of google drive\n",
        "# 4. Set Device\n",
        "# 5. Import all the functions\n",
        "# 6. Load transformations\n",
        "# 7. Load dataset\n",
        "# 8. Load Classes\n",
        "# 9. Display sample images\n",
        "# 10. Load Resnet18 Model\n",
        "# 11. Define Loss function and optimizer\n",
        "# 12. Run train and test"
      ],
      "execution_count": 0,
      "outputs": []
    },
    {
      "cell_type": "markdown",
      "metadata": {
        "id": "xXbggI5gJLXL",
        "colab_type": "text"
      },
      "source": [
        "\n",
        "\n",
        "**1. Mount google drive**\n",
        "\n",
        "\n"
      ]
    },
    {
      "cell_type": "code",
      "metadata": {
        "id": "TS9idSdvDOpd",
        "colab_type": "code",
        "outputId": "21d51bbb-2bc6-4aef-edd1-334b0506587d",
        "colab": {
          "base_uri": "https://localhost:8080/",
          "height": 122
        }
      },
      "source": [
        "from google.colab import drive\n",
        "%load_ext autoreload\n",
        "%autoreload 2\n",
        "%reload_ext autoreload\n",
        "drive.mount('/content/drive')"
      ],
      "execution_count": 1,
      "outputs": [
        {
          "output_type": "stream",
          "text": [
            "Go to this URL in a browser: https://accounts.google.com/o/oauth2/auth?client_id=947318989803-6bn6qk8qdgf4n4g3pfee6491hc0brc4i.apps.googleusercontent.com&redirect_uri=urn%3aietf%3awg%3aoauth%3a2.0%3aoob&response_type=code&scope=email%20https%3a%2f%2fwww.googleapis.com%2fauth%2fdocs.test%20https%3a%2f%2fwww.googleapis.com%2fauth%2fdrive%20https%3a%2f%2fwww.googleapis.com%2fauth%2fdrive.photos.readonly%20https%3a%2f%2fwww.googleapis.com%2fauth%2fpeopleapi.readonly\n",
            "\n",
            "Enter your authorization code:\n",
            "··········\n",
            "Mounted at /content/drive\n"
          ],
          "name": "stdout"
        }
      ]
    },
    {
      "cell_type": "code",
      "metadata": {
        "id": "nuudzAJHKCuy",
        "colab_type": "code",
        "outputId": "ab246c6e-b588-41ad-850b-dcaca59acb7d",
        "colab": {
          "base_uri": "https://localhost:8080/",
          "height": 51
        }
      },
      "source": [
        "# 2. Auto load the modified content\n",
        "%load_ext autoreload\n",
        "%autoreload 2\n",
        "%reload_ext autoreload"
      ],
      "execution_count": 2,
      "outputs": [
        {
          "output_type": "stream",
          "text": [
            "The autoreload extension is already loaded. To reload it, use:\n",
            "  %reload_ext autoreload\n"
          ],
          "name": "stdout"
        }
      ]
    },
    {
      "cell_type": "markdown",
      "metadata": {
        "id": "RDqjCOh5JCGZ",
        "colab_type": "text"
      },
      "source": [
        "\n",
        "\n",
        "**2.   Import all required modules**\n",
        "\n",
        "\n"
      ]
    },
    {
      "cell_type": "code",
      "metadata": {
        "id": "hvKBtgBMeMd4",
        "colab_type": "code",
        "outputId": "263cfff0-1af8-423f-d3cd-0783d6a622fc",
        "colab": {
          "base_uri": "https://localhost:8080/",
          "height": 1000
        }
      },
      "source": [
        "import torch\n",
        "import torch.nn as nn\n",
        "import torch.nn.functional as F\n",
        "import torch.optim as optim\n",
        "\n",
        "import torchvision\n",
        "from torchvision import datasets,transforms\n",
        "\n",
        "from torchsummary import summary\n",
        "\n",
        "from tqdm import tqdm\n",
        "\n",
        "import  matplotlib.pyplot as plt\n",
        "%matplotlib inline\n",
        "\n",
        "from IPython.core.debugger import set_trace\n",
        "\n",
        "import numpy as np\n",
        "!pip install albumentations\n",
        "!pip install -U git+https://github.com/albu/albumentations --no-cache-dir"
      ],
      "execution_count": 3,
      "outputs": [
        {
          "output_type": "stream",
          "text": [
            "Requirement already satisfied: albumentations in /usr/local/lib/python3.6/dist-packages (0.1.12)\n",
            "Requirement already satisfied: scipy in /usr/local/lib/python3.6/dist-packages (from albumentations) (1.4.1)\n",
            "Requirement already satisfied: opencv-python in /usr/local/lib/python3.6/dist-packages (from albumentations) (4.1.2.30)\n",
            "Requirement already satisfied: numpy>=1.11.1 in /usr/local/lib/python3.6/dist-packages (from albumentations) (1.18.2)\n",
            "Collecting imgaug<0.2.7,>=0.2.5\n",
            "\u001b[?25l  Downloading https://files.pythonhosted.org/packages/ad/2e/748dbb7bb52ec8667098bae9b585f448569ae520031932687761165419a2/imgaug-0.2.6.tar.gz (631kB)\n",
            "\r\u001b[K     |▌                               | 10kB 29.9MB/s eta 0:00:01\r\u001b[K     |█                               | 20kB 3.2MB/s eta 0:00:01\r\u001b[K     |█▋                              | 30kB 4.6MB/s eta 0:00:01\r\u001b[K     |██                              | 40kB 3.0MB/s eta 0:00:01\r\u001b[K     |██▋                             | 51kB 3.7MB/s eta 0:00:01\r\u001b[K     |███▏                            | 61kB 4.4MB/s eta 0:00:01\r\u001b[K     |███▋                            | 71kB 5.1MB/s eta 0:00:01\r\u001b[K     |████▏                           | 81kB 5.8MB/s eta 0:00:01\r\u001b[K     |████▊                           | 92kB 4.4MB/s eta 0:00:01\r\u001b[K     |█████▏                          | 102kB 4.9MB/s eta 0:00:01\r\u001b[K     |█████▊                          | 112kB 4.9MB/s eta 0:00:01\r\u001b[K     |██████▎                         | 122kB 4.9MB/s eta 0:00:01\r\u001b[K     |██████▊                         | 133kB 4.9MB/s eta 0:00:01\r\u001b[K     |███████▎                        | 143kB 4.9MB/s eta 0:00:01\r\u001b[K     |███████▉                        | 153kB 4.9MB/s eta 0:00:01\r\u001b[K     |████████▎                       | 163kB 4.9MB/s eta 0:00:01\r\u001b[K     |████████▉                       | 174kB 4.9MB/s eta 0:00:01\r\u001b[K     |█████████▍                      | 184kB 4.9MB/s eta 0:00:01\r\u001b[K     |█████████▉                      | 194kB 4.9MB/s eta 0:00:01\r\u001b[K     |██████████▍                     | 204kB 4.9MB/s eta 0:00:01\r\u001b[K     |███████████                     | 215kB 4.9MB/s eta 0:00:01\r\u001b[K     |███████████▍                    | 225kB 4.9MB/s eta 0:00:01\r\u001b[K     |████████████                    | 235kB 4.9MB/s eta 0:00:01\r\u001b[K     |████████████▌                   | 245kB 4.9MB/s eta 0:00:01\r\u001b[K     |█████████████                   | 256kB 4.9MB/s eta 0:00:01\r\u001b[K     |█████████████▌                  | 266kB 4.9MB/s eta 0:00:01\r\u001b[K     |██████████████                  | 276kB 4.9MB/s eta 0:00:01\r\u001b[K     |██████████████▌                 | 286kB 4.9MB/s eta 0:00:01\r\u001b[K     |███████████████                 | 296kB 4.9MB/s eta 0:00:01\r\u001b[K     |███████████████▋                | 307kB 4.9MB/s eta 0:00:01\r\u001b[K     |████████████████                | 317kB 4.9MB/s eta 0:00:01\r\u001b[K     |████████████████▋               | 327kB 4.9MB/s eta 0:00:01\r\u001b[K     |█████████████████▏              | 337kB 4.9MB/s eta 0:00:01\r\u001b[K     |█████████████████▋              | 348kB 4.9MB/s eta 0:00:01\r\u001b[K     |██████████████████▏             | 358kB 4.9MB/s eta 0:00:01\r\u001b[K     |██████████████████▊             | 368kB 4.9MB/s eta 0:00:01\r\u001b[K     |███████████████████▏            | 378kB 4.9MB/s eta 0:00:01\r\u001b[K     |███████████████████▊            | 389kB 4.9MB/s eta 0:00:01\r\u001b[K     |████████████████████▎           | 399kB 4.9MB/s eta 0:00:01\r\u001b[K     |████████████████████▊           | 409kB 4.9MB/s eta 0:00:01\r\u001b[K     |█████████████████████▎          | 419kB 4.9MB/s eta 0:00:01\r\u001b[K     |█████████████████████▉          | 430kB 4.9MB/s eta 0:00:01\r\u001b[K     |██████████████████████▎         | 440kB 4.9MB/s eta 0:00:01\r\u001b[K     |██████████████████████▉         | 450kB 4.9MB/s eta 0:00:01\r\u001b[K     |███████████████████████▍        | 460kB 4.9MB/s eta 0:00:01\r\u001b[K     |███████████████████████▉        | 471kB 4.9MB/s eta 0:00:01\r\u001b[K     |████████████████████████▍       | 481kB 4.9MB/s eta 0:00:01\r\u001b[K     |█████████████████████████       | 491kB 4.9MB/s eta 0:00:01\r\u001b[K     |█████████████████████████▍      | 501kB 4.9MB/s eta 0:00:01\r\u001b[K     |██████████████████████████      | 512kB 4.9MB/s eta 0:00:01\r\u001b[K     |██████████████████████████▌     | 522kB 4.9MB/s eta 0:00:01\r\u001b[K     |███████████████████████████     | 532kB 4.9MB/s eta 0:00:01\r\u001b[K     |███████████████████████████▌    | 542kB 4.9MB/s eta 0:00:01\r\u001b[K     |████████████████████████████    | 552kB 4.9MB/s eta 0:00:01\r\u001b[K     |████████████████████████████▌   | 563kB 4.9MB/s eta 0:00:01\r\u001b[K     |█████████████████████████████   | 573kB 4.9MB/s eta 0:00:01\r\u001b[K     |█████████████████████████████▋  | 583kB 4.9MB/s eta 0:00:01\r\u001b[K     |██████████████████████████████  | 593kB 4.9MB/s eta 0:00:01\r\u001b[K     |██████████████████████████████▋ | 604kB 4.9MB/s eta 0:00:01\r\u001b[K     |███████████████████████████████▏| 614kB 4.9MB/s eta 0:00:01\r\u001b[K     |███████████████████████████████▋| 624kB 4.9MB/s eta 0:00:01\r\u001b[K     |████████████████████████████████| 634kB 4.9MB/s \n",
            "\u001b[?25hRequirement already satisfied: scikit-image>=0.11.0 in /usr/local/lib/python3.6/dist-packages (from imgaug<0.2.7,>=0.2.5->albumentations) (0.16.2)\n",
            "Requirement already satisfied: six in /usr/local/lib/python3.6/dist-packages (from imgaug<0.2.7,>=0.2.5->albumentations) (1.12.0)\n",
            "Requirement already satisfied: networkx>=2.0 in /usr/local/lib/python3.6/dist-packages (from scikit-image>=0.11.0->imgaug<0.2.7,>=0.2.5->albumentations) (2.4)\n",
            "Requirement already satisfied: PyWavelets>=0.4.0 in /usr/local/lib/python3.6/dist-packages (from scikit-image>=0.11.0->imgaug<0.2.7,>=0.2.5->albumentations) (1.1.1)\n",
            "Requirement already satisfied: imageio>=2.3.0 in /usr/local/lib/python3.6/dist-packages (from scikit-image>=0.11.0->imgaug<0.2.7,>=0.2.5->albumentations) (2.4.1)\n",
            "Requirement already satisfied: pillow>=4.3.0 in /usr/local/lib/python3.6/dist-packages (from scikit-image>=0.11.0->imgaug<0.2.7,>=0.2.5->albumentations) (7.0.0)\n",
            "Requirement already satisfied: matplotlib!=3.0.0,>=2.0.0 in /usr/local/lib/python3.6/dist-packages (from scikit-image>=0.11.0->imgaug<0.2.7,>=0.2.5->albumentations) (3.2.0)\n",
            "Requirement already satisfied: decorator>=4.3.0 in /usr/local/lib/python3.6/dist-packages (from networkx>=2.0->scikit-image>=0.11.0->imgaug<0.2.7,>=0.2.5->albumentations) (4.4.2)\n",
            "Requirement already satisfied: cycler>=0.10 in /usr/local/lib/python3.6/dist-packages (from matplotlib!=3.0.0,>=2.0.0->scikit-image>=0.11.0->imgaug<0.2.7,>=0.2.5->albumentations) (0.10.0)\n",
            "Requirement already satisfied: kiwisolver>=1.0.1 in /usr/local/lib/python3.6/dist-packages (from matplotlib!=3.0.0,>=2.0.0->scikit-image>=0.11.0->imgaug<0.2.7,>=0.2.5->albumentations) (1.1.0)\n",
            "Requirement already satisfied: pyparsing!=2.0.4,!=2.1.2,!=2.1.6,>=2.0.1 in /usr/local/lib/python3.6/dist-packages (from matplotlib!=3.0.0,>=2.0.0->scikit-image>=0.11.0->imgaug<0.2.7,>=0.2.5->albumentations) (2.4.6)\n",
            "Requirement already satisfied: python-dateutil>=2.1 in /usr/local/lib/python3.6/dist-packages (from matplotlib!=3.0.0,>=2.0.0->scikit-image>=0.11.0->imgaug<0.2.7,>=0.2.5->albumentations) (2.8.1)\n",
            "Requirement already satisfied: setuptools in /usr/local/lib/python3.6/dist-packages (from kiwisolver>=1.0.1->matplotlib!=3.0.0,>=2.0.0->scikit-image>=0.11.0->imgaug<0.2.7,>=0.2.5->albumentations) (46.0.0)\n",
            "Building wheels for collected packages: imgaug\n",
            "  Building wheel for imgaug (setup.py) ... \u001b[?25l\u001b[?25hdone\n",
            "  Created wheel for imgaug: filename=imgaug-0.2.6-cp36-none-any.whl size=654020 sha256=d137c504e4be2ad4bce5723d1564a8c900e87d9ccac70afca0ff20bb2d741ceb\n",
            "  Stored in directory: /root/.cache/pip/wheels/97/ec/48/0d25896c417b715af6236dbcef8f0bed136a1a5e52972fc6d0\n",
            "Successfully built imgaug\n",
            "Installing collected packages: imgaug\n",
            "  Found existing installation: imgaug 0.2.9\n",
            "    Uninstalling imgaug-0.2.9:\n",
            "      Successfully uninstalled imgaug-0.2.9\n",
            "Successfully installed imgaug-0.2.6\n",
            "Collecting git+https://github.com/albu/albumentations\n",
            "  Cloning https://github.com/albu/albumentations to /tmp/pip-req-build-xgcpdltk\n",
            "  Running command git clone -q https://github.com/albu/albumentations /tmp/pip-req-build-xgcpdltk\n",
            "Requirement already satisfied, skipping upgrade: numpy>=1.11.1 in /usr/local/lib/python3.6/dist-packages (from albumentations==0.4.5) (1.18.2)\n",
            "Requirement already satisfied, skipping upgrade: scipy in /usr/local/lib/python3.6/dist-packages (from albumentations==0.4.5) (1.4.1)\n",
            "Requirement already satisfied, skipping upgrade: imgaug<0.2.7,>=0.2.5 in /usr/local/lib/python3.6/dist-packages (from albumentations==0.4.5) (0.2.6)\n",
            "Requirement already satisfied, skipping upgrade: PyYAML in /usr/local/lib/python3.6/dist-packages (from albumentations==0.4.5) (3.13)\n",
            "Requirement already satisfied, skipping upgrade: opencv-python>=4.1.1 in /usr/local/lib/python3.6/dist-packages (from albumentations==0.4.5) (4.1.2.30)\n",
            "Requirement already satisfied, skipping upgrade: six in /usr/local/lib/python3.6/dist-packages (from imgaug<0.2.7,>=0.2.5->albumentations==0.4.5) (1.12.0)\n",
            "Requirement already satisfied, skipping upgrade: scikit-image>=0.11.0 in /usr/local/lib/python3.6/dist-packages (from imgaug<0.2.7,>=0.2.5->albumentations==0.4.5) (0.16.2)\n",
            "Requirement already satisfied, skipping upgrade: networkx>=2.0 in /usr/local/lib/python3.6/dist-packages (from scikit-image>=0.11.0->imgaug<0.2.7,>=0.2.5->albumentations==0.4.5) (2.4)\n",
            "Requirement already satisfied, skipping upgrade: pillow>=4.3.0 in /usr/local/lib/python3.6/dist-packages (from scikit-image>=0.11.0->imgaug<0.2.7,>=0.2.5->albumentations==0.4.5) (7.0.0)\n",
            "Requirement already satisfied, skipping upgrade: PyWavelets>=0.4.0 in /usr/local/lib/python3.6/dist-packages (from scikit-image>=0.11.0->imgaug<0.2.7,>=0.2.5->albumentations==0.4.5) (1.1.1)\n",
            "Requirement already satisfied, skipping upgrade: imageio>=2.3.0 in /usr/local/lib/python3.6/dist-packages (from scikit-image>=0.11.0->imgaug<0.2.7,>=0.2.5->albumentations==0.4.5) (2.4.1)\n",
            "Requirement already satisfied, skipping upgrade: matplotlib!=3.0.0,>=2.0.0 in /usr/local/lib/python3.6/dist-packages (from scikit-image>=0.11.0->imgaug<0.2.7,>=0.2.5->albumentations==0.4.5) (3.2.0)\n",
            "Requirement already satisfied, skipping upgrade: decorator>=4.3.0 in /usr/local/lib/python3.6/dist-packages (from networkx>=2.0->scikit-image>=0.11.0->imgaug<0.2.7,>=0.2.5->albumentations==0.4.5) (4.4.2)\n",
            "Requirement already satisfied, skipping upgrade: python-dateutil>=2.1 in /usr/local/lib/python3.6/dist-packages (from matplotlib!=3.0.0,>=2.0.0->scikit-image>=0.11.0->imgaug<0.2.7,>=0.2.5->albumentations==0.4.5) (2.8.1)\n",
            "Requirement already satisfied, skipping upgrade: pyparsing!=2.0.4,!=2.1.2,!=2.1.6,>=2.0.1 in /usr/local/lib/python3.6/dist-packages (from matplotlib!=3.0.0,>=2.0.0->scikit-image>=0.11.0->imgaug<0.2.7,>=0.2.5->albumentations==0.4.5) (2.4.6)\n",
            "Requirement already satisfied, skipping upgrade: kiwisolver>=1.0.1 in /usr/local/lib/python3.6/dist-packages (from matplotlib!=3.0.0,>=2.0.0->scikit-image>=0.11.0->imgaug<0.2.7,>=0.2.5->albumentations==0.4.5) (1.1.0)\n",
            "Requirement already satisfied, skipping upgrade: cycler>=0.10 in /usr/local/lib/python3.6/dist-packages (from matplotlib!=3.0.0,>=2.0.0->scikit-image>=0.11.0->imgaug<0.2.7,>=0.2.5->albumentations==0.4.5) (0.10.0)\n",
            "Requirement already satisfied, skipping upgrade: setuptools in /usr/local/lib/python3.6/dist-packages (from kiwisolver>=1.0.1->matplotlib!=3.0.0,>=2.0.0->scikit-image>=0.11.0->imgaug<0.2.7,>=0.2.5->albumentations==0.4.5) (46.0.0)\n",
            "Building wheels for collected packages: albumentations\n",
            "  Building wheel for albumentations (setup.py) ... \u001b[?25l\u001b[?25hdone\n",
            "  Created wheel for albumentations: filename=albumentations-0.4.5-cp36-none-any.whl size=64574 sha256=6fe971a1c1784d6b6b047575f984e8347f20031b4a0853fc49b86381bfac7577\n",
            "  Stored in directory: /tmp/pip-ephem-wheel-cache-07poo1qz/wheels/45/8b/e4/2837bbcf517d00732b8e394f8646f22b8723ac00993230188b\n",
            "Successfully built albumentations\n",
            "Installing collected packages: albumentations\n",
            "  Found existing installation: albumentations 0.1.12\n",
            "    Uninstalling albumentations-0.1.12:\n",
            "      Successfully uninstalled albumentations-0.1.12\n",
            "Successfully installed albumentations-0.4.5\n"
          ],
          "name": "stdout"
        }
      ]
    },
    {
      "cell_type": "markdown",
      "metadata": {
        "id": "8J5BKzQNJgXs",
        "colab_type": "text"
      },
      "source": [
        "**3. Set the modules homepath and library path**"
      ]
    },
    {
      "cell_type": "code",
      "metadata": {
        "id": "FRIVpFr1DoyW",
        "colab_type": "code",
        "outputId": "cabe8dec-12ef-4fb6-9f5b-8c4bbc8dc24b",
        "colab": {
          "base_uri": "https://localhost:8080/",
          "height": 173
        }
      },
      "source": [
        "import os,sys\n",
        "os.chdir('/content/drive/My Drive/pytorch_Framework_suman')\n",
        "homepath = os.getcwd()\n",
        "print('\\n### Home Path is : {}'.format(homepath))\n",
        "!ls\n",
        "sys.path.append(os.path.join(homepath,'lib'))\n",
        "print(sys.path)"
      ],
      "execution_count": 4,
      "outputs": [
        {
          "output_type": "stream",
          "text": [
            "\n",
            "### Home Path is : /content/drive/My Drive/pytorch_Framework_suman\n",
            "data\t\t\t\t\t\t  outputs\n",
            "EVA-4-S9-Suman-Kanukollu-LRFinder_CIFAR_10.ipynb  resnet18_cifar10_main.ipynb\n",
            "EVA-4-S9-Suman-Kanukollu-Main.ipynb\t\t  sampleImages\n",
            "lib\t\t\t\t\t\t  utils\n",
            "models\n",
            "['/tensorflow-1.15.0/python3.6', '', '/env/python', '/usr/lib/python36.zip', '/usr/lib/python3.6', '/usr/lib/python3.6/lib-dynload', '/usr/local/lib/python3.6/dist-packages', '/usr/lib/python3/dist-packages', '/usr/local/lib/python3.6/dist-packages/IPython/extensions', '/root/.ipython', '/content/drive/My Drive/pytorch_Framework_suman/lib']\n"
          ],
          "name": "stdout"
        }
      ]
    },
    {
      "cell_type": "markdown",
      "metadata": {
        "colab_type": "text",
        "id": "CKH2DaYT5r8R"
      },
      "source": [
        "**4. Set Device**"
      ]
    },
    {
      "cell_type": "code",
      "metadata": {
        "id": "lO0L2qbD6Lwa",
        "colab_type": "code",
        "outputId": "14324fd4-b5a1-4e60-de40-b201f40c3614",
        "colab": {
          "base_uri": "https://localhost:8080/",
          "height": 51
        }
      },
      "source": [
        "use_cuda = torch.cuda.is_available()\n",
        "device = torch.device(\"cuda\" if use_cuda else \"cpu\")\n",
        "print(device)\n",
        "print(torch.cuda.is_available())"
      ],
      "execution_count": 5,
      "outputs": [
        {
          "output_type": "stream",
          "text": [
            "cuda\n",
            "True\n"
          ],
          "name": "stdout"
        }
      ]
    },
    {
      "cell_type": "markdown",
      "metadata": {
        "colab_type": "text",
        "id": "QuL3Fyw66WXy"
      },
      "source": [
        "**5. Import All reusable modules**"
      ]
    },
    {
      "cell_type": "code",
      "metadata": {
        "id": "KE5iyenu6Ltf",
        "colab_type": "code",
        "colab": {}
      },
      "source": [
        "from models import resnet\n",
        "from lib.loadDataSet import dataSetFunctions\n",
        "from utils.showimgs import utils_showimgs"
      ],
      "execution_count": 0,
      "outputs": []
    },
    {
      "cell_type": "markdown",
      "metadata": {
        "id": "Exfmbu9-6oG1",
        "colab_type": "text"
      },
      "source": [
        "**6. Load transformations**"
      ]
    },
    {
      "cell_type": "code",
      "metadata": {
        "id": "42Q4ABnm6zd_",
        "colab_type": "code",
        "colab": {}
      },
      "source": [
        "dsObj = dataSetFunctions()\n",
        "transform_train, transform_test = dsObj.albumentationTransformations()"
      ],
      "execution_count": 0,
      "outputs": []
    },
    {
      "cell_type": "code",
      "metadata": {
        "id": "fd4tqm1RiUrb",
        "colab_type": "code",
        "outputId": "6319e5a2-825c-4ea2-d451-d52a1d52a289",
        "colab": {
          "base_uri": "https://localhost:8080/",
          "height": 884
        }
      },
      "source": [
        "import albumentations as A\n",
        "dir(A.Rotate)\n",
        "#A.RGBShift"
      ],
      "execution_count": 8,
      "outputs": [
        {
          "output_type": "execute_result",
          "data": {
            "text/plain": [
              "['__call__',\n",
              " '__class__',\n",
              " '__delattr__',\n",
              " '__dict__',\n",
              " '__dir__',\n",
              " '__doc__',\n",
              " '__eq__',\n",
              " '__format__',\n",
              " '__ge__',\n",
              " '__getattribute__',\n",
              " '__gt__',\n",
              " '__hash__',\n",
              " '__init__',\n",
              " '__init_subclass__',\n",
              " '__le__',\n",
              " '__lt__',\n",
              " '__module__',\n",
              " '__ne__',\n",
              " '__new__',\n",
              " '__reduce__',\n",
              " '__reduce_ex__',\n",
              " '__repr__',\n",
              " '__setattr__',\n",
              " '__sizeof__',\n",
              " '__str__',\n",
              " '__subclasshook__',\n",
              " '__weakref__',\n",
              " '_get_target_function',\n",
              " '_to_dict',\n",
              " 'add_targets',\n",
              " 'apply',\n",
              " 'apply_to_bbox',\n",
              " 'apply_to_bboxes',\n",
              " 'apply_to_keypoint',\n",
              " 'apply_to_keypoints',\n",
              " 'apply_to_mask',\n",
              " 'apply_to_masks',\n",
              " 'apply_with_params',\n",
              " 'call_backup',\n",
              " 'get_base_init_args',\n",
              " 'get_class_fullname',\n",
              " 'get_dict_with_id',\n",
              " 'get_params',\n",
              " 'get_params_dependent_on_targets',\n",
              " 'get_transform_init_args',\n",
              " 'get_transform_init_args_names',\n",
              " 'set_deterministic',\n",
              " 'target_dependence',\n",
              " 'targets',\n",
              " 'targets_as_params',\n",
              " 'update_params']"
            ]
          },
          "metadata": {
            "tags": []
          },
          "execution_count": 8
        }
      ]
    },
    {
      "cell_type": "markdown",
      "metadata": {
        "colab_type": "text",
        "id": "lXY8bJtw6orQ"
      },
      "source": [
        "**7. Load dataset**"
      ]
    },
    {
      "cell_type": "code",
      "metadata": {
        "id": "xmjgnPxn6LrH",
        "colab_type": "code",
        "outputId": "e67bea60-ce0d-40b5-9257-b3c8770e8a75",
        "colab": {
          "base_uri": "https://localhost:8080/",
          "height": 119
        }
      },
      "source": [
        "(trainset,testset)          = dsObj.dataSet(transform=(transform_train, transform_test),name='cifar10')\n",
        "(train_loader,test_loader)  = dsObj.dataLoader(trainDataset=trainset,testDataset=testset)"
      ],
      "execution_count": 9,
      "outputs": [
        {
          "output_type": "stream",
          "text": [
            "\n",
            "### Preparing dataset for the name : cifar10\n",
            "Files already downloaded and verified\n",
            "Files already downloaded and verified\n",
            "\n",
            "### Loading data from dataset\n"
          ],
          "name": "stdout"
        }
      ]
    },
    {
      "cell_type": "markdown",
      "metadata": {
        "id": "UpglwwOc64k8",
        "colab_type": "text"
      },
      "source": [
        "**8. Load classes**"
      ]
    },
    {
      "cell_type": "code",
      "metadata": {
        "id": "HqvyABlw6Lol",
        "colab_type": "code",
        "outputId": "f83e8d05-09c6-4039-e47a-ed788627dd2d",
        "colab": {
          "base_uri": "https://localhost:8080/",
          "height": 187
        }
      },
      "source": [
        "dsObj.dataSetClasses(trainset)"
      ],
      "execution_count": 10,
      "outputs": [
        {
          "output_type": "execute_result",
          "data": {
            "text/plain": [
              "['airplane',\n",
              " 'automobile',\n",
              " 'bird',\n",
              " 'cat',\n",
              " 'deer',\n",
              " 'dog',\n",
              " 'frog',\n",
              " 'horse',\n",
              " 'ship',\n",
              " 'truck']"
            ]
          },
          "metadata": {
            "tags": []
          },
          "execution_count": 10
        }
      ]
    },
    {
      "cell_type": "markdown",
      "metadata": {
        "id": "gnkSiJwdK-YX",
        "colab_type": "text"
      },
      "source": [
        "**9. Just get some random images from Train dataset and plot those**"
      ]
    },
    {
      "cell_type": "code",
      "metadata": {
        "id": "lULGFdWwVKjL",
        "colab_type": "code",
        "outputId": "6be6dc4a-43cd-4739-b503-cb0c1afac408",
        "colab": {
          "base_uri": "https://localhost:8080/",
          "height": 308
        }
      },
      "source": [
        "#from utils.showimgs import utils_showimgs\n",
        "utObj = utils_showimgs()\n",
        "\n",
        "utObj.getRandomTrainImgs(trainset,train_loader)"
      ],
      "execution_count": 11,
      "outputs": [
        {
          "output_type": "stream",
          "text": [
            "Clipping input data to the valid range for imshow with RGB data ([0..1] for floats or [0..255] for integers).\n"
          ],
          "name": "stderr"
        },
        {
          "output_type": "stream",
          "text": [
            "128\n",
            "{'airplane': 0, 'automobile': 1, 'bird': 2, 'cat': 3, 'deer': 4, 'dog': 5, 'frog': 6, 'horse': 7, 'ship': 8, 'truck': 9}\n",
            "tensor([2, 0, 1, 6, 5, 5, 8, 2, 1, 6, 1, 9, 9, 6, 0, 1, 1, 2, 3, 0, 9, 9, 5, 6,\n",
            "        3, 5, 8, 7, 9, 4, 8, 5, 7, 4, 9, 0, 5, 8, 3, 0, 9, 2, 6, 7, 4, 8, 5, 3,\n",
            "        5, 4, 1, 8, 9, 2, 9, 2, 3, 9, 5, 9, 8, 9, 1, 0, 1, 9, 2, 6, 0, 6, 0, 0,\n",
            "        3, 4, 0, 3, 9, 3, 8, 2, 1, 9, 0, 6, 5, 4, 9, 1, 5, 5, 3, 3, 5, 3, 9, 8,\n",
            "        7, 3, 6, 0, 6, 2, 0, 5, 1, 6, 4, 0, 3, 9, 3, 8, 9, 0, 2, 9, 2, 6, 0, 5,\n",
            "        1, 1, 9, 0, 1, 2, 7, 4])\n",
            "      bird   airplane automobile       frog\n"
          ],
          "name": "stdout"
        },
        {
          "output_type": "display_data",
          "data": {
            "image/png": "[encoded data removed]",
            "text/plain": [
              "<Figure size 432x288 with 1 Axes>"
            ]
          },
          "metadata": {
            "tags": []
          }
        }
      ]
    },
    {
      "cell_type": "markdown",
      "metadata": {
        "id": "q2AJTFTwLNv_",
        "colab_type": "text"
      },
      "source": [
        "**10. Load Resnet18 model on to respective device (GPU or CPU) and print summary**"
      ]
    },
    {
      "cell_type": "code",
      "metadata": {
        "id": "Y-sjzTF6IPAd",
        "colab_type": "code",
        "outputId": "59233ac2-bb8e-49a9-be37-2d898eea24e9",
        "colab": {
          "base_uri": "https://localhost:8080/",
          "height": 1000
        }
      },
      "source": [
        "from models import resnet\n",
        "print('Model is going to run on device : {}'.format(device))\n",
        "model = resnet.ResNet18().to(device)\n",
        "summary(model,(3,32,32))"
      ],
      "execution_count": 12,
      "outputs": [
        {
          "output_type": "stream",
          "text": [
            "Model is going to run on device : cuda\n",
            "----------------------------------------------------------------\n",
            "        Layer (type)               Output Shape         Param #\n",
            "================================================================\n",
            "            Conv2d-1           [-1, 64, 32, 32]           1,728\n",
            "       BatchNorm2d-2           [-1, 64, 32, 32]             128\n",
            "            Conv2d-3           [-1, 64, 32, 32]          36,864\n",
            "       BatchNorm2d-4           [-1, 64, 32, 32]             128\n",
            "            Conv2d-5           [-1, 64, 32, 32]          36,864\n",
            "       BatchNorm2d-6           [-1, 64, 32, 32]             128\n",
            "        BasicBlock-7           [-1, 64, 32, 32]               0\n",
            "            Conv2d-8           [-1, 64, 32, 32]          36,864\n",
            "       BatchNorm2d-9           [-1, 64, 32, 32]             128\n",
            "           Conv2d-10           [-1, 64, 32, 32]          36,864\n",
            "      BatchNorm2d-11           [-1, 64, 32, 32]             128\n",
            "       BasicBlock-12           [-1, 64, 32, 32]               0\n",
            "           Conv2d-13          [-1, 128, 16, 16]          73,728\n",
            "      BatchNorm2d-14          [-1, 128, 16, 16]             256\n",
            "           Conv2d-15          [-1, 128, 16, 16]         147,456\n",
            "      BatchNorm2d-16          [-1, 128, 16, 16]             256\n",
            "           Conv2d-17          [-1, 128, 16, 16]           8,192\n",
            "      BatchNorm2d-18          [-1, 128, 16, 16]             256\n",
            "       BasicBlock-19          [-1, 128, 16, 16]               0\n",
            "           Conv2d-20          [-1, 128, 16, 16]         147,456\n",
            "      BatchNorm2d-21          [-1, 128, 16, 16]             256\n",
            "           Conv2d-22          [-1, 128, 16, 16]         147,456\n",
            "      BatchNorm2d-23          [-1, 128, 16, 16]             256\n",
            "       BasicBlock-24          [-1, 128, 16, 16]               0\n",
            "           Conv2d-25            [-1, 256, 8, 8]         294,912\n",
            "      BatchNorm2d-26            [-1, 256, 8, 8]             512\n",
            "           Conv2d-27            [-1, 256, 8, 8]         589,824\n",
            "      BatchNorm2d-28            [-1, 256, 8, 8]             512\n",
            "           Conv2d-29            [-1, 256, 8, 8]          32,768\n",
            "      BatchNorm2d-30            [-1, 256, 8, 8]             512\n",
            "       BasicBlock-31            [-1, 256, 8, 8]               0\n",
            "           Conv2d-32            [-1, 256, 8, 8]         589,824\n",
            "      BatchNorm2d-33            [-1, 256, 8, 8]             512\n",
            "           Conv2d-34            [-1, 256, 8, 8]         589,824\n",
            "      BatchNorm2d-35            [-1, 256, 8, 8]             512\n",
            "       BasicBlock-36            [-1, 256, 8, 8]               0\n",
            "           Conv2d-37            [-1, 512, 4, 4]       1,179,648\n",
            "      BatchNorm2d-38            [-1, 512, 4, 4]           1,024\n",
            "           Conv2d-39            [-1, 512, 4, 4]       2,359,296\n",
            "      BatchNorm2d-40            [-1, 512, 4, 4]           1,024\n",
            "           Conv2d-41            [-1, 512, 4, 4]         131,072\n",
            "      BatchNorm2d-42            [-1, 512, 4, 4]           1,024\n",
            "       BasicBlock-43            [-1, 512, 4, 4]               0\n",
            "           Conv2d-44            [-1, 512, 4, 4]       2,359,296\n",
            "      BatchNorm2d-45            [-1, 512, 4, 4]           1,024\n",
            "           Conv2d-46            [-1, 512, 4, 4]       2,359,296\n",
            "      BatchNorm2d-47            [-1, 512, 4, 4]           1,024\n",
            "       BasicBlock-48            [-1, 512, 4, 4]               0\n",
            "           Linear-49                   [-1, 10]           5,130\n",
            "================================================================\n",
            "Total params: 11,173,962\n",
            "Trainable params: 11,173,962\n",
            "Non-trainable params: 0\n",
            "----------------------------------------------------------------\n",
            "Input size (MB): 0.01\n",
            "Forward/backward pass size (MB): 11.25\n",
            "Params size (MB): 42.63\n",
            "Estimated Total Size (MB): 53.89\n",
            "----------------------------------------------------------------\n"
          ],
          "name": "stdout"
        }
      ]
    },
    {
      "cell_type": "markdown",
      "metadata": {
        "id": "asP5Qvld7EVo",
        "colab_type": "text"
      },
      "source": [
        "**11. Define loss function and optimizer**"
      ]
    },
    {
      "cell_type": "code",
      "metadata": {
        "id": "Km6RZulLbymp",
        "colab_type": "code",
        "colab": {}
      },
      "source": [
        "criterion = nn.CrossEntropyLoss()\n",
        "optimizer = optim.SGD(model.parameters(), lr=0.001, momentum=0.9)\n",
        "\n",
        "#net = model\n",
        "#criterion = nn.CrossEntropyLoss()\n",
        "#criterion = nn.NLLLoss()\n",
        "#optimizer = optim.Adam(model.parameters(), lr = 0.01)\n",
        "#optimizer = optim.SGD(model.parameters(), lr=0.01, momentum=0.5)'''"
      ],
      "execution_count": 0,
      "outputs": []
    },
    {
      "cell_type": "markdown",
      "metadata": {
        "id": "vPiF1oXjJaP0",
        "colab_type": "text"
      },
      "source": [
        "**11.1. LR Finder**"
      ]
    },
    {
      "cell_type": "code",
      "metadata": {
        "id": "uxWtODX9Ja1i",
        "colab_type": "code",
        "outputId": "15782e36-9f42-49e0-9dcc-0753e061893e",
        "colab": {
          "base_uri": "https://localhost:8080/",
          "height": 1000
        }
      },
      "source": [
        "!pip install torch-lr-finder -v --global-option=\"amp\""
      ],
      "execution_count": 14,
      "outputs": [
        {
          "output_type": "stream",
          "text": [
            "/usr/local/lib/python3.6/dist-packages/pip/_internal/commands/install.py:283: UserWarning: Disabling all use of wheels due to the use of --build-options / --global-options / --install-options.\n",
            "  cmdoptions.check_install_build_global(options)\n",
            "Created temporary directory: /tmp/pip-ephem-wheel-cache-oydhoo6k\n",
            "Created temporary directory: /tmp/pip-req-tracker-5n6c3ikj\n",
            "Created requirements tracker '/tmp/pip-req-tracker-5n6c3ikj'\n",
            "Created temporary directory: /tmp/pip-install-kgxkalp3\n",
            "1 location(s) to search for versions of torch-lr-finder:\n",
            "* https://pypi.org/simple/torch-lr-finder/\n",
            "Getting page https://pypi.org/simple/torch-lr-finder/\n",
            "Found index url https://pypi.org/simple\n",
            "Looking up \"https://pypi.org/simple/torch-lr-finder/\" in the cache\n",
            "Request header has \"max_age\" as 0, cache bypassed\n",
            "Starting new HTTPS connection (1): pypi.org:443\n",
            "https://pypi.org:443 \"GET /simple/torch-lr-finder/ HTTP/1.1\" 200 807\n",
            "Updating cache with response from \"https://pypi.org/simple/torch-lr-finder/\"\n",
            "Caching due to etag\n",
            "Analyzing links from page https://pypi.org/simple/torch-lr-finder/\n",
            "  Found link https://files.pythonhosted.org/packages/5d/cd/91f910b0b05cb72ad66db3b8a82b86f8e1ab4241398eef8dc4dfd033a7eb/torch-lr-finder-0.0.1.tar.gz#sha256=3d1f91f0232f069325b456348b97d7936921f77393cef10e8253b3cb7cc2932d (from https://pypi.org/simple/torch-lr-finder/) (requires-python:>=2.7), version: 0.0.1\n",
            "  Skipping link: No binaries permitted for torch-lr-finder: https://files.pythonhosted.org/packages/62/7c/397078ef7ca83880a35037285fd9d1f0e70ab5414db3a6f81e868c7230e4/torch_lr_finder-0.0.1-py3-none-any.whl#sha256=7f690a2e093b10c0e1935e013572c4be7225820c5be40af56139a6c28626db9e (from https://pypi.org/simple/torch-lr-finder/) (requires-python:>=2.7)\n",
            "  Found link https://files.pythonhosted.org/packages/0b/7b/a8ccefca947877cb0112dc3b1ceea38caa24b9f75d6601769075ab6d624b/torch-lr-finder-0.1.tar.gz#sha256=cfee0b94701cd51eb69856a2def48423f5c26cbe74514880a1f5eb09d90aa841 (from https://pypi.org/simple/torch-lr-finder/) (requires-python:>=2.7), version: 0.1\n",
            "  Skipping link: No binaries permitted for torch-lr-finder: https://files.pythonhosted.org/packages/c5/a8/1a003a5b3ff76d3ee55e814028f2fd4d79c555956c36eaebd663a9cf0935/torch_lr_finder-0.1-py3-none-any.whl#sha256=1f218b9704e6cbac26d754c72e088124411c7a495665517f91f05c050d55443e (from https://pypi.org/simple/torch-lr-finder/) (requires-python:>=2.7)\n",
            "  Found link https://files.pythonhosted.org/packages/6f/05/8384b9c02748b40d17a08c18cea7d090872423990934b1a95d0db0ea3481/torch-lr-finder-0.1.2.tar.gz#sha256=79b97995cab86b392230497313857891041861d6d63d1b608fb285e01f8bfafa (from https://pypi.org/simple/torch-lr-finder/) (requires-python:>=2.7), version: 0.1.2\n",
            "  Skipping link: No binaries permitted for torch-lr-finder: https://files.pythonhosted.org/packages/8d/5a/28e71a45ff80efb2ed0759ceef0d34a713f4376119746246c12671c0c807/torch_lr_finder-0.1.2-py3-none-any.whl#sha256=c2af8c2cd539d29738c8903b5f604c11367de8415a90fafdd3cdc179c5d13bcc (from https://pypi.org/simple/torch-lr-finder/) (requires-python:>=2.7)\n",
            "Given no hashes to check 3 links for project 'torch-lr-finder': discarding no candidates\n",
            "Using version 0.1.2 (newest of versions: 0.0.1, 0.1, 0.1.2)\n",
            "Collecting torch-lr-finder\n",
            "  Created temporary directory: /tmp/pip-unpack-4y55o1wj\n",
            "  Looking up \"https://files.pythonhosted.org/packages/6f/05/8384b9c02748b40d17a08c18cea7d090872423990934b1a95d0db0ea3481/torch-lr-finder-0.1.2.tar.gz\" in the cache\n",
            "  No cache entry available\n",
            "  Starting new HTTPS connection (1): files.pythonhosted.org:443\n",
            "  https://files.pythonhosted.org:443 \"GET /packages/6f/05/8384b9c02748b40d17a08c18cea7d090872423990934b1a95d0db0ea3481/torch-lr-finder-0.1.2.tar.gz HTTP/1.1\" 200 9246\n",
            "  Downloading https://files.pythonhosted.org/packages/6f/05/8384b9c02748b40d17a08c18cea7d090872423990934b1a95d0db0ea3481/torch-lr-finder-0.1.2.tar.gz\n",
            "  Ignoring unknown cache-control directive: immutable\n",
            "  Updating cache with response from \"https://files.pythonhosted.org/packages/6f/05/8384b9c02748b40d17a08c18cea7d090872423990934b1a95d0db0ea3481/torch-lr-finder-0.1.2.tar.gz\"\n",
            "  Caching due to etag\n",
            "  Added torch-lr-finder from https://files.pythonhosted.org/packages/6f/05/8384b9c02748b40d17a08c18cea7d090872423990934b1a95d0db0ea3481/torch-lr-finder-0.1.2.tar.gz#sha256=79b97995cab86b392230497313857891041861d6d63d1b608fb285e01f8bfafa to build tracker '/tmp/pip-req-tracker-5n6c3ikj'\n",
            "    Running setup.py (path:/tmp/pip-install-kgxkalp3/torch-lr-finder/setup.py) egg_info for package torch-lr-finder\n",
            "    Running command python setup.py egg_info\n",
            "    running egg_info\n",
            "    creating /tmp/pip-install-kgxkalp3/torch-lr-finder/pip-egg-info/torch_lr_finder.egg-info\n",
            "    writing /tmp/pip-install-kgxkalp3/torch-lr-finder/pip-egg-info/torch_lr_finder.egg-info/PKG-INFO\n",
            "    writing dependency_links to /tmp/pip-install-kgxkalp3/torch-lr-finder/pip-egg-info/torch_lr_finder.egg-info/dependency_links.txt\n",
            "    writing requirements to /tmp/pip-install-kgxkalp3/torch-lr-finder/pip-egg-info/torch_lr_finder.egg-info/requires.txt\n",
            "    writing top-level names to /tmp/pip-install-kgxkalp3/torch-lr-finder/pip-egg-info/torch_lr_finder.egg-info/top_level.txt\n",
            "    writing manifest file '/tmp/pip-install-kgxkalp3/torch-lr-finder/pip-egg-info/torch_lr_finder.egg-info/SOURCES.txt'\n",
            "    reading manifest file '/tmp/pip-install-kgxkalp3/torch-lr-finder/pip-egg-info/torch_lr_finder.egg-info/SOURCES.txt'\n",
            "    writing manifest file '/tmp/pip-install-kgxkalp3/torch-lr-finder/pip-egg-info/torch_lr_finder.egg-info/SOURCES.txt'\n",
            "  Source in /tmp/pip-install-kgxkalp3/torch-lr-finder has version 0.1.2, which satisfies requirement torch-lr-finder from https://files.pythonhosted.org/packages/6f/05/8384b9c02748b40d17a08c18cea7d090872423990934b1a95d0db0ea3481/torch-lr-finder-0.1.2.tar.gz#sha256=79b97995cab86b392230497313857891041861d6d63d1b608fb285e01f8bfafa\n",
            "  Removed torch-lr-finder from https://files.pythonhosted.org/packages/6f/05/8384b9c02748b40d17a08c18cea7d090872423990934b1a95d0db0ea3481/torch-lr-finder-0.1.2.tar.gz#sha256=79b97995cab86b392230497313857891041861d6d63d1b608fb285e01f8bfafa from build tracker '/tmp/pip-req-tracker-5n6c3ikj'\n",
            "Requirement already satisfied: matplotlib in /usr/local/lib/python3.6/dist-packages (from torch-lr-finder) (3.2.0)\n",
            "Requirement already satisfied: numpy in /usr/local/lib/python3.6/dist-packages (from torch-lr-finder) (1.18.2)\n",
            "Requirement already satisfied: torch>=0.4.1 in /usr/local/lib/python3.6/dist-packages (from torch-lr-finder) (1.4.0)\n",
            "Requirement already satisfied: tqdm in /usr/local/lib/python3.6/dist-packages (from torch-lr-finder) (4.38.0)\n",
            "Requirement already satisfied: cycler>=0.10 in /usr/local/lib/python3.6/dist-packages (from matplotlib->torch-lr-finder) (0.10.0)\n",
            "Requirement already satisfied: kiwisolver>=1.0.1 in /usr/local/lib/python3.6/dist-packages (from matplotlib->torch-lr-finder) (1.1.0)\n",
            "Requirement already satisfied: python-dateutil>=2.1 in /usr/local/lib/python3.6/dist-packages (from matplotlib->torch-lr-finder) (2.8.1)\n",
            "Requirement already satisfied: pyparsing!=2.0.4,!=2.1.2,!=2.1.6,>=2.0.1 in /usr/local/lib/python3.6/dist-packages (from matplotlib->torch-lr-finder) (2.4.6)\n",
            "Requirement already satisfied: six in /usr/local/lib/python3.6/dist-packages (from cycler>=0.10->matplotlib->torch-lr-finder) (1.12.0)\n",
            "Requirement already satisfied: setuptools in /usr/local/lib/python3.6/dist-packages (from kiwisolver>=1.0.1->matplotlib->torch-lr-finder) (46.0.0)\n",
            "Skipping wheel build for torch-lr-finder, due to binaries being disabled for it.\n",
            "Installing collected packages: torch-lr-finder\n",
            "  Created temporary directory: /tmp/pip-record-y1lwm6xt\n",
            "    Running command /usr/bin/python3 -u -c 'import sys, setuptools, tokenize; sys.argv[0] = '\"'\"'/tmp/pip-install-kgxkalp3/torch-lr-finder/setup.py'\"'\"'; __file__='\"'\"'/tmp/pip-install-kgxkalp3/torch-lr-finder/setup.py'\"'\"';f=getattr(tokenize, '\"'\"'open'\"'\"', open)(__file__);code=f.read().replace('\"'\"'\\r\\n'\"'\"', '\"'\"'\\n'\"'\"');f.close();exec(compile(code, __file__, '\"'\"'exec'\"'\"'))' amp install --record /tmp/pip-record-y1lwm6xt/install-record.txt --single-version-externally-managed --compile\n",
            "    /usr/local/lib/python3.6/dist-packages/pip/_internal/commands/install.py:283: UserWarning: Disabling all use of wheels due to the use of --build-options / --global-options / --install-options.\n",
            "      cmdoptions.check_install_build_global(options)\n",
            "    Created temporary directory: /tmp/pip-ephem-wheel-cache-mb8exryd\n",
            "    Re-using requirements tracker '/tmp/pip-req-tracker-5n6c3ikj'\n",
            "    Created temporary directory: /tmp/pip-install-dhixkank\n",
            "    Collecting git+https://github.com/NVIDIA/apex\n",
            "      Created temporary directory: /tmp/pip-req-build-o8afdhip\n",
            "      Cloning https://github.com/NVIDIA/apex to /tmp/pip-req-build-o8afdhip\n",
            "      Running command git clone -q https://github.com/NVIDIA/apex /tmp/pip-req-build-o8afdhip\n",
            "      Running command git submodule update --init --recursive -q\n",
            "      Added git+https://github.com/NVIDIA/apex to build tracker '/tmp/pip-req-tracker-5n6c3ikj'\n",
            "        Running setup.py (path:/tmp/pip-req-build-o8afdhip/setup.py) egg_info for package from git+https://github.com/NVIDIA/apex\n",
            "        Running command python setup.py egg_info\n",
            "        torch.__version__  =  1.4.0\n",
            "        running egg_info\n",
            "        creating /tmp/pip-req-build-o8afdhip/pip-egg-info/apex.egg-info\n",
            "        writing /tmp/pip-req-build-o8afdhip/pip-egg-info/apex.egg-info/PKG-INFO\n",
            "        writing dependency_links to /tmp/pip-req-build-o8afdhip/pip-egg-info/apex.egg-info/dependency_links.txt\n",
            "        writing top-level names to /tmp/pip-req-build-o8afdhip/pip-egg-info/apex.egg-info/top_level.txt\n",
            "        writing manifest file '/tmp/pip-req-build-o8afdhip/pip-egg-info/apex.egg-info/SOURCES.txt'\n",
            "        writing manifest file '/tmp/pip-req-build-o8afdhip/pip-egg-info/apex.egg-info/SOURCES.txt'\n",
            "        /tmp/pip-req-build-o8afdhip/setup.py:46: UserWarning: Option --pyprof not specified. Not installing PyProf dependencies!\n",
            "          warnings.warn(\"Option --pyprof not specified. Not installing PyProf dependencies!\")\n",
            "      Source in /tmp/pip-req-build-o8afdhip has version 0.1, which satisfies requirement apex==0.1 from git+https://github.com/NVIDIA/apex\n",
            "      Removed apex==0.1 from git+https://github.com/NVIDIA/apex from build tracker '/tmp/pip-req-tracker-5n6c3ikj'\n",
            "    Skipping wheel build for apex, due to binaries being disabled for it.\n",
            "    Installing collected packages: apex\n",
            "      Created temporary directory: /tmp/pip-record-v2ik1014\n",
            "        Running setup.py install for apex: started\n",
            "        Running command /usr/bin/python3 -u -c 'import sys, setuptools, tokenize; sys.argv[0] = '\"'\"'/tmp/pip-req-build-o8afdhip/setup.py'\"'\"'; __file__='\"'\"'/tmp/pip-req-build-o8afdhip/setup.py'\"'\"';f=getattr(tokenize, '\"'\"'open'\"'\"', open)(__file__);code=f.read().replace('\"'\"'\\r\\n'\"'\"', '\"'\"'\\n'\"'\"');f.close();exec(compile(code, __file__, '\"'\"'exec'\"'\"'))' --cpp_ext --cuda_ext install --record /tmp/pip-record-v2ik1014/install-record.txt --single-version-externally-managed --compile\n",
            "        torch.__version__  =  1.4.0\n",
            "        /tmp/pip-req-build-o8afdhip/setup.py:46: UserWarning: Option --pyprof not specified. Not installing PyProf dependencies!\n",
            "          warnings.warn(\"Option --pyprof not specified. Not installing PyProf dependencies!\")\n",
            "\n",
            "        Compiling cuda extensions with\n",
            "        nvcc: NVIDIA (R) Cuda compiler driver\n",
            "        Copyright (c) 2005-2018 NVIDIA Corporation\n",
            "        Built on Sat_Aug_25_21:08:01_CDT_2018\n",
            "        Cuda compilation tools, release 10.0, V10.0.130\n",
            "        from /usr/local/cuda/bin\n",
            "\n",
            "        Traceback (most recent call last):\n",
            "          File \"<string>\", line 1, in <module>\n",
            "          File \"/tmp/pip-req-build-o8afdhip/setup.py\", line 106, in <module>\n",
            "            check_cuda_torch_binary_vs_bare_metal(torch.utils.cpp_extension.CUDA_HOME)\n",
            "          File \"/tmp/pip-req-build-o8afdhip/setup.py\", line 80, in check_cuda_torch_binary_vs_bare_metal\n",
            "            \"https://github.com/NVIDIA/apex/pull/323#discussion_r287021798.  \"\n",
            "        RuntimeError: Cuda extensions are being compiled with a version of Cuda that does not match the version used to compile Pytorch binaries.  Pytorch binaries were compiled with Cuda 10.1.\n",
            "        In some cases, a minor-version mismatch will not cause later errors:  https://github.com/NVIDIA/apex/pull/323#discussion_r287021798.  You can try commenting out this check (at your own risk).\n",
            "        Running setup.py install for apex: finished with status 'error'\n",
            "    Cleaning up...\n",
            "      Removing source in /tmp/pip-req-build-o8afdhip\n",
            "    Cleaned build tracker '/tmp/pip-req-tracker-5n6c3ikj'\n",
            "    ERROR: Command errored out with exit status 1: /usr/bin/python3 -u -c 'import sys, setuptools, tokenize; sys.argv[0] = '\"'\"'/tmp/pip-req-build-o8afdhip/setup.py'\"'\"'; __file__='\"'\"'/tmp/pip-req-build-o8afdhip/setup.py'\"'\"';f=getattr(tokenize, '\"'\"'open'\"'\"', open)(__file__);code=f.read().replace('\"'\"'\\r\\n'\"'\"', '\"'\"'\\n'\"'\"');f.close();exec(compile(code, __file__, '\"'\"'exec'\"'\"'))' --cpp_ext --cuda_ext install --record /tmp/pip-record-v2ik1014/install-record.txt --single-version-externally-managed --compile Check the logs for full command output.\n",
            "    Exception information:\n",
            "    Traceback (most recent call last):\n",
            "      File \"/usr/local/lib/python3.6/dist-packages/pip/_internal/cli/base_command.py\", line 153, in _main\n",
            "        status = self.run(options, args)\n",
            "      File \"/usr/local/lib/python3.6/dist-packages/pip/_internal/commands/install.py\", line 455, in run\n",
            "        use_user_site=options.use_user_site,\n",
            "      File \"/usr/local/lib/python3.6/dist-packages/pip/_internal/req/__init__.py\", line 62, in install_given_reqs\n",
            "        **kwargs\n",
            "      File \"/usr/local/lib/python3.6/dist-packages/pip/_internal/req/req_install.py\", line 888, in install\n",
            "        cwd=self.unpacked_source_directory,\n",
            "      File \"/usr/local/lib/python3.6/dist-packages/pip/_internal/utils/subprocess.py\", line 275, in runner\n",
            "        spinner=spinner,\n",
            "      File \"/usr/local/lib/python3.6/dist-packages/pip/_internal/utils/subprocess.py\", line 242, in call_subprocess\n",
            "        raise InstallationError(exc_msg)\n",
            "    pip._internal.exceptions.InstallationError: Command errored out with exit status 1: /usr/bin/python3 -u -c 'import sys, setuptools, tokenize; sys.argv[0] = '\"'\"'/tmp/pip-req-build-o8afdhip/setup.py'\"'\"'; __file__='\"'\"'/tmp/pip-req-build-o8afdhip/setup.py'\"'\"';f=getattr(tokenize, '\"'\"'open'\"'\"', open)(__file__);code=f.read().replace('\"'\"'\\r\\n'\"'\"', '\"'\"'\\n'\"'\"');f.close();exec(compile(code, __file__, '\"'\"'exec'\"'\"'))' --cpp_ext --cuda_ext install --record /tmp/pip-record-v2ik1014/install-record.txt --single-version-externally-managed --compile Check the logs for full command output.\n",
            "    running install\n",
            "    running build\n",
            "    running build_py\n",
            "    Generating grammar tables from /usr/lib/python3.6/lib2to3/Grammar.txt\n",
            "    Generating grammar tables from /usr/lib/python3.6/lib2to3/PatternGrammar.txt\n",
            "    creating build\n",
            "    creating build/lib\n",
            "    creating build/lib/torch_lr_finder\n",
            "    copying torch_lr_finder/lr_finder.py -> build/lib/torch_lr_finder\n",
            "    copying torch_lr_finder/__init__.py -> build/lib/torch_lr_finder\n",
            "    running install_lib\n",
            "    creating /usr/local/lib/python3.6/dist-packages/torch_lr_finder\n",
            "    copying build/lib/torch_lr_finder/lr_finder.py -> /usr/local/lib/python3.6/dist-packages/torch_lr_finder\n",
            "    copying build/lib/torch_lr_finder/__init__.py -> /usr/local/lib/python3.6/dist-packages/torch_lr_finder\n",
            "    byte-compiling /usr/local/lib/python3.6/dist-packages/torch_lr_finder/lr_finder.py to lr_finder.cpython-36.pyc\n",
            "    byte-compiling /usr/local/lib/python3.6/dist-packages/torch_lr_finder/__init__.py to __init__.cpython-36.pyc\n",
            "    running install_egg_info\n",
            "    running egg_info\n",
            "    writing torch_lr_finder.egg-info/PKG-INFO\n",
            "    writing dependency_links to torch_lr_finder.egg-info/dependency_links.txt\n",
            "    writing requirements to torch_lr_finder.egg-info/requires.txt\n",
            "    writing top-level names to torch_lr_finder.egg-info/top_level.txt\n",
            "    reading manifest file 'torch_lr_finder.egg-info/SOURCES.txt'\n",
            "    writing manifest file 'torch_lr_finder.egg-info/SOURCES.txt'\n",
            "    Copying torch_lr_finder.egg-info to /usr/local/lib/python3.6/dist-packages/torch_lr_finder-0.1.2-py3.6.egg-info\n",
            "    running install_scripts\n",
            "    writing list of installed files to '/tmp/pip-record-y1lwm6xt/install-record.txt'\n",
            "    Running setup.py install for torch-lr-finder ... \u001b[?25l\u001b[?25hdone\n",
            "  Removing source in /tmp/pip-install-kgxkalp3/torch-lr-finder\n",
            "Successfully installed torch-lr-finder-0.1.2\n",
            "Cleaning up...\n",
            "Removed build tracker '/tmp/pip-req-tracker-5n6c3ikj'\n"
          ],
          "name": "stdout"
        }
      ]
    },
    {
      "cell_type": "markdown",
      "metadata": {
        "id": "RvYWIWbDKQhx",
        "colab_type": "text"
      },
      "source": [
        "**11.1.2. LR Finder**\n",
        "\n",
        "\n",
        "*   *Increases the learning rate in an exponential manner and computes the training loss for each learning rate*\n",
        "\n"
      ]
    },
    {
      "cell_type": "code",
      "metadata": {
        "id": "18egeMrPKOwn",
        "colab_type": "code",
        "outputId": "8a11648f-8511-464c-8be2-50794904476f",
        "colab": {
          "base_uri": "https://localhost:8080/",
          "height": 400,
          "referenced_widgets": [
            "7781c6e6cff149ddb9a0da8e87de7d69",
            "00b8d5ef7e7c4722ab3e7bc3d092c3d0",
            "94e596bf656642a9af386c5799efb61c",
            "4d26d13a851543f990eea22e83766c87",
            "80c4b836d06b422aa0dacc0ced46609f",
            "9e6197ce584a4c279331d61570f09714",
            "a09be4bb7b86476b935ebe90d190b90a",
            "8b24e68568b04964b8ef0b5151562135"
          ]
        }
      },
      "source": [
        "from torch_lr_finder import LRFinder\n",
        "\n",
        "model = model\n",
        "criterion = nn.CrossEntropyLoss()\n",
        "optimizer = optim.SGD(model.parameters(), lr=0.0001,momentum=0.2)\n",
        "#optimizer = optim.Adam(model.parameters(), lr=1e-7, weight_decay=1e-2)\n",
        "lr_finder = LRFinder(model, optimizer, criterion, device=\"cuda\")\n",
        "lr_finder.range_test(train_loader, end_lr=100, num_iter=100, step_mode=\"exp\")\n",
        "lr_finder.plot() # to inspect the loss-learning rate graph\n",
        "lr_finder.reset() # to reset the model and optimizer to their initial state\n",
        "\n",
        "print('Min loss value is : {} \\nMin LR value is   : {}'.format(min(lr_finder.history['loss']),format(min(lr_finder.history['lr']),'.10f')))\n",
        "\n"
      ],
      "execution_count": 19,
      "outputs": [
        {
          "output_type": "display_data",
          "data": {
            "application/vnd.jupyter.widget-view+json": {
              "model_id": "7781c6e6cff149ddb9a0da8e87de7d69",
              "version_minor": 0,
              "version_major": 2
            },
            "text/plain": [
              "HBox(children=(IntProgress(value=0), HTML(value='')))"
            ]
          },
          "metadata": {
            "tags": []
          }
        },
        {
          "output_type": "stream",
          "text": [
            "Stopping early, the loss has diverged\n",
            "Learning rate search finished. See the graph with {finder_name}.plot()\n",
            "\n"
          ],
          "name": "stdout"
        },
        {
          "output_type": "display_data",
          "data": {
            "image/png": "[encoded data removed]",
            "text/plain": [
              "<Figure size 432x288 with 1 Axes>"
            ]
          },
          "metadata": {
            "tags": []
          }
        },
        {
          "output_type": "stream",
          "text": [
            "Min loss value is : 2.2281831089409105 \n",
            "Min LR value is   : 0.0001318257\n"
          ],
          "name": "stdout"
        }
      ]
    },
    {
      "cell_type": "code",
      "metadata": {
        "id": "cFi_H9wHhrI1",
        "colab_type": "code",
        "colab": {
          "base_uri": "https://localhost:8080/",
          "height": 51
        },
        "outputId": "49d7a21d-4004-4cfd-9acf-a310adc1d062"
      },
      "source": [
        "print('Min loss observed at index : {}'.format(lr_finder.history['loss'].index(min(lr_finder.history['loss']))))\n",
        "print(lr_finder.history['lr'][lr_finder.history['loss'].index(min(lr_finder.history['loss']))])"
      ],
      "execution_count": 20,
      "outputs": [
        {
          "output_type": "stream",
          "text": [
            "Min loss observed at index : 44\n",
            "0.05754399373371571\n"
          ],
          "name": "stdout"
        }
      ]
    },
    {
      "cell_type": "markdown",
      "metadata": {
        "colab_type": "text",
        "id": "GUw01MV3NQ1B"
      },
      "source": [
        "**9.1.3. LR Finder**\n",
        "\n",
        "\n",
        "*   *Increases the learning rate linearly and computes the evaluation loss for each learning rate.*\n",
        "\n"
      ]
    },
    {
      "cell_type": "code",
      "metadata": {
        "colab_type": "code",
        "id": "puNk4B5DNQ1K",
        "colab": {}
      },
      "source": [
        "from torch_lr_finder import LRFinder\n",
        "\n",
        "model = model\n",
        "criterion = nn.CrossEntropyLoss()\n",
        "optimizer = optim.SGD(model.parameters(), lr=1e-7, weight_decay=1e-2)\n",
        "lr_finder = LRFinder(model, optimizer, criterion, device=\"cuda\")\n",
        "lr_finder.range_test(train_loader, val_loader=test_loader, end_lr=50, num_iter=100, step_mode=\"linear\")\n",
        "lr_finder.plot(log_lr=False)\n",
        "lr_finder.reset()\n",
        "\n",
        "print('Min loss value is : {} \\nMin LR value is   : {}'.format(min(lr_finder.history['loss']),min(lr_finder.history['lr'])))"
      ],
      "execution_count": 0,
      "outputs": []
    },
    {
      "cell_type": "code",
      "metadata": {
        "id": "s-SgGCbORHAH",
        "colab_type": "code",
        "colab": {}
      },
      "source": [
        "lr_finder.plot(skip_end=0)\n",
        "lr_finder.history"
      ],
      "execution_count": 0,
      "outputs": []
    },
    {
      "cell_type": "markdown",
      "metadata": {
        "id": "14ZHZ_PC7G45",
        "colab_type": "text"
      },
      "source": [
        "**12. Run Train and Test**"
      ]
    },
    {
      "cell_type": "code",
      "metadata": {
        "id": "73n-xkxqHgNy",
        "colab_type": "code",
        "outputId": "7d8aa924-27d0-45c9-834c-8350b02c654b",
        "colab": {
          "base_uri": "https://localhost:8080/",
          "height": 357
        }
      },
      "source": [
        "criterion = nn.CrossEntropyLoss()\n",
        "optimizer = optim.SGD(model.parameters(), lr=0.057544,momentum=0.2)\n",
        "\n",
        "from lib import trainTestMethods\n",
        "for epoch in range(5):\n",
        "    trainTestMethods.train(model, train_loader, device, optimizer, criterion, epoch)\n",
        "    trainTestMethods.test(model, test_loader, device, criterion, epoch)"
      ],
      "execution_count": 21,
      "outputs": [
        {
          "output_type": "stream",
          "text": [
            "\n",
            "Epoch: 0\n",
            " [================================================================>]  Step: 44ms | Tot: 29s680ms | Train >> Loss: 1.614 | Acc: 41.454% (20727/50000) 391/391 \n",
            " [================================================================>]  Step: 11ms | Tot: 2s602ms | Test >> Loss: 1.706 | Acc: 43.560% (4356/10000) 79/79 \n",
            "\n",
            "Epoch: 1\n",
            " [================================================================>]  Step: 47ms | Tot: 29s680ms | Train >> Loss: 1.212 | Acc: 56.476% (28238/50000) 391/391 \n",
            " [================================================================>]  Step: 10ms | Tot: 2s645ms | Test >> Loss: 0.983 | Acc: 65.720% (6572/10000) 79/79 \n",
            "\n",
            "Epoch: 2\n",
            " [================================================================>]  Step: 47ms | Tot: 29s885ms | Train >> Loss: 1.011 | Acc: 63.846% (31923/50000) 391/391 \n",
            " [================================================================>]  Step: 10ms | Tot: 2s711ms | Test >> Loss: 1.037 | Acc: 64.970% (6497/10000) 79/79 \n",
            "\n",
            "Epoch: 3\n",
            " [================================================================>]  Step: 46ms | Tot: 30s249ms | Train >> Loss: 0.884 | Acc: 68.908% (34454/50000) 391/391 \n",
            " [================================================================>]  Step: 8ms | Tot: 2s658ms | Test >> Loss: 1.456 | Acc: 57.710% (5771/10000) 79/79 \n",
            "\n",
            "Epoch: 4\n",
            " [================================================================>]  Step: 47ms | Tot: 30s13ms | Train >> Loss: 0.795 | Acc: 72.150% (36075/50000) 391/391 \n",
            " [================================================================>]  Step: 10ms | Tot: 2s726ms | Test >> Loss: 1.614 | Acc: 59.690% (5969/10000) 79/79 \n"
          ],
          "name": "stdout"
        }
      ]
    },
    {
      "cell_type": "code",
      "metadata": {
        "id": "H0G6rQQj_rBl",
        "colab_type": "code",
        "outputId": "d42e6c50-6823-4b89-c6ad-7bca63fe4d86",
        "colab": {
          "base_uri": "https://localhost:8080/",
          "height": 357
        }
      },
      "source": [
        "for epoch in range(5,10):\n",
        "    trainTestMethods.train(model, train_loader, device, optimizer, criterion, epoch)\n",
        "    trainTestMethods.test(model, test_loader, device, criterion, epoch)"
      ],
      "execution_count": 22,
      "outputs": [
        {
          "output_type": "stream",
          "text": [
            "\n",
            "Epoch: 5\n",
            " [================================================================>]  Step: 45ms | Tot: 29s982ms | Train >> Loss: 0.723 | Acc: 74.702% (37351/50000) 391/391 \n",
            " [================================================================>]  Step: 10ms | Tot: 2s763ms | Test >> Loss: 0.663 | Acc: 78.410% (7841/10000) 79/79 \n",
            "\n",
            "Epoch: 6\n",
            " [================================================================>]  Step: 44ms | Tot: 29s973ms | Train >> Loss: 0.667 | Acc: 76.580% (38290/50000) 391/391 \n",
            " [================================================================>]  Step: 12ms | Tot: 2s735ms | Test >> Loss: 0.681 | Acc: 77.310% (7731/10000) 79/79 \n",
            "\n",
            "Epoch: 7\n",
            " [================================================================>]  Step: 44ms | Tot: 30s149ms | Train >> Loss: 0.613 | Acc: 78.486% (39243/50000) 391/391 \n",
            " [================================================================>]  Step: 10ms | Tot: 2s684ms | Test >> Loss: 0.647 | Acc: 78.860% (7886/10000) 79/79 \n",
            "\n",
            "Epoch: 8\n",
            " [================================================================>]  Step: 44ms | Tot: 30s178ms | Train >> Loss: 0.575 | Acc: 79.938% (39969/50000) 391/391 \n",
            " [================================================================>]  Step: 10ms | Tot: 2s764ms | Test >> Loss: 0.605 | Acc: 79.780% (7978/10000) 79/79 \n",
            "\n",
            "Epoch: 9\n",
            " [================================================================>]  Step: 46ms | Tot: 29s963ms | Train >> Loss: 0.542 | Acc: 80.988% (40494/50000) 391/391 \n",
            " [================================================================>]  Step: 11ms | Tot: 2s743ms | Test >> Loss: 0.625 | Acc: 80.740% (8074/10000) 79/79 \n"
          ],
          "name": "stdout"
        }
      ]
    },
    {
      "cell_type": "code",
      "metadata": {
        "id": "DVm_wr2Mvt29",
        "colab_type": "code",
        "outputId": "e2b036c4-2783-4a46-a754-62e8b6a9f18a",
        "colab": {
          "base_uri": "https://localhost:8080/",
          "height": 765
        }
      },
      "source": [
        "for epoch in range(10,21):\n",
        "    trainTestMethods.train(model, train_loader, device, optimizer, criterion, epoch)\n",
        "    trainTestMethods.test(model, test_loader, device, criterion, epoch)"
      ],
      "execution_count": 23,
      "outputs": [
        {
          "output_type": "stream",
          "text": [
            "\n",
            "Epoch: 10\n",
            " [================================================================>]  Step: 46ms | Tot: 29s701ms | Train >> Loss: 0.507 | Acc: 82.254% (41127/50000) 391/391 \n",
            " [================================================================>]  Step: 8ms | Tot: 2s669ms | Test >> Loss: 0.529 | Acc: 82.860% (8286/10000) 79/79 \n",
            "\n",
            "Epoch: 11\n",
            " [================================================================>]  Step: 46ms | Tot: 29s703ms | Train >> Loss: 0.474 | Acc: 83.404% (41702/50000) 391/391 \n",
            " [================================================================>]  Step: 9ms | Tot: 2s718ms | Test >> Loss: 0.555 | Acc: 82.480% (8248/10000) 79/79 \n",
            "\n",
            "Epoch: 12\n",
            " [================================================================>]  Step: 46ms | Tot: 29s921ms | Train >> Loss: 0.453 | Acc: 84.318% (42159/50000) 391/391 \n",
            " [================================================================>]  Step: 10ms | Tot: 2s744ms | Test >> Loss: 0.541 | Acc: 82.780% (8278/10000) 79/79 \n",
            "\n",
            "Epoch: 13\n",
            " [================================================================>]  Step: 44ms | Tot: 29s910ms | Train >> Loss: 0.439 | Acc: 84.558% (42279/50000) 391/391 \n",
            " [================================================================>]  Step: 9ms | Tot: 2s679ms | Test >> Loss: 0.595 | Acc: 81.770% (8177/10000) 79/79 \n",
            "\n",
            "Epoch: 14\n",
            " [================================================================>]  Step: 47ms | Tot: 30s52ms | Train >> Loss: 0.417 | Acc: 85.484% (42742/50000) 391/391 \n",
            " [================================================================>]  Step: 10ms | Tot: 2s695ms | Test >> Loss: 0.570 | Acc: 83.170% (8317/10000) 79/79 \n",
            "\n",
            "Epoch: 15\n",
            " [================================================================>]  Step: 46ms | Tot: 29s949ms | Train >> Loss: 0.398 | Acc: 86.034% (43017/50000) 391/391 \n",
            " [================================================================>]  Step: 14ms | Tot: 2s759ms | Test >> Loss: 0.618 | Acc: 82.730% (8273/10000) 79/79 \n",
            "\n",
            "Epoch: 16\n",
            " [================================================================>]  Step: 48ms | Tot: 29s841ms | Train >> Loss: 0.384 | Acc: 86.546% (43273/50000) 391/391 \n",
            " [================================================================>]  Step: 8ms | Tot: 2s728ms | Test >> Loss: 0.833 | Acc: 77.720% (7772/10000) 79/79 \n",
            "\n",
            "Epoch: 17\n",
            " [================================================================>]  Step: 44ms | Tot: 29s905ms | Train >> Loss: 0.364 | Acc: 87.352% (43676/50000) 391/391 \n",
            " [================================================================>]  Step: 10ms | Tot: 2s715ms | Test >> Loss: 0.556 | Acc: 83.990% (8399/10000) 79/79 \n",
            "\n",
            "Epoch: 18\n",
            " [================================================================>]  Step: 48ms | Tot: 29s840ms | Train >> Loss: 0.352 | Acc: 87.716% (43858/50000) 391/391 \n",
            " [================================================================>]  Step: 10ms | Tot: 2s685ms | Test >> Loss: 0.595 | Acc: 82.830% (8283/10000) 79/79 \n",
            "\n",
            "Epoch: 19\n",
            " [================================================================>]  Step: 44ms | Tot: 29s811ms | Train >> Loss: 0.338 | Acc: 88.242% (44121/50000) 391/391 \n",
            " [================================================================>]  Step: 10ms | Tot: 2s679ms | Test >> Loss: 0.505 | Acc: 84.990% (8499/10000) 79/79 \n",
            "\n",
            "Epoch: 20\n",
            " [================================================================>]  Step: 46ms | Tot: 29s851ms | Train >> Loss: 0.326 | Acc: 88.814% (44407/50000) 391/391 \n",
            " [================================================================>]  Step: 10ms | Tot: 2s662ms | Test >> Loss: 0.439 | Acc: 86.730% (8673/10000) 79/79 \n"
          ],
          "name": "stdout"
        }
      ]
    },
    {
      "cell_type": "code",
      "metadata": {
        "id": "3RXWewXX8Jfd",
        "colab_type": "code",
        "outputId": "a86ed36e-eeaf-40ef-94df-51130c1969b9",
        "colab": {
          "base_uri": "https://localhost:8080/",
          "height": 697
        }
      },
      "source": [
        "for epoch in range(21,31):\n",
        "    trainTestMethods.train(model, train_loader, device, optimizer, criterion, epoch)\n",
        "    trainTestMethods.test(model, test_loader, device, criterion, epoch)"
      ],
      "execution_count": 24,
      "outputs": [
        {
          "output_type": "stream",
          "text": [
            "\n",
            "Epoch: 21\n",
            " [================================================================>]  Step: 44ms | Tot: 29s970ms | Train >> Loss: 0.321 | Acc: 88.902% (44451/50000) 391/391 \n",
            " [================================================================>]  Step: 9ms | Tot: 2s715ms | Test >> Loss: 0.512 | Acc: 85.190% (8519/10000) 79/79 \n",
            "\n",
            "Epoch: 22\n",
            " [================================================================>]  Step: 44ms | Tot: 29s847ms | Train >> Loss: 0.301 | Acc: 89.476% (44738/50000) 391/391 \n",
            " [================================================================>]  Step: 8ms | Tot: 2s683ms | Test >> Loss: 0.525 | Acc: 85.510% (8551/10000) 79/79 \n",
            "\n",
            "Epoch: 23\n",
            " [================================================================>]  Step: 44ms | Tot: 29s838ms | Train >> Loss: 0.299 | Acc: 89.676% (44838/50000) 391/391 \n",
            " [================================================================>]  Step: 10ms | Tot: 2s734ms | Test >> Loss: 0.503 | Acc: 85.560% (8556/10000) 79/79 \n",
            "\n",
            "Epoch: 24\n",
            " [================================================================>]  Step: 45ms | Tot: 29s945ms | Train >> Loss: 0.292 | Acc: 89.944% (44972/50000) 391/391 \n",
            " [================================================================>]  Step: 8ms | Tot: 2s651ms | Test >> Loss: 0.582 | Acc: 83.740% (8374/10000) 79/79 \n",
            "\n",
            "Epoch: 25\n",
            " [================================================================>]  Step: 45ms | Tot: 29s995ms | Train >> Loss: 0.280 | Acc: 90.232% (45116/50000) 391/391 \n",
            " [================================================================>]  Step: 11ms | Tot: 2s747ms | Test >> Loss: 0.515 | Acc: 85.950% (8595/10000) 79/79 \n",
            "\n",
            "Epoch: 26\n",
            " [================================================================>]  Step: 45ms | Tot: 30s224ms | Train >> Loss: 0.273 | Acc: 90.508% (45254/50000) 391/391 \n",
            " [================================================================>]  Step: 9ms | Tot: 2s694ms | Test >> Loss: 0.436 | Acc: 87.290% (8729/10000) 79/79 \n",
            "\n",
            "Epoch: 27\n",
            " [================================================================>]  Step: 44ms | Tot: 30s107ms | Train >> Loss: 0.263 | Acc: 90.932% (45466/50000) 391/391 \n",
            " [================================================================>]  Step: 11ms | Tot: 2s779ms | Test >> Loss: 0.503 | Acc: 85.860% (8586/10000) 79/79 \n",
            "\n",
            "Epoch: 28\n",
            " [================================================================>]  Step: 44ms | Tot: 30s76ms | Train >> Loss: 0.262 | Acc: 90.848% (45424/50000) 391/391 \n",
            " [================================================================>]  Step: 9ms | Tot: 2s750ms | Test >> Loss: 0.431 | Acc: 87.200% (8720/10000) 79/79 \n",
            "\n",
            "Epoch: 29\n",
            " [================================================================>]  Step: 49ms | Tot: 29s977ms | Train >> Loss: 0.254 | Acc: 91.270% (45635/50000) 391/391 \n",
            " [================================================================>]  Step: 9ms | Tot: 2s756ms | Test >> Loss: 0.443 | Acc: 87.350% (8735/10000) 79/79 \n",
            "\n",
            "Epoch: 30\n",
            " [================================================================>]  Step: 46ms | Tot: 29s986ms | Train >> Loss: 0.245 | Acc: 91.634% (45817/50000) 391/391 \n",
            " [================================================================>]  Step: 11ms | Tot: 2s655ms | Test >> Loss: 0.440 | Acc: 87.480% (8748/10000) 79/79 \n"
          ],
          "name": "stdout"
        }
      ]
    },
    {
      "cell_type": "code",
      "metadata": {
        "id": "nA1L3nyE-W-W",
        "colab_type": "code",
        "outputId": "cdc4d444-d38f-421e-ff6b-4676d197779a",
        "colab": {
          "base_uri": "https://localhost:8080/",
          "height": 697
        }
      },
      "source": [
        "for epoch in range(31,41):\n",
        "    trainTestMethods.train(model, train_loader, device, optimizer, criterion, epoch)\n",
        "    trainTestMethods.test(model, test_loader, device, criterion, epoch)"
      ],
      "execution_count": 25,
      "outputs": [
        {
          "output_type": "stream",
          "text": [
            "\n",
            "Epoch: 31\n",
            " [================================================================>]  Step: 46ms | Tot: 30s15ms | Train >> Loss: 0.242 | Acc: 91.710% (45855/50000) 391/391 \n",
            " [================================================================>]  Step: 9ms | Tot: 2s685ms | Test >> Loss: 0.465 | Acc: 87.120% (8712/10000) 79/79 \n",
            "\n",
            "Epoch: 32\n",
            " [================================================================>]  Step: 44ms | Tot: 30s16ms | Train >> Loss: 0.235 | Acc: 91.720% (45860/50000) 391/391 \n",
            " [================================================================>]  Step: 15ms | Tot: 2s689ms | Test >> Loss: 0.424 | Acc: 87.860% (8786/10000) 79/79 \n",
            "\n",
            "Epoch: 33\n",
            " [================================================================>]  Step: 44ms | Tot: 29s861ms | Train >> Loss: 0.235 | Acc: 91.942% (45971/50000) 391/391 \n",
            " [================================================================>]  Step: 10ms | Tot: 2s711ms | Test >> Loss: 0.568 | Acc: 85.520% (8552/10000) 79/79 \n",
            "\n",
            "Epoch: 34\n",
            " [================================================================>]  Step: 44ms | Tot: 30s29ms | Train >> Loss: 0.228 | Acc: 91.994% (45997/50000) 391/391 \n",
            " [================================================================>]  Step: 8ms | Tot: 2s682ms | Test >> Loss: 0.459 | Acc: 87.980% (8798/10000) 79/79 \n",
            "\n",
            "Epoch: 35\n",
            " [================================================================>]  Step: 44ms | Tot: 30s19ms | Train >> Loss: 0.219 | Acc: 92.358% (46179/50000) 391/391 \n",
            " [================================================================>]  Step: 8ms | Tot: 2s797ms | Test >> Loss: 0.464 | Acc: 87.300% (8730/10000) 79/79 \n",
            "\n",
            "Epoch: 36\n",
            " [================================================================>]  Step: 45ms | Tot: 29s979ms | Train >> Loss: 0.215 | Acc: 92.492% (46246/50000) 391/391 \n",
            " [================================================================>]  Step: 9ms | Tot: 2s770ms | Test >> Loss: 0.470 | Acc: 86.610% (8661/10000) 79/79 \n",
            "\n",
            "Epoch: 37\n",
            " [================================================================>]  Step: 45ms | Tot: 30s121ms | Train >> Loss: 0.210 | Acc: 92.662% (46331/50000) 391/391 \n",
            " [================================================================>]  Step: 10ms | Tot: 2s683ms | Test >> Loss: 0.444 | Acc: 87.970% (8797/10000) 79/79 \n",
            "\n",
            "Epoch: 38\n",
            " [================================================================>]  Step: 47ms | Tot: 29s902ms | Train >> Loss: 0.210 | Acc: 92.738% (46369/50000) 391/391 \n",
            " [================================================================>]  Step: 11ms | Tot: 2s709ms | Test >> Loss: 0.415 | Acc: 88.570% (8857/10000) 79/79 \n",
            "\n",
            "Epoch: 39\n",
            " [================================================================>]  Step: 44ms | Tot: 30s11ms | Train >> Loss: 0.206 | Acc: 92.668% (46334/50000) 391/391 \n",
            " [================================================================>]  Step: 8ms | Tot: 2s769ms | Test >> Loss: 0.456 | Acc: 87.980% (8798/10000) 79/79 \n",
            "\n",
            "Epoch: 40\n",
            " [================================================================>]  Step: 45ms | Tot: 29s970ms | Train >> Loss: 0.201 | Acc: 93.052% (46526/50000) 391/391 \n",
            " [================================================================>]  Step: 11ms | Tot: 2s750ms | Test >> Loss: 0.431 | Acc: 88.740% (8874/10000) 79/79 \n"
          ],
          "name": "stdout"
        }
      ]
    },
    {
      "cell_type": "code",
      "metadata": {
        "id": "e8YP3Lr_BDXf",
        "colab_type": "code",
        "outputId": "3d294680-0cbd-436b-cb42-bddf82206e8a",
        "colab": {
          "base_uri": "https://localhost:8080/",
          "height": 969
        }
      },
      "source": [
        "for epoch in range(41,55):\n",
        "    trainTestMethods.train(model, train_loader, device, optimizer, criterion, epoch)\n",
        "    trainTestMethods.test(model, test_loader, device, criterion, epoch)"
      ],
      "execution_count": 26,
      "outputs": [
        {
          "output_type": "stream",
          "text": [
            "\n",
            "Epoch: 41\n",
            " [================================================================>]  Step: 45ms | Tot: 30s62ms | Train >> Loss: 0.191 | Acc: 93.448% (46724/50000) 391/391 \n",
            " [================================================================>]  Step: 11ms | Tot: 2s795ms | Test >> Loss: 0.432 | Acc: 88.050% (8805/10000) 79/79 \n",
            "\n",
            "Epoch: 42\n",
            " [================================================================>]  Step: 45ms | Tot: 30s147ms | Train >> Loss: 0.194 | Acc: 93.308% (46654/50000) 391/391 \n",
            " [================================================================>]  Step: 11ms | Tot: 2s722ms | Test >> Loss: 0.407 | Acc: 88.980% (8898/10000) 79/79 \n",
            "\n",
            "Epoch: 43\n",
            " [================================================================>]  Step: 44ms | Tot: 30s72ms | Train >> Loss: 0.189 | Acc: 93.330% (46665/50000) 391/391 \n",
            " [================================================================>]  Step: 10ms | Tot: 2s701ms | Test >> Loss: 0.474 | Acc: 87.220% (8722/10000) 79/79 \n",
            "\n",
            "Epoch: 44\n",
            " [================================================================>]  Step: 49ms | Tot: 30s39ms | Train >> Loss: 0.191 | Acc: 93.358% (46679/50000) 391/391 \n",
            " [================================================================>]  Step: 10ms | Tot: 2s789ms | Test >> Loss: 0.403 | Acc: 88.500% (8850/10000) 79/79 \n",
            "\n",
            "Epoch: 45\n",
            " [================================================================>]  Step: 44ms | Tot: 29s861ms | Train >> Loss: 0.184 | Acc: 93.596% (46798/50000) 391/391 \n",
            " [================================================================>]  Step: 10ms | Tot: 2s770ms | Test >> Loss: 0.436 | Acc: 88.320% (8832/10000) 79/79 \n",
            "\n",
            "Epoch: 46\n",
            " [================================================================>]  Step: 46ms | Tot: 29s805ms | Train >> Loss: 0.180 | Acc: 93.660% (46830/50000) 391/391 \n",
            " [================================================================>]  Step: 10ms | Tot: 2s707ms | Test >> Loss: 0.413 | Acc: 88.210% (8821/10000) 79/79 \n",
            "\n",
            "Epoch: 47\n",
            " [================================================================>]  Step: 47ms | Tot: 29s844ms | Train >> Loss: 0.176 | Acc: 93.874% (46937/50000) 391/391 \n",
            " [================================================================>]  Step: 11ms | Tot: 2s765ms | Test >> Loss: 0.451 | Acc: 88.600% (8860/10000) 79/79 \n",
            "\n",
            "Epoch: 48\n",
            " [================================================================>]  Step: 47ms | Tot: 30s196ms | Train >> Loss: 0.176 | Acc: 93.764% (46882/50000) 391/391 \n",
            " [================================================================>]  Step: 13ms | Tot: 2s760ms | Test >> Loss: 0.450 | Acc: 88.590% (8859/10000) 79/79 \n",
            "\n",
            "Epoch: 49\n",
            " [================================================================>]  Step: 45ms | Tot: 30s73ms | Train >> Loss: 0.172 | Acc: 94.148% (47074/50000) 391/391 \n",
            " [================================================================>]  Step: 8ms | Tot: 2s751ms | Test >> Loss: 0.445 | Acc: 88.640% (8864/10000) 79/79 \n",
            "\n",
            "Epoch: 50\n",
            " [================================================================>]  Step: 45ms | Tot: 29s934ms | Train >> Loss: 0.167 | Acc: 94.100% (47050/50000) 391/391 \n",
            " [================================================================>]  Step: 10ms | Tot: 2s734ms | Test >> Loss: 0.414 | Acc: 89.240% (8924/10000) 79/79 \n",
            "\n",
            "Epoch: 51\n",
            " [================================================================>]  Step: 49ms | Tot: 29s979ms | Train >> Loss: 0.169 | Acc: 94.062% (47031/50000) 391/391 \n",
            " [================================================================>]  Step: 9ms | Tot: 2s662ms | Test >> Loss: 0.391 | Acc: 89.350% (8935/10000) 79/79 \n",
            "\n",
            "Epoch: 52\n",
            " [================================================================>]  Step: 47ms | Tot: 30s296ms | Train >> Loss: 0.166 | Acc: 94.256% (47128/50000) 391/391 \n",
            " [================================================================>]  Step: 13ms | Tot: 2s791ms | Test >> Loss: 0.396 | Acc: 89.530% (8953/10000) 79/79 \n",
            "\n",
            "Epoch: 53\n",
            " [================================================================>]  Step: 47ms | Tot: 29s932ms | Train >> Loss: 0.163 | Acc: 94.446% (47223/50000) 391/391 \n",
            " [================================================================>]  Step: 10ms | Tot: 2s681ms | Test >> Loss: 0.488 | Acc: 87.980% (8798/10000) 79/79 \n",
            "\n",
            "Epoch: 54\n",
            " [================================================================>]  Step: 46ms | Tot: 30s64ms | Train >> Loss: 0.159 | Acc: 94.498% (47249/50000) 391/391 \n",
            " [================================================================>]  Step: 9ms | Tot: 2s831ms | Test >> Loss: 0.443 | Acc: 89.180% (8918/10000) 79/79 \n"
          ],
          "name": "stdout"
        }
      ]
    },
    {
      "cell_type": "markdown",
      "metadata": {
        "id": "RVYiU0qX7J9H",
        "colab_type": "text"
      },
      "source": [
        "**13. Grad-CAM**"
      ]
    },
    {
      "cell_type": "code",
      "metadata": {
        "id": "fe-tF1UD6LSt",
        "colab_type": "code",
        "colab": {}
      },
      "source": [
        "import os\n",
        "sys.path.append(os.path.join(homepath,'sampleImages'))\n",
        "imagename = 'dog1.jpg'\n",
        "pil_img = utObj.loadImage(os.path.join(homepath,'sampleImages'), imagename)\n",
        "pil_img.resize(size=(200,200))"
      ],
      "execution_count": 0,
      "outputs": []
    },
    {
      "cell_type": "code",
      "metadata": {
        "id": "1uqBQgw66LLw",
        "colab_type": "code",
        "colab": {}
      },
      "source": [
        "from lib.gradCam.gradcam import GradCAM, GradCAMpp\n",
        "from lib.gradCam.gradcam_utils import Normalize, visualize_cam"
      ],
      "execution_count": 0,
      "outputs": []
    },
    {
      "cell_type": "code",
      "metadata": {
        "id": "xv5-SeswoGu9",
        "colab_type": "code",
        "colab": {}
      },
      "source": [
        "normalizer = Normalize(mean=[0.485, 0.456, 0.406], std=[0.229, 0.224, 0.225])\n",
        "torch_img = torch.from_numpy(np.asarray(pil_img)).permute(2, 0, 1).unsqueeze(0).float().div(255).cuda()\n",
        "torch_img = F.upsample(torch_img, size=(32, 32), mode='bilinear', align_corners=False)\n",
        "normed_torch_img = normalizer(torch_img)"
      ],
      "execution_count": 0,
      "outputs": []
    },
    {
      "cell_type": "code",
      "metadata": {
        "id": "IRQ1lDF6kzyR",
        "colab_type": "code",
        "colab": {}
      },
      "source": [
        "resnet = model\n",
        "resnet.eval(), resnet.cuda();\n",
        "model_dict = dict(type='resnet', arch=resnet, layer_name='layer4', input_size=(32, 32))\n",
        "gradcam = GradCAM(model_dict, True)\n",
        "gradcampp = GradCAMpp(model_dict)"
      ],
      "execution_count": 0,
      "outputs": []
    },
    {
      "cell_type": "code",
      "metadata": {
        "id": "-sBj61Nrk4Xu",
        "colab_type": "code",
        "colab": {}
      },
      "source": [
        "mask, _ = gradcam(normed_torch_img)\n",
        "heatmap, result = visualize_cam(mask.cpu(), torch_img.cpu())\n",
        "\n",
        "mask_pp, _ = gradcampp(normed_torch_img)\n",
        "heatmap_pp, result_pp = visualize_cam(mask_pp.cpu(), torch_img.squeeze().cpu())"
      ],
      "execution_count": 0,
      "outputs": []
    },
    {
      "cell_type": "code",
      "metadata": {
        "id": "WjLuAdkOk7G-",
        "colab_type": "code",
        "colab": {}
      },
      "source": [
        "from torchvision.utils import make_grid\n",
        "imgs = []\n",
        "imgs.append(torch.stack([torch_img.squeeze().cpu(), heatmap, heatmap_pp, result, result_pp], 0))\n",
        "imgs = make_grid(torch.cat(imgs, 0), nrow=5)"
      ],
      "execution_count": 0,
      "outputs": []
    },
    {
      "cell_type": "code",
      "metadata": {
        "id": "Y2qlxM5hk8ve",
        "colab_type": "code",
        "colab": {}
      },
      "source": [
        "pilimg = utObj.saveimage(images = imgs, outputdirectory=os.path.join(homepath,'outputs'), imagename='dog6_gradCam.jpg')\n",
        "\n",
        "pilimg.resize((700,200))"
      ],
      "execution_count": 0,
      "outputs": []
    },
    {
      "cell_type": "code",
      "metadata": {
        "id": "SxPAatn3-Ez8",
        "colab_type": "code",
        "colab": {}
      },
      "source": [
        ""
      ],
      "execution_count": 0,
      "outputs": []
    }
  ]
}