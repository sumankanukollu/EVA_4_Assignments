{
  "nbformat": 4,
  "nbformat_minor": 0,
  "metadata": {
    "colab": {
      "name": "suman_test_CIFAR_10_EVA4_S7.ipynb",
      "provenance": [],
      "collapsed_sections": [],
      "authorship_tag": "ABX9TyNlt58oWG75ZRFyPAgYHm+U",
      "include_colab_link": true
    },
    "kernelspec": {
      "name": "python3",
      "display_name": "Python 3"
    },
    "accelerator": "GPU"
  },
  "cells": [
    {
      "cell_type": "markdown",
      "metadata": {
        "id": "view-in-github",
        "colab_type": "text"
      },
      "source": [
        "<a href=\"https://colab.research.google.com/github/sumankanukollu/EVA_4_Assignments/blob/master/suman_test_CIFAR_10_EVA4_S7.ipynb\" target=\"_parent\"><img src=\"https://colab.research.google.com/assets/colab-badge.svg\" alt=\"Open In Colab\"/></a>"
      ]
    },
    {
      "cell_type": "code",
      "metadata": {
        "id": "Lgr2kHpkNvDT",
        "colab_type": "code",
        "colab": {}
      },
      "source": [
        "import torch\n",
        "import torch.nn as nn\n",
        "import torch.nn.functional as F\n",
        "#from torch.utils.data import Dataloader as dataloader\n",
        "import torch.optim as optim\n",
        "\n",
        "import torchvision\n",
        "from torchvision import datasets,transforms\n",
        "\n",
        "from torchsummary import summary\n",
        "\n",
        "from tqdm import tqdm\n",
        "\n",
        "import  matplotlib.pyplot as plt\n",
        "%matplotlib inline\n",
        "\n",
        "from IPython.core.debugger import set_trace\n",
        "\n",
        "import numpy as np\n"
      ],
      "execution_count": 0,
      "outputs": []
    },
    {
      "cell_type": "code",
      "metadata": {
        "id": "RfUkfTJCQ1wq",
        "colab_type": "code",
        "colab": {
          "base_uri": "https://localhost:8080/",
          "height": 51
        },
        "outputId": "72563c90-7963-428d-8b73-b2a7eb86454d"
      },
      "source": [
        "# 1. Download datasets and apply transforms\n",
        "train_transformation = transforms.Compose(\n",
        "    [transforms.ToTensor(),\n",
        "     transforms.Normalize((0.5, 0.5, 0.5), (0.5, 0.5, 0.5))])\n",
        "\n",
        "test_transformation = transforms.Compose(\n",
        "    [transforms.ToTensor(),\n",
        "     transforms.Normalize((0.5, 0.5, 0.5), (0.5, 0.5, 0.5))])\n",
        "\n",
        "trainDataset = datasets.CIFAR10(root='./root',train=True,download=True,transform=train_transformation)\n",
        "\n",
        "testDataset = datasets.CIFAR10(root='./root',train=False,download=True,transform=test_transformation)\n",
        "\n",
        "#classes = ('plane', 'car', 'bird', 'cat','deer', 'dog', 'frog', 'horse', 'ship', 'truck')\n",
        "\n",
        "classes = trainDataset.classes"
      ],
      "execution_count": 2,
      "outputs": [
        {
          "output_type": "stream",
          "text": [
            "Files already downloaded and verified\n",
            "Files already downloaded and verified\n"
          ],
          "name": "stdout"
        }
      ]
    },
    {
      "cell_type": "code",
      "metadata": {
        "id": "Y64IC2at9gps",
        "colab_type": "code",
        "colab": {
          "base_uri": "https://localhost:8080/",
          "height": 102
        },
        "outputId": "94820da7-7b71-4fe6-a293-ac0b8da27f15"
      },
      "source": [
        "# Calculation of mean and var and std\n",
        "print(type(trainDataset.data))\n",
        "print(trainDataset.data.shape)\n",
        "print(np.mean(trainDataset.data))\n",
        "print(np.var(trainDataset.data))\n",
        "print(np.std(trainDataset.data))"
      ],
      "execution_count": 3,
      "outputs": [
        {
          "output_type": "stream",
          "text": [
            "<class 'numpy.ndarray'>\n",
            "(50000, 32, 32, 3)\n",
            "120.70756512369792\n",
            "4115.232236836622\n",
            "64.1500758911213\n"
          ],
          "name": "stdout"
        }
      ]
    },
    {
      "cell_type": "code",
      "metadata": {
        "id": "9QNFFJvtWsE6",
        "colab_type": "code",
        "colab": {
          "base_uri": "https://localhost:8080/",
          "height": 34
        },
        "outputId": "4f95a298-fdde-4b37-ad6c-44ddf2e7171f"
      },
      "source": [
        "SEED = 1\n",
        "# For reproducibility\n",
        "torch.manual_seed(SEED)\n",
        "\n",
        "# CUDA?\n",
        "cuda = torch.cuda.is_available()\n",
        "print(\"CUDA Available?\", cuda)\n",
        "\n",
        "\n",
        "if cuda:\n",
        "    torch.cuda.manual_seed(SEED)\n",
        "\n",
        "# dataloader arguments - something you'll fetch these from cmdprmt\n",
        "dataloader_args = dict(shuffle=True, batch_size=128, num_workers=4, pin_memory=True) if cuda else dict(shuffle=True, batch_size=128)\n",
        "\n",
        "# train dataloader\n",
        "train_loader = torch.utils.data.DataLoader(trainDataset, **dataloader_args)\n",
        "\n",
        "# test dataloader\n",
        "test_loader = torch.utils.data.DataLoader(testDataset, **dataloader_args)"
      ],
      "execution_count": 4,
      "outputs": [
        {
          "output_type": "stream",
          "text": [
            "CUDA Available? True\n"
          ],
          "name": "stdout"
        }
      ]
    },
    {
      "cell_type": "code",
      "metadata": {
        "id": "VA2iePe9fhSM",
        "colab_type": "code",
        "colab": {
          "base_uri": "https://localhost:8080/",
          "height": 291
        },
        "outputId": "16c0e52d-4b08-45a4-b7bc-99d8e521f738"
      },
      "source": [
        "import matplotlib.pyplot as plt\n",
        "import numpy as np\n",
        "\n",
        "# functions to show an image\n",
        "\n",
        "\n",
        "def imshow(img):\n",
        "    img = img / 2 + 0.5     # unnormalize\n",
        "    npimg = img.numpy()\n",
        "    plt.imshow(np.transpose(npimg, (1, 2, 0)))\n",
        "\n",
        "\n",
        "# get some random training images\n",
        "dataiter = iter(train_loader)\n",
        "images, labels = dataiter.next()\n",
        "print(len(images))\n",
        "print(trainDataset.class_to_idx)\n",
        "print(labels)\n",
        "\n",
        "# show images\n",
        "imshow(torchvision.utils.make_grid(images[:4]))\n",
        "# print labels\n",
        "print(' '.join('%10s' % classes[labels[j]] for j in range(4)))"
      ],
      "execution_count": 5,
      "outputs": [
        {
          "output_type": "stream",
          "text": [
            "128\n",
            "{'airplane': 0, 'automobile': 1, 'bird': 2, 'cat': 3, 'deer': 4, 'dog': 5, 'frog': 6, 'horse': 7, 'ship': 8, 'truck': 9}\n",
            "tensor([0, 5, 4, 4, 9, 3, 9, 9, 3, 3, 0, 7, 0, 5, 5, 4, 1, 1, 6, 1, 6, 5, 8, 3,\n",
            "        1, 6, 4, 2, 4, 2, 3, 7, 1, 3, 3, 8, 7, 0, 0, 0, 9, 0, 6, 7, 8, 4, 2, 0,\n",
            "        3, 5, 2, 9, 5, 3, 4, 5, 5, 6, 7, 6, 8, 4, 0, 9, 0, 6, 7, 6, 9, 5, 2, 5,\n",
            "        6, 9, 4, 9, 6, 1, 2, 6, 6, 2, 9, 5, 1, 1, 3, 5, 6, 5, 9, 3, 1, 1, 4, 8,\n",
            "        7, 9, 5, 9, 6, 8, 7, 7, 5, 0, 5, 4, 7, 3, 2, 6, 7, 8, 2, 0, 3, 5, 7, 2,\n",
            "        0, 2, 2, 0, 3, 3, 8, 1])\n",
            "  airplane        dog       deer       deer\n"
          ],
          "name": "stdout"
        },
        {
          "output_type": "display_data",
          "data": {
            "image/png": "[encoded data removed]",
            "text/plain": [
              "<Figure size 432x288 with 1 Axes>"
            ]
          },
          "metadata": {
            "tags": []
          }
        }
      ]
    },
    {
      "cell_type": "code",
      "metadata": {
        "id": "EyfQd3D_B46n",
        "colab_type": "code",
        "colab": {}
      },
      "source": [
        "class Net(nn.Module):\n",
        "    def __init__(self):\n",
        "        super(Net, self).__init__()\n",
        "        drpout = nn.Dropout(0.16)\n",
        "        self.conv_layer1 = nn.Sequential(\n",
        "            # Conv Layer block 1\n",
        "            nn.Conv2d(in_channels=3, out_channels=32, kernel_size=3, padding=1),\n",
        "            nn.BatchNorm2d(32),\n",
        "            nn.ReLU(),\n",
        "            drpout,\n",
        "            nn.Conv2d(in_channels=32, out_channels=64, kernel_size=3, padding=1),\n",
        "            nn.BatchNorm2d(64),\n",
        "            nn.ReLU(),\n",
        "            drpout,\n",
        "            nn.MaxPool2d(kernel_size=2, stride=2)\n",
        "        )\n",
        "        self.conv_layer2 = nn.Sequential(\n",
        "            # Conv Layer block 2\n",
        "            # Dilated conv\n",
        "            nn.Conv2d(in_channels=64, out_channels=128, kernel_size=3, padding=2,dilation=2),\n",
        "            nn.BatchNorm2d(128),\n",
        "            nn.ReLU(),\n",
        "            drpout,\n",
        "            nn.Conv2d(in_channels=128, out_channels=128, kernel_size=3, padding=1,dilation=1),\n",
        "            nn.BatchNorm2d(128),\n",
        "            nn.ReLU(),\n",
        "            drpout,\n",
        "            nn.MaxPool2d(kernel_size=2, stride=2),\n",
        "            #nn.Dropout2d(p=0.05)\n",
        "        )\n",
        "        self.conv_layer3 = nn.Sequential(\n",
        "            # Conv Layer block 3\n",
        "            # Depthwise sep Conv\n",
        "            #nn.Conv2d(in_channels=128, out_channels=256, kernel_size=3, padding=1),\n",
        "            nn.Conv2d(in_channels=128, out_channels=128, kernel_size=3, padding=1,groups=128),\n",
        "            nn.Conv2d(in_channels=128,out_channels=256,kernel_size=1),\n",
        "            nn.BatchNorm2d(256),\n",
        "            nn.ReLU(),\n",
        "            drpout,\n",
        "            nn.Conv2d(in_channels=256, out_channels=128, kernel_size=3, padding=1),\n",
        "            nn.BatchNorm2d(128),\n",
        "            nn.ReLU(),\n",
        "            drpout,\n",
        "            nn.MaxPool2d(kernel_size=2, stride=2)\n",
        "        )\n",
        "        self.conv_layer4 = nn.Sequential(\n",
        "            # Conv Layer block 4\n",
        "            nn.Conv2d(in_channels=128, out_channels=10, kernel_size=1, padding=0),\n",
        "            nn.BatchNorm2d(10),\n",
        "            nn.ReLU(),\n",
        "            #drpout,\n",
        "            #nn.Conv2d(in_channels=128, out_channels=10, kernel_size=1, padding=0),\n",
        "            #nn.ReLU()\n",
        "            nn.AvgPool2d(kernel_size=4)\n",
        "          )\n",
        "\n",
        "    def forward(self, x):\n",
        "        # conv layers\n",
        "        x = self.conv_layer1(x)\n",
        "        x = self.conv_layer2(x)\n",
        "        x = self.conv_layer3(x)\n",
        "        x = self.conv_layer4(x)\n",
        "        x = x.view(-1, 10)\n",
        "        return F.log_softmax(x, dim=-1)\n",
        "        #return x"
      ],
      "execution_count": 0,
      "outputs": []
    },
    {
      "cell_type": "code",
      "metadata": {
        "id": "0m33k-X9ZGnv",
        "colab_type": "code",
        "colab": {
          "base_uri": "https://localhost:8080/",
          "height": 986
        },
        "outputId": "82558550-90ad-476e-e017-418fe2228d2a"
      },
      "source": [
        "device = torch.device(\"cuda\" if torch.cuda.is_available() else \"cpu\")\n",
        "model = Net().to(device)\n",
        "#set_trace()\n",
        "summary(model,(3,32,32))"
      ],
      "execution_count": 7,
      "outputs": [
        {
          "output_type": "stream",
          "text": [
            "----------------------------------------------------------------\n",
            "        Layer (type)               Output Shape         Param #\n",
            "================================================================\n",
            "            Conv2d-1           [-1, 32, 32, 32]             896\n",
            "       BatchNorm2d-2           [-1, 32, 32, 32]              64\n",
            "              ReLU-3           [-1, 32, 32, 32]               0\n",
            "           Dropout-4           [-1, 32, 32, 32]               0\n",
            "           Dropout-5           [-1, 32, 32, 32]               0\n",
            "           Dropout-6           [-1, 32, 32, 32]               0\n",
            "            Conv2d-7           [-1, 64, 32, 32]          18,496\n",
            "       BatchNorm2d-8           [-1, 64, 32, 32]             128\n",
            "              ReLU-9           [-1, 64, 32, 32]               0\n",
            "          Dropout-10           [-1, 64, 32, 32]               0\n",
            "          Dropout-11           [-1, 64, 32, 32]               0\n",
            "          Dropout-12           [-1, 64, 32, 32]               0\n",
            "        MaxPool2d-13           [-1, 64, 16, 16]               0\n",
            "           Conv2d-14          [-1, 128, 16, 16]          73,856\n",
            "      BatchNorm2d-15          [-1, 128, 16, 16]             256\n",
            "             ReLU-16          [-1, 128, 16, 16]               0\n",
            "          Dropout-17          [-1, 128, 16, 16]               0\n",
            "          Dropout-18          [-1, 128, 16, 16]               0\n",
            "          Dropout-19          [-1, 128, 16, 16]               0\n",
            "           Conv2d-20          [-1, 128, 16, 16]         147,584\n",
            "      BatchNorm2d-21          [-1, 128, 16, 16]             256\n",
            "             ReLU-22          [-1, 128, 16, 16]               0\n",
            "          Dropout-23          [-1, 128, 16, 16]               0\n",
            "          Dropout-24          [-1, 128, 16, 16]               0\n",
            "          Dropout-25          [-1, 128, 16, 16]               0\n",
            "        MaxPool2d-26            [-1, 128, 8, 8]               0\n",
            "           Conv2d-27            [-1, 128, 8, 8]           1,280\n",
            "           Conv2d-28            [-1, 256, 8, 8]          33,024\n",
            "      BatchNorm2d-29            [-1, 256, 8, 8]             512\n",
            "             ReLU-30            [-1, 256, 8, 8]               0\n",
            "          Dropout-31            [-1, 256, 8, 8]               0\n",
            "          Dropout-32            [-1, 256, 8, 8]               0\n",
            "          Dropout-33            [-1, 256, 8, 8]               0\n",
            "           Conv2d-34            [-1, 128, 8, 8]         295,040\n",
            "      BatchNorm2d-35            [-1, 128, 8, 8]             256\n",
            "             ReLU-36            [-1, 128, 8, 8]               0\n",
            "          Dropout-37            [-1, 128, 8, 8]               0\n",
            "          Dropout-38            [-1, 128, 8, 8]               0\n",
            "          Dropout-39            [-1, 128, 8, 8]               0\n",
            "        MaxPool2d-40            [-1, 128, 4, 4]               0\n",
            "           Conv2d-41             [-1, 10, 4, 4]           1,290\n",
            "      BatchNorm2d-42             [-1, 10, 4, 4]              20\n",
            "             ReLU-43             [-1, 10, 4, 4]               0\n",
            "        AvgPool2d-44             [-1, 10, 1, 1]               0\n",
            "================================================================\n",
            "Total params: 572,958\n",
            "Trainable params: 572,958\n",
            "Non-trainable params: 0\n",
            "----------------------------------------------------------------\n",
            "Input size (MB): 0.01\n",
            "Forward/backward pass size (MB): 8.89\n",
            "Params size (MB): 2.19\n",
            "Estimated Total Size (MB): 11.09\n",
            "----------------------------------------------------------------\n"
          ],
          "name": "stdout"
        }
      ]
    },
    {
      "cell_type": "code",
      "metadata": {
        "id": "KzUHXP2rph2k",
        "colab_type": "code",
        "colab": {}
      },
      "source": [
        "net = Net()\n",
        "#criterion = nn.CrossEntropyLoss()\n",
        "criterion = nn.NLLLoss()\n",
        "optimizer = optim.Adam(model.parameters(), lr = 0.01)\n",
        "#optimizer = optim.SGD(model.parameters(), lr=0.01, momentum=0.5)"
      ],
      "execution_count": 0,
      "outputs": []
    },
    {
      "cell_type": "code",
      "metadata": {
        "id": "dv8ci_WcyZRH",
        "colab_type": "code",
        "colab": {
          "base_uri": "https://localhost:8080/",
          "height": 136
        },
        "outputId": "f65f6a47-0a9c-4a47-de3f-82f77df0a770"
      },
      "source": [
        "epochs= 6\n",
        "model.train()\n",
        "for epoch in range(epochs):  # loop over the dataset multiple times\n",
        "    print(epoch)\n",
        "    running_loss = 0.0\n",
        "    for i, data in enumerate(train_loader, 0):\n",
        "    #for images, labels in enumerate(train_loader):\n",
        "        # get the inputs\n",
        "        inputs, labels = data\n",
        "        inputs, labels = inputs.to(device), labels.to(device)\n",
        "\n",
        "        # zero the parameter gradients\n",
        "        optimizer.zero_grad()\n",
        "\n",
        "        # forward + backward + optimize\n",
        "        outputs = model(inputs)\n",
        "        loss = criterion(outputs, labels)\n",
        "        loss.backward()\n",
        "        optimizer.step()\n",
        "\n",
        "        # print statistics\n",
        "        running_loss += loss.item()\n",
        "        if i % 2000 == 1999:    # print every 2000 mini-batches\n",
        "            print('[%d, %5d] loss: %.3f' %\n",
        "                  (epoch + 1, i + 1, running_loss / 2000))\n",
        "            running_loss = 0.0\n",
        "\n",
        "print('Finished Training')"
      ],
      "execution_count": 10,
      "outputs": [
        {
          "output_type": "stream",
          "text": [
            "0\n",
            "1\n",
            "2\n",
            "3\n",
            "4\n",
            "5\n",
            "Finished Training\n"
          ],
          "name": "stdout"
        }
      ]
    },
    {
      "cell_type": "code",
      "metadata": {
        "id": "fS7G1_5xztK6",
        "colab_type": "code",
        "colab": {
          "base_uri": "https://localhost:8080/",
          "height": 155
        },
        "outputId": "754d508c-1555-448d-bf18-887ebdc7e56c"
      },
      "source": [
        "dataiter = iter(test_loader)\n",
        "images, labels = dataiter.next()\n",
        "\n",
        "\n",
        "# print images\n",
        "imshow(torchvision.utils.make_grid(images[:4]))\n",
        "print('GroundTruth:', ' '.join('%8s' % classes[labels[j]] for j in range(4)))"
      ],
      "execution_count": 11,
      "outputs": [
        {
          "output_type": "stream",
          "text": [
            "GroundTruth:      dog    truck     frog automobile\n"
          ],
          "name": "stdout"
        },
        {
          "output_type": "display_data",
          "data": {
            "image/png": "[encoded data removed]",
            "text/plain": [
              "<Figure size 432x288 with 1 Axes>"
            ]
          },
          "metadata": {
            "tags": []
          }
        }
      ]
    },
    {
      "cell_type": "code",
      "metadata": {
        "id": "iqnNDsC9ynRW",
        "colab_type": "code",
        "colab": {
          "base_uri": "https://localhost:8080/",
          "height": 34
        },
        "outputId": "b0f6c6db-d3e5-4ddb-804b-4783aa77a306"
      },
      "source": [
        "outputs = net(images)\n",
        "_, predicted = torch.max(outputs, 1)\n",
        "\n",
        "print('Predicted: ', ' '.join('%5s' % classes[predicted[j]]\n",
        "                              for j in range(4)))"
      ],
      "execution_count": 12,
      "outputs": [
        {
          "output_type": "stream",
          "text": [
            "Predicted:   ship truck  ship airplane\n"
          ],
          "name": "stdout"
        }
      ]
    },
    {
      "cell_type": "code",
      "metadata": {
        "id": "1ayks_Yoz5BS",
        "colab_type": "code",
        "colab": {
          "base_uri": "https://localhost:8080/",
          "height": 34
        },
        "outputId": "2fb07064-9ab6-4121-ac1c-37e255a2c360"
      },
      "source": [
        "correct = 0\n",
        "total = 0\n",
        "model.eval()\n",
        "with torch.no_grad():\n",
        "    for data in test_loader:\n",
        "        images, labels = data\n",
        "        images, labels = images.to(device), labels.to(device)\n",
        "        outputs = model(images)\n",
        "        _, predicted = torch.max(outputs.data, 1)\n",
        "        total += labels.size(0)\n",
        "        correct += (predicted == labels).sum().item()\n",
        "\n",
        "print('Accuracy of the network on the 10000 test images: %d %%' % (\n",
        "    100 * correct / total))"
      ],
      "execution_count": 13,
      "outputs": [
        {
          "output_type": "stream",
          "text": [
            "Accuracy of the network on the 10000 test images: 82 %\n"
          ],
          "name": "stdout"
        }
      ]
    },
    {
      "cell_type": "code",
      "metadata": {
        "id": "Y-6uDQ2Hz8Gj",
        "colab_type": "code",
        "colab": {
          "base_uri": "https://localhost:8080/",
          "height": 357
        },
        "outputId": "e2c27915-2c3a-49d9-dea0-067e1306ac67"
      },
      "source": [
        "class_correct = list(0. for i in range(10))\n",
        "class_total = list(0. for i in range(10))\n",
        "with torch.no_grad():\n",
        "    for data in test_loader:\n",
        "        images, labels = data\n",
        "        images, labels = images.to(device), labels.to(device)\n",
        "        outputs = model(images)\n",
        "        _, predicted = torch.max(outputs, 1)\n",
        "        c = (predicted == labels).squeeze()\n",
        "        for i in range(4):\n",
        "            label = labels[i]\n",
        "            class_correct[label] += c[i].item()\n",
        "            class_total[label] += 1\n",
        "\n",
        "\n",
        "for i in range(10):\n",
        "    print(i)\n",
        "    print('Accuracy of %5s : %2d %%' % (\n",
        "        classes[i], 100 * class_correct[i] / class_total[i]))"
      ],
      "execution_count": 14,
      "outputs": [
        {
          "output_type": "stream",
          "text": [
            "0\n",
            "Accuracy of airplane : 90 %\n",
            "1\n",
            "Accuracy of automobile : 88 %\n",
            "2\n",
            "Accuracy of  bird : 84 %\n",
            "3\n",
            "Accuracy of   cat : 85 %\n",
            "4\n",
            "Accuracy of  deer : 93 %\n",
            "5\n",
            "Accuracy of   dog : 71 %\n",
            "6\n",
            "Accuracy of  frog : 86 %\n",
            "7\n",
            "Accuracy of horse : 84 %\n",
            "8\n",
            "Accuracy of  ship : 87 %\n",
            "9\n",
            "Accuracy of truck : 88 %\n"
          ],
          "name": "stdout"
        }
      ]
    },
    {
      "cell_type": "code",
      "metadata": {
        "id": "Y5kmpf3o7QLx",
        "colab_type": "code",
        "colab": {}
      },
      "source": [
        ""
      ],
      "execution_count": 0,
      "outputs": []
    }
  ]
}